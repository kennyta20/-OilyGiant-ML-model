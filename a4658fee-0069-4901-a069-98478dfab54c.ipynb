{
 "cells": [
  {
   "cell_type": "markdown",
   "metadata": {},
   "source": [
    "# Introducción"
   ]
  },
  {
   "cell_type": "markdown",
   "metadata": {},
   "source": [
    "OilyGiant es una compañía miner que esta buscando la mejor ubicación para un nuevo pozo petrolero, con los datos disponibles de tres regiones se conocen los parámetros de cada pozo petrolero de la región. OilyGiante quiere establecer cuál de estas tres regiones puede gerenar el mayor margen de beneficio, por lo cuál se va a desarrollar un modelo de machine learning que nos permita establecer los riesgos y beneficios potenciales de cada región con el fin de determinar la región más apta para el nuevo pozo."
   ]
  },
  {
   "cell_type": "markdown",
   "metadata": {},
   "source": [
    "# Objetivos"
   ]
  },
  {
   "cell_type": "markdown",
   "metadata": {},
   "source": [
    "1.Recolectar los parámetros: calidad del petróleo y volumen de reservas.\n",
    "2.Construir un modelo para predecir el volumen de resrvas en los nuevos pozos.\n",
    "3.Seleccionar los pozos con valores estimados más altos.\n",
    "4.Elegir la región con el mayor beneficio total."
   ]
  },
  {
   "cell_type": "code",
   "execution_count": 162,
   "metadata": {},
   "outputs": [],
   "source": [
    "import pandas as pd\n",
    "import matplotlib.pyplot as plt\n",
    "import seaborn as sns\n",
    "import numpy as np\n",
    "\n",
    "from sklearn.model_selection import train_test_split\n",
    "from sklearn.linear_model import LinearRegression\n",
    "from sklearn.metrics import mean_squared_error\n",
    "from sklearn.preprocessing import StandardScaler"
   ]
  },
  {
   "cell_type": "code",
   "execution_count": 163,
   "metadata": {},
   "outputs": [],
   "source": [
    "region_1 = pd.read_csv('/datasets/geo_data_0.csv')\n",
    "region_2 = pd.read_csv('/datasets/geo_data_1.csv')\n",
    "region_3 = pd.read_csv('/datasets/geo_data_2.csv')"
   ]
  },
  {
   "cell_type": "markdown",
   "metadata": {},
   "source": [
    "# Exploración de los datasets"
   ]
  },
  {
   "cell_type": "code",
   "execution_count": 164,
   "metadata": {},
   "outputs": [
    {
     "data": {
      "text/plain": [
       "(100000, 5)"
      ]
     },
     "execution_count": 164,
     "metadata": {},
     "output_type": "execute_result"
    }
   ],
   "source": [
    "region_1.shape"
   ]
  },
  {
   "cell_type": "code",
   "execution_count": 165,
   "metadata": {},
   "outputs": [
    {
     "data": {
      "text/html": [
       "<div>\n",
       "<style scoped>\n",
       "    .dataframe tbody tr th:only-of-type {\n",
       "        vertical-align: middle;\n",
       "    }\n",
       "\n",
       "    .dataframe tbody tr th {\n",
       "        vertical-align: top;\n",
       "    }\n",
       "\n",
       "    .dataframe thead th {\n",
       "        text-align: right;\n",
       "    }\n",
       "</style>\n",
       "<table border=\"1\" class=\"dataframe\">\n",
       "  <thead>\n",
       "    <tr style=\"text-align: right;\">\n",
       "      <th></th>\n",
       "      <th>id</th>\n",
       "      <th>f0</th>\n",
       "      <th>f1</th>\n",
       "      <th>f2</th>\n",
       "      <th>product</th>\n",
       "    </tr>\n",
       "  </thead>\n",
       "  <tbody>\n",
       "    <tr>\n",
       "      <th>0</th>\n",
       "      <td>txEyH</td>\n",
       "      <td>0.705745</td>\n",
       "      <td>-0.497823</td>\n",
       "      <td>1.221170</td>\n",
       "      <td>105.280062</td>\n",
       "    </tr>\n",
       "    <tr>\n",
       "      <th>1</th>\n",
       "      <td>2acmU</td>\n",
       "      <td>1.334711</td>\n",
       "      <td>-0.340164</td>\n",
       "      <td>4.365080</td>\n",
       "      <td>73.037750</td>\n",
       "    </tr>\n",
       "    <tr>\n",
       "      <th>2</th>\n",
       "      <td>409Wp</td>\n",
       "      <td>1.022732</td>\n",
       "      <td>0.151990</td>\n",
       "      <td>1.419926</td>\n",
       "      <td>85.265647</td>\n",
       "    </tr>\n",
       "    <tr>\n",
       "      <th>3</th>\n",
       "      <td>iJLyR</td>\n",
       "      <td>-0.032172</td>\n",
       "      <td>0.139033</td>\n",
       "      <td>2.978566</td>\n",
       "      <td>168.620776</td>\n",
       "    </tr>\n",
       "    <tr>\n",
       "      <th>4</th>\n",
       "      <td>Xdl7t</td>\n",
       "      <td>1.988431</td>\n",
       "      <td>0.155413</td>\n",
       "      <td>4.751769</td>\n",
       "      <td>154.036647</td>\n",
       "    </tr>\n",
       "  </tbody>\n",
       "</table>\n",
       "</div>"
      ],
      "text/plain": [
       "      id        f0        f1        f2     product\n",
       "0  txEyH  0.705745 -0.497823  1.221170  105.280062\n",
       "1  2acmU  1.334711 -0.340164  4.365080   73.037750\n",
       "2  409Wp  1.022732  0.151990  1.419926   85.265647\n",
       "3  iJLyR -0.032172  0.139033  2.978566  168.620776\n",
       "4  Xdl7t  1.988431  0.155413  4.751769  154.036647"
      ]
     },
     "execution_count": 165,
     "metadata": {},
     "output_type": "execute_result"
    }
   ],
   "source": [
    "region_1.head()"
   ]
  },
  {
   "cell_type": "code",
   "execution_count": 166,
   "metadata": {},
   "outputs": [
    {
     "name": "stdout",
     "output_type": "stream",
     "text": [
      "<class 'pandas.core.frame.DataFrame'>\n",
      "RangeIndex: 100000 entries, 0 to 99999\n",
      "Data columns (total 5 columns):\n",
      " #   Column   Non-Null Count   Dtype  \n",
      "---  ------   --------------   -----  \n",
      " 0   id       100000 non-null  object \n",
      " 1   f0       100000 non-null  float64\n",
      " 2   f1       100000 non-null  float64\n",
      " 3   f2       100000 non-null  float64\n",
      " 4   product  100000 non-null  float64\n",
      "dtypes: float64(4), object(1)\n",
      "memory usage: 3.8+ MB\n"
     ]
    }
   ],
   "source": [
    "region_1.info()"
   ]
  },
  {
   "cell_type": "markdown",
   "metadata": {},
   "source": [
    "El conjunto de datos de la Región 0 contiene 100,000 registros sin valores nulos y cinco columnas: un identificador único (id), tres características (f0, f1, f2), y el volumen de reservas (product), que es nuestra variable objetivo. Las características y el objetivo son de tipo float64, lo cual es ideal para construir un modelo de regresión lineal. Este conjunto de datos es adecuado para el análisis y modelado sin necesidad de limpieza adicional."
   ]
  },
  {
   "cell_type": "code",
   "execution_count": 167,
   "metadata": {},
   "outputs": [
    {
     "data": {
      "text/plain": [
       "(100000, 5)"
      ]
     },
     "execution_count": 167,
     "metadata": {},
     "output_type": "execute_result"
    }
   ],
   "source": [
    "region_2.shape"
   ]
  },
  {
   "cell_type": "code",
   "execution_count": 168,
   "metadata": {},
   "outputs": [
    {
     "name": "stdout",
     "output_type": "stream",
     "text": [
      "<class 'pandas.core.frame.DataFrame'>\n",
      "RangeIndex: 100000 entries, 0 to 99999\n",
      "Data columns (total 5 columns):\n",
      " #   Column   Non-Null Count   Dtype  \n",
      "---  ------   --------------   -----  \n",
      " 0   id       100000 non-null  object \n",
      " 1   f0       100000 non-null  float64\n",
      " 2   f1       100000 non-null  float64\n",
      " 3   f2       100000 non-null  float64\n",
      " 4   product  100000 non-null  float64\n",
      "dtypes: float64(4), object(1)\n",
      "memory usage: 3.8+ MB\n",
      "None\n"
     ]
    }
   ],
   "source": [
    "\n",
    "print(region_2.info())"
   ]
  },
  {
   "cell_type": "code",
   "execution_count": 169,
   "metadata": {},
   "outputs": [
    {
     "data": {
      "text/html": [
       "<div>\n",
       "<style scoped>\n",
       "    .dataframe tbody tr th:only-of-type {\n",
       "        vertical-align: middle;\n",
       "    }\n",
       "\n",
       "    .dataframe tbody tr th {\n",
       "        vertical-align: top;\n",
       "    }\n",
       "\n",
       "    .dataframe thead th {\n",
       "        text-align: right;\n",
       "    }\n",
       "</style>\n",
       "<table border=\"1\" class=\"dataframe\">\n",
       "  <thead>\n",
       "    <tr style=\"text-align: right;\">\n",
       "      <th></th>\n",
       "      <th>id</th>\n",
       "      <th>f0</th>\n",
       "      <th>f1</th>\n",
       "      <th>f2</th>\n",
       "      <th>product</th>\n",
       "    </tr>\n",
       "  </thead>\n",
       "  <tbody>\n",
       "    <tr>\n",
       "      <th>0</th>\n",
       "      <td>kBEdx</td>\n",
       "      <td>-15.001348</td>\n",
       "      <td>-8.276000</td>\n",
       "      <td>-0.005876</td>\n",
       "      <td>3.179103</td>\n",
       "    </tr>\n",
       "    <tr>\n",
       "      <th>1</th>\n",
       "      <td>62mP7</td>\n",
       "      <td>14.272088</td>\n",
       "      <td>-3.475083</td>\n",
       "      <td>0.999183</td>\n",
       "      <td>26.953261</td>\n",
       "    </tr>\n",
       "    <tr>\n",
       "      <th>2</th>\n",
       "      <td>vyE1P</td>\n",
       "      <td>6.263187</td>\n",
       "      <td>-5.948386</td>\n",
       "      <td>5.001160</td>\n",
       "      <td>134.766305</td>\n",
       "    </tr>\n",
       "    <tr>\n",
       "      <th>3</th>\n",
       "      <td>KcrkZ</td>\n",
       "      <td>-13.081196</td>\n",
       "      <td>-11.506057</td>\n",
       "      <td>4.999415</td>\n",
       "      <td>137.945408</td>\n",
       "    </tr>\n",
       "    <tr>\n",
       "      <th>4</th>\n",
       "      <td>AHL4O</td>\n",
       "      <td>12.702195</td>\n",
       "      <td>-8.147433</td>\n",
       "      <td>5.004363</td>\n",
       "      <td>134.766305</td>\n",
       "    </tr>\n",
       "  </tbody>\n",
       "</table>\n",
       "</div>"
      ],
      "text/plain": [
       "      id         f0         f1        f2     product\n",
       "0  kBEdx -15.001348  -8.276000 -0.005876    3.179103\n",
       "1  62mP7  14.272088  -3.475083  0.999183   26.953261\n",
       "2  vyE1P   6.263187  -5.948386  5.001160  134.766305\n",
       "3  KcrkZ -13.081196 -11.506057  4.999415  137.945408\n",
       "4  AHL4O  12.702195  -8.147433  5.004363  134.766305"
      ]
     },
     "execution_count": 169,
     "metadata": {},
     "output_type": "execute_result"
    }
   ],
   "source": [
    "region_2.head()"
   ]
  },
  {
   "cell_type": "markdown",
   "metadata": {},
   "source": [
    "El conjunto de datos de la Región 1 también contiene 100,000 registros sin valores nulos y cinco columnas: un identificador único (id), tres características (f0, f1, f2), y la variable objetivo (product), que representa el volumen de reservas en miles de barriles. Todas las características y el objetivo son de tipo float64, lo cual es adecuado para entrenar un modelo de regresión lineal. Los datos están limpios y listos para su análisis y modelado, con un tamaño de 3.8 MB."
   ]
  },
  {
   "cell_type": "code",
   "execution_count": 170,
   "metadata": {},
   "outputs": [
    {
     "data": {
      "text/plain": [
       "(100000, 5)"
      ]
     },
     "execution_count": 170,
     "metadata": {},
     "output_type": "execute_result"
    }
   ],
   "source": [
    "region_3.shape"
   ]
  },
  {
   "cell_type": "code",
   "execution_count": 171,
   "metadata": {},
   "outputs": [
    {
     "data": {
      "text/html": [
       "<div>\n",
       "<style scoped>\n",
       "    .dataframe tbody tr th:only-of-type {\n",
       "        vertical-align: middle;\n",
       "    }\n",
       "\n",
       "    .dataframe tbody tr th {\n",
       "        vertical-align: top;\n",
       "    }\n",
       "\n",
       "    .dataframe thead th {\n",
       "        text-align: right;\n",
       "    }\n",
       "</style>\n",
       "<table border=\"1\" class=\"dataframe\">\n",
       "  <thead>\n",
       "    <tr style=\"text-align: right;\">\n",
       "      <th></th>\n",
       "      <th>id</th>\n",
       "      <th>f0</th>\n",
       "      <th>f1</th>\n",
       "      <th>f2</th>\n",
       "      <th>product</th>\n",
       "    </tr>\n",
       "  </thead>\n",
       "  <tbody>\n",
       "    <tr>\n",
       "      <th>0</th>\n",
       "      <td>fwXo0</td>\n",
       "      <td>-1.146987</td>\n",
       "      <td>0.963328</td>\n",
       "      <td>-0.828965</td>\n",
       "      <td>27.758673</td>\n",
       "    </tr>\n",
       "    <tr>\n",
       "      <th>1</th>\n",
       "      <td>WJtFt</td>\n",
       "      <td>0.262778</td>\n",
       "      <td>0.269839</td>\n",
       "      <td>-2.530187</td>\n",
       "      <td>56.069697</td>\n",
       "    </tr>\n",
       "    <tr>\n",
       "      <th>2</th>\n",
       "      <td>ovLUW</td>\n",
       "      <td>0.194587</td>\n",
       "      <td>0.289035</td>\n",
       "      <td>-5.586433</td>\n",
       "      <td>62.871910</td>\n",
       "    </tr>\n",
       "    <tr>\n",
       "      <th>3</th>\n",
       "      <td>q6cA6</td>\n",
       "      <td>2.236060</td>\n",
       "      <td>-0.553760</td>\n",
       "      <td>0.930038</td>\n",
       "      <td>114.572842</td>\n",
       "    </tr>\n",
       "    <tr>\n",
       "      <th>4</th>\n",
       "      <td>WPMUX</td>\n",
       "      <td>-0.515993</td>\n",
       "      <td>1.716266</td>\n",
       "      <td>5.899011</td>\n",
       "      <td>149.600746</td>\n",
       "    </tr>\n",
       "  </tbody>\n",
       "</table>\n",
       "</div>"
      ],
      "text/plain": [
       "      id        f0        f1        f2     product\n",
       "0  fwXo0 -1.146987  0.963328 -0.828965   27.758673\n",
       "1  WJtFt  0.262778  0.269839 -2.530187   56.069697\n",
       "2  ovLUW  0.194587  0.289035 -5.586433   62.871910\n",
       "3  q6cA6  2.236060 -0.553760  0.930038  114.572842\n",
       "4  WPMUX -0.515993  1.716266  5.899011  149.600746"
      ]
     },
     "execution_count": 171,
     "metadata": {},
     "output_type": "execute_result"
    }
   ],
   "source": [
    "region_3.head()"
   ]
  },
  {
   "cell_type": "code",
   "execution_count": 172,
   "metadata": {},
   "outputs": [
    {
     "name": "stdout",
     "output_type": "stream",
     "text": [
      "<class 'pandas.core.frame.DataFrame'>\n",
      "RangeIndex: 100000 entries, 0 to 99999\n",
      "Data columns (total 5 columns):\n",
      " #   Column   Non-Null Count   Dtype  \n",
      "---  ------   --------------   -----  \n",
      " 0   id       100000 non-null  object \n",
      " 1   f0       100000 non-null  float64\n",
      " 2   f1       100000 non-null  float64\n",
      " 3   f2       100000 non-null  float64\n",
      " 4   product  100000 non-null  float64\n",
      "dtypes: float64(4), object(1)\n",
      "memory usage: 3.8+ MB\n",
      "None\n"
     ]
    }
   ],
   "source": [
    "print(region_3.info())"
   ]
  },
  {
   "cell_type": "markdown",
   "metadata": {},
   "source": [
    "El conjunto de datos de la Región 2 contiene 100,000 registros completos, sin valores nulos, y cinco columnas: un identificador único (id), tres características (f0, f1, f2), y la variable objetivo (product), que representa el volumen de reservas en miles de barriles. Las características y el objetivo son de tipo float64, lo cual es ideal para el modelado de regresión lineal. Este conjunto de datos está limpio y listo para su análisis y modelado, ocupando aproximadamente 3.8 MB de memoria."
   ]
  },
  {
   "cell_type": "code",
   "execution_count": 173,
   "metadata": {},
   "outputs": [
    {
     "name": "stdout",
     "output_type": "stream",
     "text": [
      "Número de valores duplicados Región 1 : 0\n",
      "Número de valores duplicados Región 2 : 0\n",
      "Número de valores duplicados Región 3 : 0\n"
     ]
    }
   ],
   "source": [
    "list_datasets = [region_1, region_2, region_3]\n",
    "\n",
    "region_1.name = 'Región 1'\n",
    "region_2.name = 'Región 2'\n",
    "region_3.name = 'Región 3'\n",
    "\n",
    "for i in list_datasets:\n",
    "    duplicates =  i.duplicated().sum()\n",
    "    print('Número de valores duplicados', i.name, ':', duplicates)"
   ]
  },
  {
   "cell_type": "markdown",
   "metadata": {},
   "source": [
    "# Visualización de Histogramas para observar distribuciones¶"
   ]
  },
  {
   "cell_type": "markdown",
   "metadata": {},
   "source": [
    "En los tres data sets de la empresa se observa una variables discreta que es la \"id\" de cada pozo. Sin embargo, se registraron cuatro variables continuas, se va a realizar un breve análisis exploratorio de cada variable en cada una de las tres regiones, se procedera a utilizar la función hist para realizar un histograma de frecuencia de las columnas \"f0, f1, f2, y product\", la función contará con los siguientes argumentos:\n",
    "\n",
    "\n",
    "region:dataset de cada región \n",
    "\n",
    "region_name:nombre de cada región\n",
    "\n",
    "bins:número de contenedores para trazar histogramas"
   ]
  },
  {
   "cell_type": "code",
   "execution_count": 174,
   "metadata": {},
   "outputs": [],
   "source": [
    "def hist(region, region_name='', bins=0):\n",
    "    numerical_data = ['f0', 'f1', 'f2', 'product']\n",
    "    a = 2\n",
    "    b = 2\n",
    "    c = 1\n",
    "    fig = plt.subplots(figsize=(10,6))\n",
    "    for i in numerical_data:\n",
    "        plt.subplot(a, b, c)\n",
    "        plt.title(i)\n",
    "        region[i].hist(bins=bins, edgecolor = 'black', linewidth=0.8)\n",
    "        c = c + 1\n",
    "    plt.suptitle(region_name)\n",
    "    plt.tight_layout()\n",
    "    plt.show()"
   ]
  },
  {
   "cell_type": "markdown",
   "metadata": {},
   "source": [
    "# Región 1"
   ]
  },
  {
   "cell_type": "code",
   "execution_count": 175,
   "metadata": {},
   "outputs": [
    {
     "data": {
      "text/html": [
       "<div>\n",
       "<style scoped>\n",
       "    .dataframe tbody tr th:only-of-type {\n",
       "        vertical-align: middle;\n",
       "    }\n",
       "\n",
       "    .dataframe tbody tr th {\n",
       "        vertical-align: top;\n",
       "    }\n",
       "\n",
       "    .dataframe thead th {\n",
       "        text-align: right;\n",
       "    }\n",
       "</style>\n",
       "<table border=\"1\" class=\"dataframe\">\n",
       "  <thead>\n",
       "    <tr style=\"text-align: right;\">\n",
       "      <th></th>\n",
       "      <th>f0</th>\n",
       "      <th>f1</th>\n",
       "      <th>f2</th>\n",
       "      <th>product</th>\n",
       "    </tr>\n",
       "  </thead>\n",
       "  <tbody>\n",
       "    <tr>\n",
       "      <th>count</th>\n",
       "      <td>100000.000000</td>\n",
       "      <td>100000.000000</td>\n",
       "      <td>100000.000000</td>\n",
       "      <td>100000.000000</td>\n",
       "    </tr>\n",
       "    <tr>\n",
       "      <th>mean</th>\n",
       "      <td>0.500419</td>\n",
       "      <td>0.250143</td>\n",
       "      <td>2.502647</td>\n",
       "      <td>92.500000</td>\n",
       "    </tr>\n",
       "    <tr>\n",
       "      <th>std</th>\n",
       "      <td>0.871832</td>\n",
       "      <td>0.504433</td>\n",
       "      <td>3.248248</td>\n",
       "      <td>44.288691</td>\n",
       "    </tr>\n",
       "    <tr>\n",
       "      <th>min</th>\n",
       "      <td>-1.408605</td>\n",
       "      <td>-0.848218</td>\n",
       "      <td>-12.088328</td>\n",
       "      <td>0.000000</td>\n",
       "    </tr>\n",
       "    <tr>\n",
       "      <th>25%</th>\n",
       "      <td>-0.072580</td>\n",
       "      <td>-0.200881</td>\n",
       "      <td>0.287748</td>\n",
       "      <td>56.497507</td>\n",
       "    </tr>\n",
       "    <tr>\n",
       "      <th>50%</th>\n",
       "      <td>0.502360</td>\n",
       "      <td>0.250252</td>\n",
       "      <td>2.515969</td>\n",
       "      <td>91.849972</td>\n",
       "    </tr>\n",
       "    <tr>\n",
       "      <th>75%</th>\n",
       "      <td>1.073581</td>\n",
       "      <td>0.700646</td>\n",
       "      <td>4.715088</td>\n",
       "      <td>128.564089</td>\n",
       "    </tr>\n",
       "    <tr>\n",
       "      <th>max</th>\n",
       "      <td>2.362331</td>\n",
       "      <td>1.343769</td>\n",
       "      <td>16.003790</td>\n",
       "      <td>185.364347</td>\n",
       "    </tr>\n",
       "  </tbody>\n",
       "</table>\n",
       "</div>"
      ],
      "text/plain": [
       "                  f0             f1             f2        product\n",
       "count  100000.000000  100000.000000  100000.000000  100000.000000\n",
       "mean        0.500419       0.250143       2.502647      92.500000\n",
       "std         0.871832       0.504433       3.248248      44.288691\n",
       "min        -1.408605      -0.848218     -12.088328       0.000000\n",
       "25%        -0.072580      -0.200881       0.287748      56.497507\n",
       "50%         0.502360       0.250252       2.515969      91.849972\n",
       "75%         1.073581       0.700646       4.715088     128.564089\n",
       "max         2.362331       1.343769      16.003790     185.364347"
      ]
     },
     "execution_count": 175,
     "metadata": {},
     "output_type": "execute_result"
    }
   ],
   "source": [
    "region_1.describe()"
   ]
  },
  {
   "cell_type": "code",
   "execution_count": 176,
   "metadata": {},
   "outputs": [
    {
     "data": {
      "image/png": "[encoded data removed]",
      "text/plain": [
       "<Figure size 1000x600 with 4 Axes>"
      ]
     },
     "metadata": {},
     "output_type": "display_data"
    }
   ],
   "source": [
    "hist(region_1, 'Región 1', 10)"
   ]
  },
  {
   "cell_type": "markdown",
   "metadata": {},
   "source": [
    "En la región 1 se puede observar una distribución \"normal\" para las variables f0, f2 y product, se encontro un leve sesgo hacia la izquierda en las variables f0, f1 y f2 en las cuales se registra una mediana ligeramente mayor a la media. Mientras que la variable products se observa una asimetría positiva con una media mayor a la mediana, el volumen promedio de reservas de barriles es de 92.5. "
   ]
  },
  {
   "cell_type": "markdown",
   "metadata": {},
   "source": [
    "# Región 2\n"
   ]
  },
  {
   "cell_type": "code",
   "execution_count": 177,
   "metadata": {},
   "outputs": [
    {
     "data": {
      "text/html": [
       "<div>\n",
       "<style scoped>\n",
       "    .dataframe tbody tr th:only-of-type {\n",
       "        vertical-align: middle;\n",
       "    }\n",
       "\n",
       "    .dataframe tbody tr th {\n",
       "        vertical-align: top;\n",
       "    }\n",
       "\n",
       "    .dataframe thead th {\n",
       "        text-align: right;\n",
       "    }\n",
       "</style>\n",
       "<table border=\"1\" class=\"dataframe\">\n",
       "  <thead>\n",
       "    <tr style=\"text-align: right;\">\n",
       "      <th></th>\n",
       "      <th>f0</th>\n",
       "      <th>f1</th>\n",
       "      <th>f2</th>\n",
       "      <th>product</th>\n",
       "    </tr>\n",
       "  </thead>\n",
       "  <tbody>\n",
       "    <tr>\n",
       "      <th>count</th>\n",
       "      <td>100000.000000</td>\n",
       "      <td>100000.000000</td>\n",
       "      <td>100000.000000</td>\n",
       "      <td>100000.000000</td>\n",
       "    </tr>\n",
       "    <tr>\n",
       "      <th>mean</th>\n",
       "      <td>1.141296</td>\n",
       "      <td>-4.796579</td>\n",
       "      <td>2.494541</td>\n",
       "      <td>68.825000</td>\n",
       "    </tr>\n",
       "    <tr>\n",
       "      <th>std</th>\n",
       "      <td>8.965932</td>\n",
       "      <td>5.119872</td>\n",
       "      <td>1.703572</td>\n",
       "      <td>45.944423</td>\n",
       "    </tr>\n",
       "    <tr>\n",
       "      <th>min</th>\n",
       "      <td>-31.609576</td>\n",
       "      <td>-26.358598</td>\n",
       "      <td>-0.018144</td>\n",
       "      <td>0.000000</td>\n",
       "    </tr>\n",
       "    <tr>\n",
       "      <th>25%</th>\n",
       "      <td>-6.298551</td>\n",
       "      <td>-8.267985</td>\n",
       "      <td>1.000021</td>\n",
       "      <td>26.953261</td>\n",
       "    </tr>\n",
       "    <tr>\n",
       "      <th>50%</th>\n",
       "      <td>1.153055</td>\n",
       "      <td>-4.813172</td>\n",
       "      <td>2.011479</td>\n",
       "      <td>57.085625</td>\n",
       "    </tr>\n",
       "    <tr>\n",
       "      <th>75%</th>\n",
       "      <td>8.621015</td>\n",
       "      <td>-1.332816</td>\n",
       "      <td>3.999904</td>\n",
       "      <td>107.813044</td>\n",
       "    </tr>\n",
       "    <tr>\n",
       "      <th>max</th>\n",
       "      <td>29.421755</td>\n",
       "      <td>18.734063</td>\n",
       "      <td>5.019721</td>\n",
       "      <td>137.945408</td>\n",
       "    </tr>\n",
       "  </tbody>\n",
       "</table>\n",
       "</div>"
      ],
      "text/plain": [
       "                  f0             f1             f2        product\n",
       "count  100000.000000  100000.000000  100000.000000  100000.000000\n",
       "mean        1.141296      -4.796579       2.494541      68.825000\n",
       "std         8.965932       5.119872       1.703572      45.944423\n",
       "min       -31.609576     -26.358598      -0.018144       0.000000\n",
       "25%        -6.298551      -8.267985       1.000021      26.953261\n",
       "50%         1.153055      -4.813172       2.011479      57.085625\n",
       "75%         8.621015      -1.332816       3.999904     107.813044\n",
       "max        29.421755      18.734063       5.019721     137.945408"
      ]
     },
     "execution_count": 177,
     "metadata": {},
     "output_type": "execute_result"
    }
   ],
   "source": [
    "region_2.describe()"
   ]
  },
  {
   "cell_type": "code",
   "execution_count": 178,
   "metadata": {},
   "outputs": [
    {
     "data": {
      "image/png": "[encoded data removed]",
      "text/plain": [
       "<Figure size 1000x600 with 4 Axes>"
      ]
     },
     "metadata": {},
     "output_type": "display_data"
    }
   ],
   "source": [
    "hist(region_2, 'Región 2', 10)"
   ]
  },
  {
   "cell_type": "markdown",
   "metadata": {},
   "source": [
    "En la Región 2, las distribuciones de las variables f0 y f1 tienen una forma similar a una campana de Gauss, aunque presentan características distintas en cuanto a su asimetría: f0 muestra una asimetría negativa, mientras que f1 tiene una asimetría positiva. Por otro lado, la variable f2 no sigue una distribución uniforme ni normal, presentando varios picos en su gráfico y mostrando una asimetría positiva, donde la media supera a la mediana. Finalmente, la variable product se distribuye de manera uniforme en función de los diferentes volúmenes de reserva, con un promedio de reservas de 68.82 en esta región."
   ]
  },
  {
   "cell_type": "markdown",
   "metadata": {},
   "source": [
    "# Región 3"
   ]
  },
  {
   "cell_type": "code",
   "execution_count": 179,
   "metadata": {},
   "outputs": [
    {
     "data": {
      "text/html": [
       "<div>\n",
       "<style scoped>\n",
       "    .dataframe tbody tr th:only-of-type {\n",
       "        vertical-align: middle;\n",
       "    }\n",
       "\n",
       "    .dataframe tbody tr th {\n",
       "        vertical-align: top;\n",
       "    }\n",
       "\n",
       "    .dataframe thead th {\n",
       "        text-align: right;\n",
       "    }\n",
       "</style>\n",
       "<table border=\"1\" class=\"dataframe\">\n",
       "  <thead>\n",
       "    <tr style=\"text-align: right;\">\n",
       "      <th></th>\n",
       "      <th>f0</th>\n",
       "      <th>f1</th>\n",
       "      <th>f2</th>\n",
       "      <th>product</th>\n",
       "    </tr>\n",
       "  </thead>\n",
       "  <tbody>\n",
       "    <tr>\n",
       "      <th>count</th>\n",
       "      <td>100000.000000</td>\n",
       "      <td>100000.000000</td>\n",
       "      <td>100000.000000</td>\n",
       "      <td>100000.000000</td>\n",
       "    </tr>\n",
       "    <tr>\n",
       "      <th>mean</th>\n",
       "      <td>0.002023</td>\n",
       "      <td>-0.002081</td>\n",
       "      <td>2.495128</td>\n",
       "      <td>95.000000</td>\n",
       "    </tr>\n",
       "    <tr>\n",
       "      <th>std</th>\n",
       "      <td>1.732045</td>\n",
       "      <td>1.730417</td>\n",
       "      <td>3.473445</td>\n",
       "      <td>44.749921</td>\n",
       "    </tr>\n",
       "    <tr>\n",
       "      <th>min</th>\n",
       "      <td>-8.760004</td>\n",
       "      <td>-7.084020</td>\n",
       "      <td>-11.970335</td>\n",
       "      <td>0.000000</td>\n",
       "    </tr>\n",
       "    <tr>\n",
       "      <th>25%</th>\n",
       "      <td>-1.162288</td>\n",
       "      <td>-1.174820</td>\n",
       "      <td>0.130359</td>\n",
       "      <td>59.450441</td>\n",
       "    </tr>\n",
       "    <tr>\n",
       "      <th>50%</th>\n",
       "      <td>0.009424</td>\n",
       "      <td>-0.009482</td>\n",
       "      <td>2.484236</td>\n",
       "      <td>94.925613</td>\n",
       "    </tr>\n",
       "    <tr>\n",
       "      <th>75%</th>\n",
       "      <td>1.158535</td>\n",
       "      <td>1.163678</td>\n",
       "      <td>4.858794</td>\n",
       "      <td>130.595027</td>\n",
       "    </tr>\n",
       "    <tr>\n",
       "      <th>max</th>\n",
       "      <td>7.238262</td>\n",
       "      <td>7.844801</td>\n",
       "      <td>16.739402</td>\n",
       "      <td>190.029838</td>\n",
       "    </tr>\n",
       "  </tbody>\n",
       "</table>\n",
       "</div>"
      ],
      "text/plain": [
       "                  f0             f1             f2        product\n",
       "count  100000.000000  100000.000000  100000.000000  100000.000000\n",
       "mean        0.002023      -0.002081       2.495128      95.000000\n",
       "std         1.732045       1.730417       3.473445      44.749921\n",
       "min        -8.760004      -7.084020     -11.970335       0.000000\n",
       "25%        -1.162288      -1.174820       0.130359      59.450441\n",
       "50%         0.009424      -0.009482       2.484236      94.925613\n",
       "75%         1.158535       1.163678       4.858794     130.595027\n",
       "max         7.238262       7.844801      16.739402     190.029838"
      ]
     },
     "execution_count": 179,
     "metadata": {},
     "output_type": "execute_result"
    }
   ],
   "source": [
    "region_3.describe()"
   ]
  },
  {
   "cell_type": "code",
   "execution_count": 180,
   "metadata": {},
   "outputs": [
    {
     "data": {
      "image/png": "[encoded data removed]",
      "text/plain": [
       "<Figure size 1000x600 with 4 Axes>"
      ]
     },
     "metadata": {},
     "output_type": "display_data"
    }
   ],
   "source": [
    "hist(region_3, 'Región 3', 10)"
   ]
  },
  {
   "cell_type": "markdown",
   "metadata": {},
   "source": [
    "En la Región 3, las cuatro variables continuas presentan distribuciones que se asemejan a una normal. En particular, las variables f0 y f1 muestran una mínima diferencia entre sus medias y medianas, aunque ambas tienen una ligera asimetría positiva. La variable f2 también exhibe una asimetría positiva, caracterizada por una media superior a la mediana. En cuanto a la variable product, los datos muestran un ligero sesgo hacia la derecha, con un volumen promedio de 95 mil barriles para esta región."
   ]
  },
  {
   "cell_type": "markdown",
   "metadata": {},
   "source": [
    "# Análisis de correlación"
   ]
  },
  {
   "cell_type": "markdown",
   "metadata": {},
   "source": [
    "Se va a realizar un análisis de correlación con el fin de para establecer que varibles tienen mayor correlación, con nuestra variable 'product'."
   ]
  },
  {
   "cell_type": "code",
   "execution_count": 181,
   "metadata": {},
   "outputs": [
    {
     "data": {
      "text/html": [
       "<div>\n",
       "<style scoped>\n",
       "    .dataframe tbody tr th:only-of-type {\n",
       "        vertical-align: middle;\n",
       "    }\n",
       "\n",
       "    .dataframe tbody tr th {\n",
       "        vertical-align: top;\n",
       "    }\n",
       "\n",
       "    .dataframe thead th {\n",
       "        text-align: right;\n",
       "    }\n",
       "</style>\n",
       "<table border=\"1\" class=\"dataframe\">\n",
       "  <thead>\n",
       "    <tr style=\"text-align: right;\">\n",
       "      <th></th>\n",
       "      <th>f0</th>\n",
       "      <th>f1</th>\n",
       "      <th>f2</th>\n",
       "      <th>product</th>\n",
       "    </tr>\n",
       "  </thead>\n",
       "  <tbody>\n",
       "    <tr>\n",
       "      <th>f0</th>\n",
       "      <td>1.000000</td>\n",
       "      <td>-0.440723</td>\n",
       "      <td>-0.003153</td>\n",
       "      <td>0.143536</td>\n",
       "    </tr>\n",
       "    <tr>\n",
       "      <th>f1</th>\n",
       "      <td>-0.440723</td>\n",
       "      <td>1.000000</td>\n",
       "      <td>0.001724</td>\n",
       "      <td>-0.192356</td>\n",
       "    </tr>\n",
       "    <tr>\n",
       "      <th>f2</th>\n",
       "      <td>-0.003153</td>\n",
       "      <td>0.001724</td>\n",
       "      <td>1.000000</td>\n",
       "      <td>0.483663</td>\n",
       "    </tr>\n",
       "    <tr>\n",
       "      <th>product</th>\n",
       "      <td>0.143536</td>\n",
       "      <td>-0.192356</td>\n",
       "      <td>0.483663</td>\n",
       "      <td>1.000000</td>\n",
       "    </tr>\n",
       "  </tbody>\n",
       "</table>\n",
       "</div>"
      ],
      "text/plain": [
       "               f0        f1        f2   product\n",
       "f0       1.000000 -0.440723 -0.003153  0.143536\n",
       "f1      -0.440723  1.000000  0.001724 -0.192356\n",
       "f2      -0.003153  0.001724  1.000000  0.483663\n",
       "product  0.143536 -0.192356  0.483663  1.000000"
      ]
     },
     "execution_count": 181,
     "metadata": {},
     "output_type": "execute_result"
    }
   ],
   "source": [
    "region_1.corr()"
   ]
  },
  {
   "cell_type": "markdown",
   "metadata": {},
   "source": [
    "En la Región 1, se identifica una correlación positiva de moderada a fuerte entre la variable f2 y product, lo que sugiere que un aumento en f2 está asociado con un incremento en el volumen de petróleo en las reservas. Asimismo, se observa una correlación positiva, aunque de menor magnitud (moderada a baja), entre f0 y product. Por el contrario, la variable f1 presenta una correlación negativa de moderada a débil con product, indicando una relación inversa entre estas variables.\n",
    "\n",
    "Por último, se destaca una correlación negativa de moderada a fuerte entre f1 y f0, mientras que las demás correlaciones son cercanas a cero. Esto último sugiere que, aunque existen relaciones entre algunas variables, estas no son lineales en la mayoría de los casos."
   ]
  },
  {
   "cell_type": "code",
   "execution_count": 182,
   "metadata": {},
   "outputs": [
    {
     "data": {
      "text/html": [
       "<div>\n",
       "<style scoped>\n",
       "    .dataframe tbody tr th:only-of-type {\n",
       "        vertical-align: middle;\n",
       "    }\n",
       "\n",
       "    .dataframe tbody tr th {\n",
       "        vertical-align: top;\n",
       "    }\n",
       "\n",
       "    .dataframe thead th {\n",
       "        text-align: right;\n",
       "    }\n",
       "</style>\n",
       "<table border=\"1\" class=\"dataframe\">\n",
       "  <thead>\n",
       "    <tr style=\"text-align: right;\">\n",
       "      <th></th>\n",
       "      <th>f0</th>\n",
       "      <th>f1</th>\n",
       "      <th>f2</th>\n",
       "      <th>product</th>\n",
       "    </tr>\n",
       "  </thead>\n",
       "  <tbody>\n",
       "    <tr>\n",
       "      <th>f0</th>\n",
       "      <td>1.000000</td>\n",
       "      <td>0.182287</td>\n",
       "      <td>-0.001777</td>\n",
       "      <td>-0.030491</td>\n",
       "    </tr>\n",
       "    <tr>\n",
       "      <th>f1</th>\n",
       "      <td>0.182287</td>\n",
       "      <td>1.000000</td>\n",
       "      <td>-0.002595</td>\n",
       "      <td>-0.010155</td>\n",
       "    </tr>\n",
       "    <tr>\n",
       "      <th>f2</th>\n",
       "      <td>-0.001777</td>\n",
       "      <td>-0.002595</td>\n",
       "      <td>1.000000</td>\n",
       "      <td>0.999397</td>\n",
       "    </tr>\n",
       "    <tr>\n",
       "      <th>product</th>\n",
       "      <td>-0.030491</td>\n",
       "      <td>-0.010155</td>\n",
       "      <td>0.999397</td>\n",
       "      <td>1.000000</td>\n",
       "    </tr>\n",
       "  </tbody>\n",
       "</table>\n",
       "</div>"
      ],
      "text/plain": [
       "               f0        f1        f2   product\n",
       "f0       1.000000  0.182287 -0.001777 -0.030491\n",
       "f1       0.182287  1.000000 -0.002595 -0.010155\n",
       "f2      -0.001777 -0.002595  1.000000  0.999397\n",
       "product -0.030491 -0.010155  0.999397  1.000000"
      ]
     },
     "execution_count": 182,
     "metadata": {},
     "output_type": "execute_result"
    }
   ],
   "source": [
    "region_2.corr()"
   ]
  },
  {
   "cell_type": "markdown",
   "metadata": {},
   "source": [
    "En la Región 2, se identifica una correlación muy fuerte entre las variables f2 y product, con un valor de 0.999, lo que indica una relación lineal casi perfecta. Esto sugiere que un aumento en f2 está prácticamente garantizado de acompañarse por un incremento en product. Esta alta correlación podría estar relacionada con las distribuciones no normales observadas en los histogramas de frecuencias de estas variables en esta región.\n",
    "\n",
    "Por otro lado, se registra una correlación positiva de moderada a baja entre las variables f1 y f0, mientras que las demás correlaciones son cercanas a cero, indicando que no hay relaciones significativas o lineales entre esas variables."
   ]
  },
  {
   "cell_type": "code",
   "execution_count": 183,
   "metadata": {},
   "outputs": [
    {
     "data": {
      "text/html": [
       "<div>\n",
       "<style scoped>\n",
       "    .dataframe tbody tr th:only-of-type {\n",
       "        vertical-align: middle;\n",
       "    }\n",
       "\n",
       "    .dataframe tbody tr th {\n",
       "        vertical-align: top;\n",
       "    }\n",
       "\n",
       "    .dataframe thead th {\n",
       "        text-align: right;\n",
       "    }\n",
       "</style>\n",
       "<table border=\"1\" class=\"dataframe\">\n",
       "  <thead>\n",
       "    <tr style=\"text-align: right;\">\n",
       "      <th></th>\n",
       "      <th>f0</th>\n",
       "      <th>f1</th>\n",
       "      <th>f2</th>\n",
       "      <th>product</th>\n",
       "    </tr>\n",
       "  </thead>\n",
       "  <tbody>\n",
       "    <tr>\n",
       "      <th>f0</th>\n",
       "      <td>1.000000</td>\n",
       "      <td>0.000528</td>\n",
       "      <td>-0.000448</td>\n",
       "      <td>-0.001987</td>\n",
       "    </tr>\n",
       "    <tr>\n",
       "      <th>f1</th>\n",
       "      <td>0.000528</td>\n",
       "      <td>1.000000</td>\n",
       "      <td>0.000779</td>\n",
       "      <td>-0.001012</td>\n",
       "    </tr>\n",
       "    <tr>\n",
       "      <th>f2</th>\n",
       "      <td>-0.000448</td>\n",
       "      <td>0.000779</td>\n",
       "      <td>1.000000</td>\n",
       "      <td>0.445871</td>\n",
       "    </tr>\n",
       "    <tr>\n",
       "      <th>product</th>\n",
       "      <td>-0.001987</td>\n",
       "      <td>-0.001012</td>\n",
       "      <td>0.445871</td>\n",
       "      <td>1.000000</td>\n",
       "    </tr>\n",
       "  </tbody>\n",
       "</table>\n",
       "</div>"
      ],
      "text/plain": [
       "               f0        f1        f2   product\n",
       "f0       1.000000  0.000528 -0.000448 -0.001987\n",
       "f1       0.000528  1.000000  0.000779 -0.001012\n",
       "f2      -0.000448  0.000779  1.000000  0.445871\n",
       "product -0.001987 -0.001012  0.445871  1.000000"
      ]
     },
     "execution_count": 183,
     "metadata": {},
     "output_type": "execute_result"
    }
   ],
   "source": [
    "region_3.corr()"
   ]
  },
  {
   "cell_type": "markdown",
   "metadata": {},
   "source": [
    "En la Región 3, f2 muestra una correlación positiva moderada con product (0.44), indicando que mayores valores de f2 tienden a asociarse con más petróleo en los pozos. Este patrón es consistente en las tres regiones, destacando a f2 como una variable clave para el modelo. Las demás variables no presentan correlaciones lineales significativas."
   ]
  },
  {
   "cell_type": "markdown",
   "metadata": {},
   "source": [
    "# Conclusiones"
   ]
  },
  {
   "cell_type": "markdown",
   "metadata": {},
   "source": [
    "Se importaron los datasets de las tres regiones y, tras una exploración inicial, no se detectaron valores ausentes ni duplicados, y los tipos de datos fueron los adecuados, por lo que no fue necesario realizar correcciones.\n",
    "\n",
    "El análisis exploratorio de las variables numéricas mostró un comportamiento similar en las Regiones 1 y 3, ambas con un volumen promedio superior a 90 mil barriles. En contraste, la Región 2 presentó una distribución diferente, con un volumen promedio de reservas de 68 mil barriles.\n",
    "\n",
    "Además, se identificó una fuerte correlación positiva entre f2 y product en las tres regiones, siendo más alta en la Región 2. Esto confirma que f2 será una variable clave en la construcción de nuestro modelo de machine learning."
   ]
  },
  {
   "cell_type": "markdown",
   "metadata": {},
   "source": [
    "# Preparación de datos fuente"
   ]
  },
  {
   "cell_type": "markdown",
   "metadata": {},
   "source": [
    "La empresa OilyGiant tiene como objetivo desarrollar un modelo que identifique la región con el mayor margen de ganancias. Para ello, construiremos un modelo predictivo enfocado en estimar el volumen de reservas en cada región. Utilizaremos un enfoque de aprendizaje supervisado, con un objetivo de tipo numérico. Las variables explicativas serán f0, f1 y f2, mientras que la variable a predecir será product. Procederemos a preparar los datos necesarios para la construcción del modelo."
   ]
  },
  {
   "cell_type": "code",
   "execution_count": 184,
   "metadata": {},
   "outputs": [
    {
     "data": {
      "text/html": [
       "<div>\n",
       "<style scoped>\n",
       "    .dataframe tbody tr th:only-of-type {\n",
       "        vertical-align: middle;\n",
       "    }\n",
       "\n",
       "    .dataframe tbody tr th {\n",
       "        vertical-align: top;\n",
       "    }\n",
       "\n",
       "    .dataframe thead th {\n",
       "        text-align: right;\n",
       "    }\n",
       "</style>\n",
       "<table border=\"1\" class=\"dataframe\">\n",
       "  <thead>\n",
       "    <tr style=\"text-align: right;\">\n",
       "      <th></th>\n",
       "      <th>id</th>\n",
       "      <th>f0</th>\n",
       "      <th>f1</th>\n",
       "      <th>f2</th>\n",
       "      <th>product</th>\n",
       "    </tr>\n",
       "  </thead>\n",
       "  <tbody>\n",
       "    <tr>\n",
       "      <th>0</th>\n",
       "      <td>txEyH</td>\n",
       "      <td>0.705745</td>\n",
       "      <td>-0.497823</td>\n",
       "      <td>1.221170</td>\n",
       "      <td>105.280062</td>\n",
       "    </tr>\n",
       "    <tr>\n",
       "      <th>1</th>\n",
       "      <td>2acmU</td>\n",
       "      <td>1.334711</td>\n",
       "      <td>-0.340164</td>\n",
       "      <td>4.365080</td>\n",
       "      <td>73.037750</td>\n",
       "    </tr>\n",
       "    <tr>\n",
       "      <th>2</th>\n",
       "      <td>409Wp</td>\n",
       "      <td>1.022732</td>\n",
       "      <td>0.151990</td>\n",
       "      <td>1.419926</td>\n",
       "      <td>85.265647</td>\n",
       "    </tr>\n",
       "    <tr>\n",
       "      <th>3</th>\n",
       "      <td>iJLyR</td>\n",
       "      <td>-0.032172</td>\n",
       "      <td>0.139033</td>\n",
       "      <td>2.978566</td>\n",
       "      <td>168.620776</td>\n",
       "    </tr>\n",
       "    <tr>\n",
       "      <th>4</th>\n",
       "      <td>Xdl7t</td>\n",
       "      <td>1.988431</td>\n",
       "      <td>0.155413</td>\n",
       "      <td>4.751769</td>\n",
       "      <td>154.036647</td>\n",
       "    </tr>\n",
       "  </tbody>\n",
       "</table>\n",
       "</div>"
      ],
      "text/plain": [
       "      id        f0        f1        f2     product\n",
       "0  txEyH  0.705745 -0.497823  1.221170  105.280062\n",
       "1  2acmU  1.334711 -0.340164  4.365080   73.037750\n",
       "2  409Wp  1.022732  0.151990  1.419926   85.265647\n",
       "3  iJLyR -0.032172  0.139033  2.978566  168.620776\n",
       "4  Xdl7t  1.988431  0.155413  4.751769  154.036647"
      ]
     },
     "execution_count": 184,
     "metadata": {},
     "output_type": "execute_result"
    }
   ],
   "source": [
    "region_1.head()"
   ]
  },
  {
   "cell_type": "markdown",
   "metadata": {},
   "source": [
    "# Eliminación de la columna 'id'"
   ]
  },
  {
   "cell_type": "code",
   "execution_count": 185,
   "metadata": {},
   "outputs": [],
   "source": [
    "region_1 = region_1.drop('id', axis=1)\n",
    "\n",
    "region_2 = region_2.drop('id', axis=1)\n",
    "\n",
    "region_3 = region_3.drop('id', axis=1)"
   ]
  },
  {
   "cell_type": "markdown",
   "metadata": {},
   "source": [
    "# Estandarización de datos"
   ]
  },
  {
   "cell_type": "markdown",
   "metadata": {},
   "source": [
    "Procedemos a estandarizar las características numéricas para asegurar que el algoritmo no asigne mayor relevancia a una variable simplemente por la escala de sus valores. La estandarización permite que todas las características tengan igual importancia durante la ejecución del modelo, al escalar sus valores hacia una distribución con media igual a cero y desviación estándar igual a uno. Para ello, utilizaremos StandardScaler de la biblioteca Scikit-Learn, que facilita este proceso de forma eficiente."
   ]
  },
  {
   "cell_type": "code",
   "execution_count": 186,
   "metadata": {},
   "outputs": [],
   "source": [
    "numeric_data = ['f0', 'f1','f2']"
   ]
  },
  {
   "cell_type": "code",
   "execution_count": 187,
   "metadata": {},
   "outputs": [],
   "source": [
    "scaler = StandardScaler()"
   ]
  },
  {
   "cell_type": "markdown",
   "metadata": {},
   "source": [
    "# REGIÓN 1"
   ]
  },
  {
   "cell_type": "code",
   "execution_count": 188,
   "metadata": {},
   "outputs": [],
   "source": [
    "scaler.fit(region_1[numeric_data])\n",
    "region_1[numeric_data] = scaler.transform(region_1[numeric_data])"
   ]
  },
  {
   "cell_type": "code",
   "execution_count": 189,
   "metadata": {},
   "outputs": [
    {
     "data": {
      "text/html": [
       "<div>\n",
       "<style scoped>\n",
       "    .dataframe tbody tr th:only-of-type {\n",
       "        vertical-align: middle;\n",
       "    }\n",
       "\n",
       "    .dataframe tbody tr th {\n",
       "        vertical-align: top;\n",
       "    }\n",
       "\n",
       "    .dataframe thead th {\n",
       "        text-align: right;\n",
       "    }\n",
       "</style>\n",
       "<table border=\"1\" class=\"dataframe\">\n",
       "  <thead>\n",
       "    <tr style=\"text-align: right;\">\n",
       "      <th></th>\n",
       "      <th>variable_1</th>\n",
       "      <th>mean_1</th>\n",
       "      <th>std_1</th>\n",
       "    </tr>\n",
       "  </thead>\n",
       "  <tbody>\n",
       "    <tr>\n",
       "      <th>0</th>\n",
       "      <td>f0</td>\n",
       "      <td>0.0</td>\n",
       "      <td>1.0</td>\n",
       "    </tr>\n",
       "    <tr>\n",
       "      <th>1</th>\n",
       "      <td>f1</td>\n",
       "      <td>0.0</td>\n",
       "      <td>1.0</td>\n",
       "    </tr>\n",
       "    <tr>\n",
       "      <th>2</th>\n",
       "      <td>f2</td>\n",
       "      <td>0.0</td>\n",
       "      <td>1.0</td>\n",
       "    </tr>\n",
       "  </tbody>\n",
       "</table>\n",
       "</div>"
      ],
      "text/plain": [
       "  variable_1  mean_1  std_1\n",
       "0         f0     0.0    1.0\n",
       "1         f1     0.0    1.0\n",
       "2         f2     0.0    1.0"
      ]
     },
     "execution_count": 189,
     "metadata": {},
     "output_type": "execute_result"
    }
   ],
   "source": [
    "#Comprobamos la estandarización con la media y la desviación estándar de cada característica\n",
    "pd.DataFrame({\n",
    "    'variable_1': ['f0', 'f1', 'f2'],\n",
    "    'mean_1': [region_1['f0'].mean().round(),region_1['f0'].mean().round(), region_1['f0'].mean().round()],\n",
    "    'std_1': [region_1['f0'].std().round(), region_1['f0'].std().round(), region_1['f0'].std().round()]\n",
    "    \n",
    "})"
   ]
  },
  {
   "cell_type": "markdown",
   "metadata": {},
   "source": [
    "# Región 2"
   ]
  },
  {
   "cell_type": "code",
   "execution_count": 190,
   "metadata": {},
   "outputs": [],
   "source": [
    "scaler.fit(region_2[numeric_data])\n",
    "region_2[numeric_data] = scaler.transform(region_2[numeric_data])"
   ]
  },
  {
   "cell_type": "code",
   "execution_count": 191,
   "metadata": {},
   "outputs": [
    {
     "data": {
      "text/html": [
       "<div>\n",
       "<style scoped>\n",
       "    .dataframe tbody tr th:only-of-type {\n",
       "        vertical-align: middle;\n",
       "    }\n",
       "\n",
       "    .dataframe tbody tr th {\n",
       "        vertical-align: top;\n",
       "    }\n",
       "\n",
       "    .dataframe thead th {\n",
       "        text-align: right;\n",
       "    }\n",
       "</style>\n",
       "<table border=\"1\" class=\"dataframe\">\n",
       "  <thead>\n",
       "    <tr style=\"text-align: right;\">\n",
       "      <th></th>\n",
       "      <th>variable_2</th>\n",
       "      <th>mean_2</th>\n",
       "      <th>std_2</th>\n",
       "    </tr>\n",
       "  </thead>\n",
       "  <tbody>\n",
       "    <tr>\n",
       "      <th>0</th>\n",
       "      <td>f0</td>\n",
       "      <td>-0.0</td>\n",
       "      <td>1.0</td>\n",
       "    </tr>\n",
       "    <tr>\n",
       "      <th>1</th>\n",
       "      <td>f1</td>\n",
       "      <td>0.0</td>\n",
       "      <td>1.0</td>\n",
       "    </tr>\n",
       "    <tr>\n",
       "      <th>2</th>\n",
       "      <td>f2</td>\n",
       "      <td>0.0</td>\n",
       "      <td>1.0</td>\n",
       "    </tr>\n",
       "  </tbody>\n",
       "</table>\n",
       "</div>"
      ],
      "text/plain": [
       "  variable_2  mean_2  std_2\n",
       "0         f0    -0.0    1.0\n",
       "1         f1     0.0    1.0\n",
       "2         f2     0.0    1.0"
      ]
     },
     "execution_count": 191,
     "metadata": {},
     "output_type": "execute_result"
    }
   ],
   "source": [
    "#Comprobamos la estandarización con la media y la desviación estándar de cada característica\n",
    "pd.DataFrame({\n",
    "    'variable_2': ['f0', 'f1', 'f2'],\n",
    "    'mean_2': [region_2['f0'].mean().round(), region_2['f1'].mean().round(), region_2['f2'].mean().round()],\n",
    "    'std_2': [region_2['f0'].std().round(), region_2['f1'].std().round(), region_2['f2'].std().round()]\n",
    "})"
   ]
  },
  {
   "cell_type": "markdown",
   "metadata": {},
   "source": [
    "# Región 3"
   ]
  },
  {
   "cell_type": "code",
   "execution_count": 192,
   "metadata": {},
   "outputs": [],
   "source": [
    "scaler.fit(region_3[numeric_data])\n",
    "region_3[numeric_data] = scaler.transform(region_3[numeric_data])"
   ]
  },
  {
   "cell_type": "code",
   "execution_count": 193,
   "metadata": {},
   "outputs": [
    {
     "data": {
      "text/html": [
       "<div>\n",
       "<style scoped>\n",
       "    .dataframe tbody tr th:only-of-type {\n",
       "        vertical-align: middle;\n",
       "    }\n",
       "\n",
       "    .dataframe tbody tr th {\n",
       "        vertical-align: top;\n",
       "    }\n",
       "\n",
       "    .dataframe thead th {\n",
       "        text-align: right;\n",
       "    }\n",
       "</style>\n",
       "<table border=\"1\" class=\"dataframe\">\n",
       "  <thead>\n",
       "    <tr style=\"text-align: right;\">\n",
       "      <th></th>\n",
       "      <th>variable_3</th>\n",
       "      <th>mean_3</th>\n",
       "      <th>std_3</th>\n",
       "    </tr>\n",
       "  </thead>\n",
       "  <tbody>\n",
       "    <tr>\n",
       "      <th>0</th>\n",
       "      <td>f0</td>\n",
       "      <td>0.0</td>\n",
       "      <td>1.0</td>\n",
       "    </tr>\n",
       "    <tr>\n",
       "      <th>1</th>\n",
       "      <td>f1</td>\n",
       "      <td>-0.0</td>\n",
       "      <td>1.0</td>\n",
       "    </tr>\n",
       "    <tr>\n",
       "      <th>2</th>\n",
       "      <td>f2</td>\n",
       "      <td>-0.0</td>\n",
       "      <td>1.0</td>\n",
       "    </tr>\n",
       "  </tbody>\n",
       "</table>\n",
       "</div>"
      ],
      "text/plain": [
       "  variable_3  mean_3  std_3\n",
       "0         f0     0.0    1.0\n",
       "1         f1    -0.0    1.0\n",
       "2         f2    -0.0    1.0"
      ]
     },
     "execution_count": 193,
     "metadata": {},
     "output_type": "execute_result"
    }
   ],
   "source": [
    "#Comprobamos la estandarización con la media y la desviación estándar de cada característica\n",
    "pd.DataFrame({\n",
    "    'variable_3': ['f0', 'f1', 'f2'],\n",
    "    'mean_3': [region_3['f0'].mean().round(), region_3['f1'].mean().round(), region_3['f2'].mean().round()],\n",
    "    'std_3': [region_3['f0'].std().round(), region_3['f1'].std().round(), region_3['f2'].std().round()]\n",
    "})"
   ]
  },
  {
   "cell_type": "markdown",
   "metadata": {},
   "source": [
    "Las características de las tres regiones han sido correctamente estandarizadas presentado una desviación estándar de 1 y una media de 0."
   ]
  },
  {
   "cell_type": "markdown",
   "metadata": {},
   "source": [
    "# Segmentación de datos fuente"
   ]
  },
  {
   "cell_type": "markdown",
   "metadata": {},
   "source": [
    "Una vez que las características numéricas han sido estandarizadas y se han eliminado las variables no necesarias para el modelo, procederemos a segmentar los datos. Dividiremos cada dataset en dos conjuntos: uno de entrenamiento y otro de validación, utilizando una proporción recomendada de 75:25 (75% para el entrenamiento y 25% para la validación).\n",
    "\n",
    "Para facilitar esta tarea, crearemos una función llamada split_dataset. "
   ]
  },
  {
   "cell_type": "code",
   "execution_count": 194,
   "metadata": {},
   "outputs": [],
   "source": [
    "def split_dataset(region):\n",
    "    features = region.drop('product', axis=1)\n",
    "    target = region['product']\n",
    "    features_train, features_valid, target_train, target_valid =train_test_split(features,\n",
    "                                                                             target,\n",
    "                                                                             test_size=0.25,\n",
    "                                                                             random_state=12345)\n",
    "    return features_train, features_valid, target_train, target_valid"
   ]
  },
  {
   "cell_type": "markdown",
   "metadata": {},
   "source": [
    "Al crear la función split_dataset se aplicará en cada una de las regiones y el resultado las guardaremos en las variables features_train y target_train para el conjunto de entrenamiento, y en las variables features_valid y target_valid para el conjunto de validación."
   ]
  },
  {
   "cell_type": "code",
   "execution_count": 195,
   "metadata": {},
   "outputs": [
    {
     "name": "stdout",
     "output_type": "stream",
     "text": [
      "REGIÓN 1 TAMAÑO DATOS\n",
      "\n",
      "Características conjunto de entrenamiento:(75000, 3)\n",
      "Objetivo conjunto de entrenamiento: (75000,)\n",
      "Características conjunto de validación:(25000, 3)\n",
      "Objetivo conjunto de entrenamiento: (25000,)\n",
      "\n"
     ]
    }
   ],
   "source": [
    "features_train_1, features_valid_1, target_train_1, target_valid_1 = split_dataset(region_1)\n",
    "\n",
    "print(\n",
    "f'''REGIÓN 1 TAMAÑO DATOS\n",
    "\n",
    "Características conjunto de entrenamiento:{features_train_1.shape}\n",
    "Objetivo conjunto de entrenamiento: {target_train_1.shape}\n",
    "Características conjunto de validación:{features_valid_1.shape}\n",
    "Objetivo conjunto de entrenamiento: {target_valid_1.shape}\n",
    "''')"
   ]
  },
  {
   "cell_type": "code",
   "execution_count": 196,
   "metadata": {},
   "outputs": [
    {
     "name": "stdout",
     "output_type": "stream",
     "text": [
      "REGIÓN 2 TAMAÑO DATOS\n",
      "\n",
      "Características conjunto de entrenamiento:(75000, 3)\n",
      "Objetivo conjunto de entrenamiento: (75000,)\n",
      "Características conjunto de validación:(25000, 3)\n",
      "Objetivo conjunto de entrenamiento: (25000,)\n",
      "\n"
     ]
    }
   ],
   "source": [
    "features_train_2, features_valid_2, target_train_2, target_valid_2 = split_dataset(region_2)\n",
    "\n",
    "print(\n",
    "f'''REGIÓN 2 TAMAÑO DATOS\n",
    "\n",
    "Características conjunto de entrenamiento:{features_train_2.shape}\n",
    "Objetivo conjunto de entrenamiento: {target_train_2.shape}\n",
    "Características conjunto de validación:{features_valid_2.shape}\n",
    "Objetivo conjunto de entrenamiento: {target_valid_2.shape}\n",
    "''')"
   ]
  },
  {
   "cell_type": "code",
   "execution_count": 197,
   "metadata": {
    "scrolled": false
   },
   "outputs": [
    {
     "name": "stdout",
     "output_type": "stream",
     "text": [
      "REGIÓN 3 TAMAÑO DATOS\n",
      "\n",
      "Características conjunto de entrenamiento:(75000, 3)\n",
      "Objetivo conjunto de entrenamiento: (75000,)\n",
      "Características conjunto de validación:(25000, 3)\n",
      "Objetivo conjunto de entrenamiento: (25000,)\n",
      "\n"
     ]
    }
   ],
   "source": [
    "features_train_3, features_valid_3, target_train_3, target_valid_3 = split_dataset(region_3)\n",
    "\n",
    "print(\n",
    "f'''REGIÓN 3 TAMAÑO DATOS\n",
    "\n",
    "Características conjunto de entrenamiento:{features_train_3.shape}\n",
    "Objetivo conjunto de entrenamiento: {target_train_3.shape}\n",
    "Características conjunto de validación:{features_valid_3.shape}\n",
    "Objetivo conjunto de entrenamiento: {target_valid_3.shape}\n",
    "''')"
   ]
  },
  {
   "cell_type": "markdown",
   "metadata": {},
   "source": [
    "Una vez que se comprueba que el conjunto de entrenamiento presenta 75000 y el conjunto de validación 25000 en las tres regiones, esto corresponde con la proporción de 75:25 que se estableción desde un inicio. "
   ]
  },
  {
   "cell_type": "markdown",
   "metadata": {},
   "source": [
    "# Entrenamiento del modelo"
   ]
  },
  {
   "cell_type": "markdown",
   "metadata": {},
   "source": [
    "Con la segmentación de nuestros conjuntos de datos de las tres regiones, comenzamos a entrenar nuestro modelo. Utilizando un modelo de regresión lineal entrenaremos los tres conjuntos de datos."
   ]
  },
  {
   "cell_type": "code",
   "execution_count": 198,
   "metadata": {},
   "outputs": [],
   "source": [
    "def linear_regression(features_train, target_train, features_valid, target_valid):\n",
    "    model =LinearRegression()\n",
    "    model.fit(features_train, target_train)\n",
    "    \n",
    "    predictions_valid = model.predict(features_valid)\n",
    "    \n",
    "    volume_mean = predictions_valid.mean()\n",
    "    RECM = mean_squared_error(target_valid, predictions_valid)**0.5\n",
    "    R2 = model.score(features_valid, target_valid)\n",
    "    \n",
    "    return volume_mean, RECM, R2, predictions_valid\n",
    "\n"
   ]
  },
  {
   "cell_type": "code",
   "execution_count": 199,
   "metadata": {},
   "outputs": [
    {
     "name": "stdout",
     "output_type": "stream",
     "text": [
      "REGIÓN 1\n",
      "\n",
      "Volumen promedio de reservas: 92.0786\n",
      "Volumen promedio de reservas previstas: 92.5926\n",
      "RECM: 37.5794\n",
      "R2: 0.2799\n"
     ]
    }
   ],
   "source": [
    "volume_mean_1, RECM_1, R2_1, predictions_1 = linear_regression(\n",
    "features_train_1, target_train_1, features_valid_1, target_valid_1)\n",
    "\n",
    "print(\n",
    "f'''REGIÓN 1\n",
    "\n",
    "Volumen promedio de reservas: {round(target_valid_1.mean(), 4)}\n",
    "Volumen promedio de reservas previstas: {round(volume_mean_1, 4)}\n",
    "RECM: {round(RECM_1, 4)}\n",
    "R2: {round(R2_1,4)}''')"
   ]
  },
  {
   "cell_type": "code",
   "execution_count": 200,
   "metadata": {},
   "outputs": [
    {
     "name": "stdout",
     "output_type": "stream",
     "text": [
      "REGIÓN 2\n",
      "\n",
      "Volumen promedio de reservas: 68.7231\n",
      "Volumen promedio de reservas previstas: 68.7285\n",
      "RECM: 0.8931\n",
      "R2: 0.9996\n"
     ]
    }
   ],
   "source": [
    "volume_mean_2, RECM_2, R2_2, predictions_2 = linear_regression(\n",
    "features_train_2, target_train_2, features_valid_2, target_valid_2)\n",
    "\n",
    "print(\n",
    "f'''REGIÓN 2\n",
    "\n",
    "Volumen promedio de reservas: {round(target_valid_2.mean(), 4)}\n",
    "Volumen promedio de reservas previstas: {round(volume_mean_2, 4)}\n",
    "RECM: {round(RECM_2, 4)}\n",
    "R2: {round(R2_2,4)}''')"
   ]
  },
  {
   "cell_type": "code",
   "execution_count": 201,
   "metadata": {},
   "outputs": [
    {
     "name": "stdout",
     "output_type": "stream",
     "text": [
      "REGIÓN 3\n",
      "\n",
      "Volumen promedio de reservas: 94.8842\n",
      "Volumen promedio de reservas previstas: 94.965\n",
      "RECM: 40.0297\n",
      "R2: 0.2052\n"
     ]
    }
   ],
   "source": [
    "volume_mean_3, RECM_3, R2_3, predictions_3 = linear_regression(\n",
    "features_train_3, target_train_3, features_valid_3, target_valid_3)\n",
    "\n",
    "print(\n",
    "f'''REGIÓN 3\n",
    "\n",
    "Volumen promedio de reservas: {round(target_valid_3.mean(), 4)}\n",
    "Volumen promedio de reservas previstas: {round(volume_mean_3, 4)}\n",
    "RECM: {round(RECM_3, 4)}\n",
    "R2: {round(R2_3,4)}''')"
   ]
  },
  {
   "cell_type": "markdown",
   "metadata": {},
   "source": [
    "# La cantidad media de reservas estimadas para cada región"
   ]
  },
  {
   "cell_type": "markdown",
   "metadata": {},
   "source": [
    "Dada la inversión de 100 millones por 200 pozos petrolíferos, de media un pozo petrolífero debe producir al menos un valor de 500,000 dólares en unidades para evitar pérdidas (esto es equivalente a 111.1 unidades). Compara esta cantidad con la cantidad media de reservas en cada región."
   ]
  },
  {
   "cell_type": "code",
   "execution_count": 202,
   "metadata": {},
   "outputs": [],
   "source": [
    "points = 500 \n",
    "best_points = 200\n",
    "budget_200 = 100000000\n",
    "revenue_per_barril = 4.5\n",
    "revenue_per_unit = 4500"
   ]
  },
  {
   "cell_type": "markdown",
   "metadata": {},
   "source": [
    "Prosupuesto necesario de un pozo:"
   ]
  },
  {
   "cell_type": "code",
   "execution_count": 203,
   "metadata": {},
   "outputs": [
    {
     "name": "stdout",
     "output_type": "stream",
     "text": [
      "Presupuesto para desarrollar un pozo: 500000.0\n"
     ]
    }
   ],
   "source": [
    "cost_one = budget_200/best_points\n",
    "print('Presupuesto para desarrollar un pozo:', cost_one)"
   ]
  },
  {
   "cell_type": "markdown",
   "metadata": {},
   "source": [
    "Desarrollo de un nuevo pozo sin pérdida:"
   ]
  },
  {
   "cell_type": "code",
   "execution_count": 204,
   "metadata": {},
   "outputs": [
    {
     "name": "stdout",
     "output_type": "stream",
     "text": [
      "Volumen de reservas para desarrollar un nuevo pozo sin pérdida: 111.11111111111111\n"
     ]
    }
   ],
   "source": [
    "volume_one = cost_one/revenue_per_unit\n",
    "print('Volumen de reservas para desarrollar un nuevo pozo sin pérdida:', volume_one)\n"
   ]
  },
  {
   "cell_type": "code",
   "execution_count": 205,
   "metadata": {},
   "outputs": [],
   "source": [
    "cantidad_media_reservas_1 = round(region_1['product'].mean(), 3)\n"
   ]
  },
  {
   "cell_type": "code",
   "execution_count": 206,
   "metadata": {},
   "outputs": [],
   "source": [
    "cantidad_media_reservas_2 = round(region_2['product'].mean(), 3)"
   ]
  },
  {
   "cell_type": "code",
   "execution_count": 207,
   "metadata": {},
   "outputs": [],
   "source": [
    "cantidad_media_reservas_3 = round(region_3['product'].mean(), 3)"
   ]
  },
  {
   "cell_type": "code",
   "execution_count": 208,
   "metadata": {},
   "outputs": [
    {
     "name": "stdout",
     "output_type": "stream",
     "text": [
      "Cantidad media de reservas en Región 1: 92.5 unidades\n",
      "Región 1 NO cumple con el umbral de reservas necesarias para evitar pérdidas.\n",
      "Cantidad media de reservas en Región 2: 68.825 unidades\n",
      "Región 2 NO cumple con el umbral de reservas necesarias para evitar pérdidas.\n",
      "Cantidad media de reservas en Región 3: 95.0 unidades\n",
      "Región 3 NO cumple con el umbral de reservas necesarias para evitar pérdidas.\n"
     ]
    }
   ],
   "source": [
    "print (f\"Cantidad media de reservas en Región 1: {cantidad_media_reservas_1} unidades\")\n",
    "if cantidad_media_reservas_1 >= volume_one:\n",
    "    print(\"Región 1 cumple con el umbral de reservas necesarias para evitar pérdidas.\")\n",
    "else:\n",
    "    print(\"Región 1 NO cumple con el umbral de reservas necesarias para evitar pérdidas.\")\n",
    "\n",
    "print (f\"Cantidad media de reservas en Región 2: {cantidad_media_reservas_2} unidades\")\n",
    "if cantidad_media_reservas_2 >= volume_one:\n",
    "    print(\"Región 2 cumple con el umbral de reservas necesarias para evitar pérdidas.\")\n",
    "else:\n",
    "    print(\"Región 2 NO cumple con el umbral de reservas necesarias para evitar pérdidas.\")\n",
    "\n",
    "print(f\"Cantidad media de reservas en Región 3: {cantidad_media_reservas_3} unidades\")\n",
    "if cantidad_media_reservas_3 >= volume_one:\n",
    "    print(\"Región 3 cumple con el umbral de reservas necesarias para evitar pérdidas.\")\n",
    "else:\n",
    "    print(\"Región 3 NO cumple con el umbral de reservas necesarias para evitar pérdidas.\")\n"
   ]
  },
  {
   "cell_type": "markdown",
   "metadata": {},
   "source": [
    "Ninguna de las tres regiones alcanza el umbral mínimo de 111.1 unidades por pozo, necesario para cubrir los costos de inversión de 100 millones de dólares para 200 pozos y evitar pérdidas. Las regiones con mayor producción promedio son la Región 1 y la Región 3, con 92.5 y 95 unidades respectivamente, aunque ambas siguen por debajo del mínimo requerido. Esto sugiere que, en promedio, la inversión en cualquiera de estas regiones podría no ser rentable sin ajustes adicionales en los costos o un aumento en el valor de venta por unidad. Por lo tanto, se debe evaluar si una estrategia optimizada podría compensar la diferencia y asegurar un retorno aceptable."
   ]
  },
  {
   "cell_type": "markdown",
   "metadata": {},
   "source": [
    "# Cálculo de ganancias para pozos seleccionados"
   ]
  },
  {
   "cell_type": "markdown",
   "metadata": {},
   "source": [
    "Ninguna de las regiones genera el volumen promedio suficiente sin pérdidas, se calculara las ganancias de un conjunto de pozos seleccionados y modelaremos las predicciones. Vamos a crear la función revenue que con las predicciones de predictions_1, predictions_2, predictions_3, la función ordenara de forma descendente, escogiendo las predicciones con los valores más altos "
   ]
  },
  {
   "cell_type": "markdown",
   "metadata": {},
   "source": [
    "La función contará con los siguientes argumentos:\n",
    "\n",
    "target: objeto del conjunto de validación para cada región.\n",
    "predictions: predicciones realizadas por el modelo de cada región.\n",
    "count: número de pozos con los cuales se calculará el beneficio."
   ]
  },
  {
   "cell_type": "code",
   "execution_count": 209,
   "metadata": {},
   "outputs": [],
   "source": [
    "def revenue (target, predictions, count):\n",
    "    predictions_sorted = pd.Series(predictions).sort_values(ascending=False)\n",
    "    selected = target.reset_index(drop=True).iloc[predictions_sorted.index][:count]\n",
    "    volume_total = selected.sum()\n",
    "    income = volume_total * revenue_per_unit\n",
    "    cost = count * cost_one\n",
    "    return income - cost"
   ]
  },
  {
   "cell_type": "code",
   "execution_count": 210,
   "metadata": {},
   "outputs": [],
   "source": [
    "revenue_1 = revenue(target_valid_1, predictions_1, 200)\n",
    "revenue_2 = revenue(target_valid_2, predictions_2, 200)\n",
    "revenue_3 = revenue(target_valid_3, predictions_3, 200)"
   ]
  },
  {
   "cell_type": "code",
   "execution_count": 211,
   "metadata": {},
   "outputs": [
    {
     "data": {
      "text/html": [
       "<div>\n",
       "<style scoped>\n",
       "    .dataframe tbody tr th:only-of-type {\n",
       "        vertical-align: middle;\n",
       "    }\n",
       "\n",
       "    .dataframe tbody tr th {\n",
       "        vertical-align: top;\n",
       "    }\n",
       "\n",
       "    .dataframe thead th {\n",
       "        text-align: right;\n",
       "    }\n",
       "</style>\n",
       "<table border=\"1\" class=\"dataframe\">\n",
       "  <thead>\n",
       "    <tr style=\"text-align: right;\">\n",
       "      <th></th>\n",
       "      <th>region</th>\n",
       "      <th>revenue_dollar</th>\n",
       "    </tr>\n",
       "  </thead>\n",
       "  <tbody>\n",
       "    <tr>\n",
       "      <th>0</th>\n",
       "      <td>Region 1</td>\n",
       "      <td>33208260.43</td>\n",
       "    </tr>\n",
       "    <tr>\n",
       "      <th>1</th>\n",
       "      <td>Region 2</td>\n",
       "      <td>24150866.97</td>\n",
       "    </tr>\n",
       "    <tr>\n",
       "      <th>2</th>\n",
       "      <td>Region 3</td>\n",
       "      <td>27103499.64</td>\n",
       "    </tr>\n",
       "  </tbody>\n",
       "</table>\n",
       "</div>"
      ],
      "text/plain": [
       "     region  revenue_dollar\n",
       "0  Region 1     33208260.43\n",
       "1  Region 2     24150866.97\n",
       "2  Region 3     27103499.64"
      ]
     },
     "execution_count": 211,
     "metadata": {},
     "output_type": "execute_result"
    }
   ],
   "source": [
    "revenues = pd.DataFrame({\n",
    "    'region': ['Region 1', 'Region 2', 'Region 3'],\n",
    "    'revenue_dollar': [round(revenue_1, 2), round(revenue_2, 2), round(revenue_3, 2)]\n",
    "})\n",
    "revenues"
   ]
  },
  {
   "cell_type": "markdown",
   "metadata": {},
   "source": [
    "Después de aplicar la función de ganancia a las tres regiones, se puede decir que la región con más ganancia es la región 1, en base a estos resultados la mejor opción para el desarrollo de los pozos sería la 1."
   ]
  },
  {
   "cell_type": "markdown",
   "metadata": {},
   "source": [
    "# Emplear la técnica del bootstrapping con 1000 muestras para hallar la distribución de los beneficios."
   ]
  },
  {
   "cell_type": "markdown",
   "metadata": {},
   "source": [
    "Vamos a utilizar la técina de bootstraping para calcular la distribución del beneficio, con la función de bootstraping generará 1000 submuestras a partir del objetivo de validación y sus predicciones, permitiendo un cálculo más acertado de las ganacias y pérdidas de cada región."
   ]
  },
  {
   "cell_type": "code",
   "execution_count": 212,
   "metadata": {},
   "outputs": [],
   "source": [
    "def bootstrapping(target_valid, predictions, n_iterations=1000, sample_size=500, best_points=200):\n",
    "    revenues = []\n",
    "    for i in range(n_iterations):\n",
    "        sampled_indices = pd.Series(range(len(predictions))).sample(n=sample_size, replace=True)\n",
    "        sample_predictions = pd.Series(predictions).iloc[sampled_indices].reset_index(drop=True)\n",
    "        sample_target = pd.Series(target_valid).iloc[sampled_indices].reset_index(drop=True)\n",
    "        \n",
    "        best_indices = sample_predictions.nlargest(best_points).index\n",
    "        selected_targets = sample_target.iloc[best_indices]\n",
    "        \n",
    "        revenue = selected_targets.sum() * revenue_per_unit - best_points * cost_one\n",
    "        revenues.append(revenue)\n",
    "    \n",
    "    revenues_df = pd.Series(revenues)\n",
    "    mean_profit = revenues_df.mean()\n",
    "    lower_quantile = round(revenues_df.quantile(0.025), 4)\n",
    "    upper_quantile = round(revenues_df.quantile(0.975), 4)\n",
    "    \n",
    "    confidence_interval = [lower_quantile, upper_quantile]\n",
    "    loss_risk = (revenues_df < 0).mean() * 100\n",
    "    \n",
    "    return revenues_df, mean_profit, confidence_interval, loss_risk\n",
    "    "
   ]
  },
  {
   "cell_type": "markdown",
   "metadata": {},
   "source": [
    "Aplicaremos esta función a cada región, y guaradaremos los resultados en su respectiva variable, aplicaremos histogramas con el fin de mostrar la distribución de cada región"
   ]
  },
  {
   "cell_type": "code",
   "execution_count": 213,
   "metadata": {},
   "outputs": [],
   "source": [
    "revenues_1, mean_profit_1, confidence_interval_1, loss_risk_1 = bootstrapping(target_valid_1, predictions_1)\n",
    "revenues_2, mean_profit_2, confidence_interval_2, loss_risk_2 = bootstrapping(target_valid_2, predictions_2)\n",
    "revenues_3, mean_profit_3, confidence_interval_3, loss_risk_3 = bootstrapping(target_valid_3, predictions_3)"
   ]
  },
  {
   "cell_type": "code",
   "execution_count": 214,
   "metadata": {},
   "outputs": [
    {
     "data": {
      "image/png": "[encoded data removed]",
      "text/plain": [
       "<Figure size 2800x800 with 3 Axes>"
      ]
     },
     "metadata": {},
     "output_type": "display_data"
    }
   ],
   "source": [
    "fig, axis = plt.subplots(ncols=3, nrows=1, figsize=(28, 8))\n",
    "ax = axis.ravel()\n",
    "revenues_1.hist(ax=ax[0], bins=15, edgecolor = 'black', linewidth = 0.5)\n",
    "revenues_2.hist(ax=ax[1], bins=15, edgecolor = 'black', linewidth = 0.5)\n",
    "revenues_3.hist(ax=ax[2], bins=15, edgecolor = 'black', linewidth = 0.5)\n",
    "\n",
    "ax[0].set_title('Región 1')\n",
    "\n",
    "ax[1].set_title('Región 2')\n",
    "\n",
    "ax[2].set_title('Región 3')\n",
    "\n",
    "\n",
    "ax[0].axvline(x=0, color='r', ls='--')\n",
    "ax[1].axvline(x=0, color='r', ls='--')\n",
    "ax[2].axvline(x=0, color='r', ls='--')\n",
    "\n",
    "plt.suptitle('Distribución de ganancias por región', size='xx-large')\n",
    "plt.show()"
   ]
  },
  {
   "cell_type": "markdown",
   "metadata": {},
   "source": [
    "Al analizar los histogramas, podemos observar que la región 1 y 3 presentaron un mayor número de submuestras con ganancias negativas, mientras que en la región 1 se registraron menos submuestras con pérdidas, también cabe recalcar que en la región 2 y 3 se presentaron se indicaron picos más altos que indica un mayor número de submuestras con ganancias. "
   ]
  },
  {
   "cell_type": "code",
   "execution_count": 215,
   "metadata": {},
   "outputs": [
    {
     "data": {
      "text/html": [
       "<div>\n",
       "<style scoped>\n",
       "    .dataframe tbody tr th:only-of-type {\n",
       "        vertical-align: middle;\n",
       "    }\n",
       "\n",
       "    .dataframe tbody tr th {\n",
       "        vertical-align: top;\n",
       "    }\n",
       "\n",
       "    .dataframe thead th {\n",
       "        text-align: right;\n",
       "    }\n",
       "</style>\n",
       "<table border=\"1\" class=\"dataframe\">\n",
       "  <thead>\n",
       "    <tr style=\"text-align: right;\">\n",
       "      <th></th>\n",
       "      <th>region</th>\n",
       "      <th>mean_revenue</th>\n",
       "      <th>lower_confidence_interval_95%</th>\n",
       "      <th>upper_confidence_interval_95%</th>\n",
       "      <th>loss_risk_%</th>\n",
       "    </tr>\n",
       "  </thead>\n",
       "  <tbody>\n",
       "    <tr>\n",
       "      <th>0</th>\n",
       "      <td>Región 1</td>\n",
       "      <td>3780281.36</td>\n",
       "      <td>-1274494.746</td>\n",
       "      <td>8902264.017</td>\n",
       "      <td>9.0</td>\n",
       "    </tr>\n",
       "    <tr>\n",
       "      <th>1</th>\n",
       "      <td>Región 2</td>\n",
       "      <td>4537342.58</td>\n",
       "      <td>366988.067</td>\n",
       "      <td>8539517.444</td>\n",
       "      <td>2.0</td>\n",
       "    </tr>\n",
       "    <tr>\n",
       "      <th>2</th>\n",
       "      <td>Región 3</td>\n",
       "      <td>3873315.67</td>\n",
       "      <td>-1350100.026</td>\n",
       "      <td>9157388.078</td>\n",
       "      <td>6.9</td>\n",
       "    </tr>\n",
       "  </tbody>\n",
       "</table>\n",
       "</div>"
      ],
      "text/plain": [
       "     region  mean_revenue  lower_confidence_interval_95%  \\\n",
       "0  Región 1    3780281.36                   -1274494.746   \n",
       "1  Región 2    4537342.58                     366988.067   \n",
       "2  Región 3    3873315.67                   -1350100.026   \n",
       "\n",
       "   upper_confidence_interval_95%  loss_risk_%  \n",
       "0                    8902264.017          9.0  \n",
       "1                    8539517.444          2.0  \n",
       "2                    9157388.078          6.9  "
      ]
     },
     "execution_count": 215,
     "metadata": {},
     "output_type": "execute_result"
    }
   ],
   "source": [
    "revenues_boots = pd.DataFrame({\n",
    "    'region': ['Región 1', 'Región 2', 'Región 3'],\n",
    "    'mean_revenue': [round(mean_profit_1, 2),\n",
    "                     round(mean_profit_2, 2),\n",
    "                     round(mean_profit_3, 2)],\n",
    "    'lower_confidence_interval_95%': [round(confidence_interval_1[0],3),\n",
    "                                      round(confidence_interval_2[0],3),\n",
    "                                      round(confidence_interval_3[0],3)],\n",
    "    'upper_confidence_interval_95%': [round(confidence_interval_1[1],3),\n",
    "                                      round(confidence_interval_2[1],3),\n",
    "                                      round(confidence_interval_3[1],3)],\n",
    "    'loss_risk_%' : [loss_risk_1, loss_risk_2, loss_risk_3]\n",
    "\n",
    "})\n",
    "\n",
    "revenues_boots"
   ]
  },
  {
   "cell_type": "markdown",
   "metadata": {},
   "source": [
    "El beneficio promedio mayor se registra para la Región 2 con 4.5 millones de dólares de ganancias, seguida de la 3 con 3.8 milliones y por último la 1 con 3.7 millones.\n",
    "Los intervalos de confianza, del 95%, las regiones 1 y 3 presentan un intervalo inferior negativo lo que confirma lo que se puede observar en los histogramas de frecuencias, esas dos regiones generaron mayor número de ganancias negativas.\n",
    "\n",
    "En el análisis del intervalo superior, se observa que las regiones 1 y 3 presentaron los valores más altos para el percentil 97.5, lo que sugiere que, aunque algunas submuestras reflejan pérdidas, lograron obtener ganancias superiores a los 9 millones de dólares en ciertos escenarios.\n",
    "\n",
    "En cuanto al análisis del riesgo de pérdida, la Región 2 mostró el menor porcentaje de ganancias negativas, con un riesgo de apenas 1.5%. Por otro lado, las regiones 1 y 3 presentaron riesgos significativamente mayores, con porcentajes de 9% y 6.9%, respectivamente.\n",
    "\n",
    "Con base en estos resultados, se concluye que la REGIÓN 2 es la opción más favorable para el desarrollo de nuevos pozos. Esto se debe a que combina el beneficio promedio más alto entre las tres regiones con el nivel más bajo de riesgo de pérdidas, representando así una decisión estratégica ventajosa para OilyGiant."
   ]
  },
  {
   "cell_type": "markdown",
   "metadata": {},
   "source": [
    "# Conclusiones"
   ]
  },
  {
   "cell_type": "markdown",
   "metadata": {},
   "source": [
    "Preprocesamiento de datos:\n",
    "\n",
    "Se analizaron los datos de tres regiones para identificar aquella con el mayor margen de beneficio. No se detectaron valores faltantes ni duplicados en los datasets, y los tipos de datos eran correctos, por lo que no fue necesario realizar modificaciones.\n",
    "\n",
    "Al examinar la distribución de las variables numéricas, se observó que las regiones 1 y 3 tenían distribuciones similares, con una ligera tendencia hacia la normalidad y un volumen promedio de crudo superior a 90,000 barriles. En contraste, la Región 2 mostró patrones de distribución diferentes y un menor volumen de producto.\n",
    "\n",
    "Asimismo, se identificó una correlación positiva alta entre la variable f2 y el volumen de producto en los datos analizados."
   ]
  },
  {
   "cell_type": "markdown",
   "metadata": {},
   "source": [
    "Modelo de Regresión Lineal\n",
    "\n",
    "Para construir el modelo, se eliminó la columna que contenía el identificador único de cada pozo, ya que no aportaba información relevante para predecir el volumen de producto. Se seleccionaron tres variables clave en los tres datasets para el modelo predictivo, las cuales fueron previamente estandarizadas.\n",
    "\n",
    "Los datos de cada región se dividieron en conjuntos de entrenamiento y validación con una proporción del 75:25. Se definieron como características las variables f0, f1 y f2, y como objetivo, la variable product. Posteriormente, se desarrolló un modelo de regresión lineal para cada región, empleando una función que calculó el RMSE, el coeficiente de determinación (R²) y el volumen promedio previsto para las tres regiones.\n",
    "\n",
    "Mejor Modelo: Entre los tres modelos, el de la REGIÓN 2 destacó por tener el menor error (RMSE) y el coeficiente de determinación (R²) más alto, lo que indica un mejor ajuste. Sin embargo, las regiones 1 y 3 mostraron un volumen promedio previsto más elevado."
   ]
  },
  {
   "cell_type": "markdown",
   "metadata": {},
   "source": [
    "Margen de Beneficio por Región\n",
    "\n",
    "Con base en las consideraciones de OilyGiant para calcular el beneficio, se determinó que cada pozo debe producir un mínimo de 111,110 barriles para evitar pérdidas, considerando un costo de desarrollo de $500,000 por pozo. Al analizar los volúmenes promedio por región, se encontró que ninguna alcanza este umbral; el volumen promedio más alto corresponde a la Región 3, con 95,000 barriles.\n",
    "\n",
    "Se desarrolló una función para calcular las ganancias en las 200 mejores ubicaciones con los volúmenes previstos más altos. En este análisis, la Región 1 destacó al generar las ganancias más altas, alcanzando los $33 millones. Las regiones 2 y 3 tuvieron ingresos inferiores, quedando por debajo de los $30 millones en ambos casos.\n",
    "\n",
    "Utilizando la técnica de bootstrapping con 1,000 submuestras de tamaño 500 y considerando los 200 mejores pozos en cada submuestra, se concluyó que la REGIÓN 2 es la más adecuada para el desarrollo de pozos. Esta región registró un beneficio promedio de $4.5 millones y el menor riesgo de pérdida, con solo un 1.5%. Aunque tiene un menor volumen promedio de producto, es la región que generará mayores ganancias, cuenta con el modelo predictivo más preciso y obtuvo los mejores resultados al aplicar la metodología de exploración y análisis de 500 puntos que utiliza OilyGiant."
   ]
  }
 ],
 "metadata": {
  "ExecuteTimeLog": [
   {
    "duration": 354,
    "start_time": "2024-11-07T02:06:42.827Z"
   },
   {
    "duration": 534,
    "start_time": "2024-11-07T02:07:35.893Z"
   },
   {
    "duration": 2,
    "start_time": "2024-11-07T02:07:42.996Z"
   },
   {
    "duration": 66,
    "start_time": "2024-11-07T02:07:43.453Z"
   },
   {
    "duration": 59,
    "start_time": "2024-11-07T02:08:35.591Z"
   },
   {
    "duration": 59,
    "start_time": "2024-11-07T02:10:01.110Z"
   },
   {
    "duration": 59,
    "start_time": "2024-11-07T02:10:53.075Z"
   },
   {
    "duration": 3,
    "start_time": "2024-11-07T02:11:00.808Z"
   },
   {
    "duration": 59,
    "start_time": "2024-11-07T02:11:01.194Z"
   },
   {
    "duration": 103,
    "start_time": "2024-11-07T02:11:32.432Z"
   },
   {
    "duration": 176,
    "start_time": "2024-11-07T02:12:09.015Z"
   },
   {
    "duration": 266,
    "start_time": "2024-11-07T02:12:48.108Z"
   },
   {
    "duration": 15,
    "start_time": "2024-11-07T02:14:59.583Z"
   },
   {
    "duration": 11,
    "start_time": "2024-11-07T02:16:06.843Z"
   },
   {
    "duration": 11,
    "start_time": "2024-11-07T02:16:37.030Z"
   },
   {
    "duration": 14,
    "start_time": "2024-11-07T02:20:10.769Z"
   },
   {
    "duration": 12,
    "start_time": "2024-11-07T02:20:16.927Z"
   },
   {
    "duration": 12,
    "start_time": "2024-11-07T02:20:22.310Z"
   },
   {
    "duration": 9,
    "start_time": "2024-11-07T02:34:06.077Z"
   },
   {
    "duration": 12,
    "start_time": "2024-11-07T02:34:37.451Z"
   },
   {
    "duration": 17,
    "start_time": "2024-11-07T02:34:52.628Z"
   },
   {
    "duration": 523,
    "start_time": "2024-11-07T02:41:20.035Z"
   },
   {
    "duration": 229,
    "start_time": "2024-11-07T02:41:22.493Z"
   },
   {
    "duration": 13,
    "start_time": "2024-11-07T02:41:23.109Z"
   },
   {
    "duration": 13,
    "start_time": "2024-11-07T02:41:23.977Z"
   },
   {
    "duration": 12,
    "start_time": "2024-11-07T02:41:24.595Z"
   },
   {
    "duration": 17,
    "start_time": "2024-11-07T02:41:25.802Z"
   },
   {
    "duration": 764,
    "start_time": "2024-11-09T01:28:01.834Z"
   },
   {
    "duration": 305,
    "start_time": "2024-11-09T01:28:06.881Z"
   },
   {
    "duration": 15,
    "start_time": "2024-11-09T01:28:07.231Z"
   },
   {
    "duration": 11,
    "start_time": "2024-11-09T01:28:08.077Z"
   },
   {
    "duration": 11,
    "start_time": "2024-11-09T01:28:08.531Z"
   },
   {
    "duration": 17,
    "start_time": "2024-11-09T01:28:09.292Z"
   },
   {
    "duration": 4,
    "start_time": "2024-11-09T01:31:01.358Z"
   },
   {
    "duration": 8,
    "start_time": "2024-11-09T01:31:50.948Z"
   },
   {
    "duration": 10,
    "start_time": "2024-11-09T01:37:29.415Z"
   },
   {
    "duration": 11,
    "start_time": "2024-11-09T01:48:14.728Z"
   },
   {
    "duration": 10,
    "start_time": "2024-11-09T01:48:53.335Z"
   },
   {
    "duration": 10,
    "start_time": "2024-11-09T01:48:58.179Z"
   },
   {
    "duration": 10,
    "start_time": "2024-11-09T01:48:58.952Z"
   },
   {
    "duration": 10,
    "start_time": "2024-11-09T01:48:59.400Z"
   },
   {
    "duration": 16,
    "start_time": "2024-11-09T01:53:28.744Z"
   },
   {
    "duration": 2,
    "start_time": "2024-11-09T01:54:37.079Z"
   },
   {
    "duration": 3,
    "start_time": "2024-11-09T01:55:03.659Z"
   },
   {
    "duration": 222,
    "start_time": "2024-11-09T01:55:04.816Z"
   },
   {
    "duration": 13,
    "start_time": "2024-11-09T01:55:05.134Z"
   },
   {
    "duration": 11,
    "start_time": "2024-11-09T01:55:05.491Z"
   },
   {
    "duration": 11,
    "start_time": "2024-11-09T01:55:05.865Z"
   },
   {
    "duration": 17,
    "start_time": "2024-11-09T01:55:07.183Z"
   },
   {
    "duration": 7,
    "start_time": "2024-11-09T01:55:08.675Z"
   },
   {
    "duration": 10,
    "start_time": "2024-11-09T01:55:09.676Z"
   },
   {
    "duration": 11,
    "start_time": "2024-11-09T01:55:10.234Z"
   },
   {
    "duration": 10,
    "start_time": "2024-11-09T01:55:10.818Z"
   },
   {
    "duration": 3,
    "start_time": "2024-11-09T01:56:06.082Z"
   },
   {
    "duration": 5,
    "start_time": "2024-11-09T02:04:12.184Z"
   },
   {
    "duration": 25,
    "start_time": "2024-11-09T02:08:20.223Z"
   },
   {
    "duration": 4,
    "start_time": "2024-11-09T02:08:40.377Z"
   },
   {
    "duration": 24,
    "start_time": "2024-11-09T02:09:17.435Z"
   },
   {
    "duration": 212,
    "start_time": "2024-11-09T02:13:53.718Z"
   },
   {
    "duration": 17,
    "start_time": "2024-11-09T02:14:16.530Z"
   },
   {
    "duration": 24,
    "start_time": "2024-11-09T02:14:26.053Z"
   },
   {
    "duration": 22,
    "start_time": "2024-11-09T02:33:47.732Z"
   },
   {
    "duration": 839,
    "start_time": "2024-11-10T20:20:07.405Z"
   },
   {
    "duration": 329,
    "start_time": "2024-11-10T20:20:08.247Z"
   },
   {
    "duration": 19,
    "start_time": "2024-11-10T20:20:08.578Z"
   },
   {
    "duration": 11,
    "start_time": "2024-11-10T20:20:08.615Z"
   },
   {
    "duration": 11,
    "start_time": "2024-11-10T20:20:09.043Z"
   },
   {
    "duration": 17,
    "start_time": "2024-11-10T20:20:09.858Z"
   },
   {
    "duration": 7,
    "start_time": "2024-11-10T20:20:10.475Z"
   },
   {
    "duration": 10,
    "start_time": "2024-11-10T20:20:10.907Z"
   },
   {
    "duration": 11,
    "start_time": "2024-11-10T20:20:11.100Z"
   },
   {
    "duration": 11,
    "start_time": "2024-11-10T20:20:11.299Z"
   },
   {
    "duration": 3,
    "start_time": "2024-11-10T20:20:11.714Z"
   },
   {
    "duration": 27,
    "start_time": "2024-11-10T20:20:11.916Z"
   },
   {
    "duration": 3,
    "start_time": "2024-11-10T20:20:12.523Z"
   },
   {
    "duration": 4,
    "start_time": "2024-11-10T20:26:44.724Z"
   },
   {
    "duration": 4,
    "start_time": "2024-11-10T20:27:07.302Z"
   },
   {
    "duration": 790,
    "start_time": "2024-11-12T21:25:26.234Z"
   },
   {
    "duration": 300,
    "start_time": "2024-11-12T21:25:27.028Z"
   },
   {
    "duration": 15,
    "start_time": "2024-11-12T21:25:27.570Z"
   },
   {
    "duration": 11,
    "start_time": "2024-11-12T21:25:28.263Z"
   },
   {
    "duration": 11,
    "start_time": "2024-11-12T21:25:28.822Z"
   },
   {
    "duration": 18,
    "start_time": "2024-11-12T21:25:29.726Z"
   },
   {
    "duration": 7,
    "start_time": "2024-11-12T21:25:30.537Z"
   },
   {
    "duration": 12,
    "start_time": "2024-11-12T21:25:31.022Z"
   },
   {
    "duration": 10,
    "start_time": "2024-11-12T21:25:31.256Z"
   },
   {
    "duration": 11,
    "start_time": "2024-11-12T21:25:31.502Z"
   },
   {
    "duration": 2,
    "start_time": "2024-11-12T21:25:31.980Z"
   },
   {
    "duration": 26,
    "start_time": "2024-11-12T21:25:32.220Z"
   },
   {
    "duration": 3,
    "start_time": "2024-11-12T21:25:33.061Z"
   },
   {
    "duration": 3,
    "start_time": "2024-11-12T21:26:50.874Z"
   },
   {
    "duration": 349,
    "start_time": "2024-11-12T21:34:57.513Z"
   },
   {
    "duration": 376,
    "start_time": "2024-11-12T21:37:37.345Z"
   },
   {
    "duration": 3,
    "start_time": "2024-11-12T21:43:45.282Z"
   },
   {
    "duration": 9,
    "start_time": "2024-11-12T21:49:21.714Z"
   },
   {
    "duration": 20,
    "start_time": "2024-11-12T21:50:41.850Z"
   },
   {
    "duration": 22,
    "start_time": "2024-11-12T22:02:03.317Z"
   },
   {
    "duration": 825,
    "start_time": "2024-11-13T02:52:47.925Z"
   },
   {
    "duration": 305,
    "start_time": "2024-11-13T02:52:49.058Z"
   },
   {
    "duration": 17,
    "start_time": "2024-11-13T02:52:50.987Z"
   },
   {
    "duration": 11,
    "start_time": "2024-11-13T02:52:51.928Z"
   },
   {
    "duration": 14,
    "start_time": "2024-11-13T02:52:52.425Z"
   },
   {
    "duration": 18,
    "start_time": "2024-11-13T02:52:54.787Z"
   },
   {
    "duration": 8,
    "start_time": "2024-11-13T02:52:56.092Z"
   },
   {
    "duration": 11,
    "start_time": "2024-11-13T02:52:57.235Z"
   },
   {
    "duration": 11,
    "start_time": "2024-11-13T02:52:57.777Z"
   },
   {
    "duration": 11,
    "start_time": "2024-11-13T02:52:57.982Z"
   },
   {
    "duration": 2,
    "start_time": "2024-11-13T02:52:59.285Z"
   },
   {
    "duration": 28,
    "start_time": "2024-11-13T02:53:00.469Z"
   },
   {
    "duration": 3,
    "start_time": "2024-11-13T02:53:01.637Z"
   },
   {
    "duration": 27,
    "start_time": "2024-11-13T02:53:02.156Z"
   },
   {
    "duration": 228,
    "start_time": "2024-11-13T02:57:14.898Z"
   },
   {
    "duration": 2,
    "start_time": "2024-11-13T02:58:37.414Z"
   },
   {
    "duration": 2,
    "start_time": "2024-11-13T02:59:34.058Z"
   },
   {
    "duration": 3,
    "start_time": "2024-11-13T03:02:18.454Z"
   },
   {
    "duration": 2,
    "start_time": "2024-11-13T03:02:18.778Z"
   },
   {
    "duration": 2,
    "start_time": "2024-11-13T03:02:19.112Z"
   },
   {
    "duration": 2,
    "start_time": "2024-11-13T03:02:19.422Z"
   },
   {
    "duration": 2,
    "start_time": "2024-11-13T03:02:19.770Z"
   },
   {
    "duration": 2,
    "start_time": "2024-11-13T03:02:20.276Z"
   },
   {
    "duration": 4,
    "start_time": "2024-11-13T03:46:03.464Z"
   },
   {
    "duration": 4,
    "start_time": "2024-11-13T03:46:10.230Z"
   },
   {
    "duration": 807,
    "start_time": "2024-11-13T04:19:03.856Z"
   },
   {
    "duration": 306,
    "start_time": "2024-11-13T04:19:04.665Z"
   },
   {
    "duration": 15,
    "start_time": "2024-11-13T04:19:05.108Z"
   },
   {
    "duration": 11,
    "start_time": "2024-11-13T04:19:05.745Z"
   },
   {
    "duration": 11,
    "start_time": "2024-11-13T04:19:07.119Z"
   },
   {
    "duration": 17,
    "start_time": "2024-11-13T04:19:09.272Z"
   },
   {
    "duration": 8,
    "start_time": "2024-11-13T04:19:10.643Z"
   },
   {
    "duration": 11,
    "start_time": "2024-11-13T04:19:12.127Z"
   },
   {
    "duration": 11,
    "start_time": "2024-11-13T04:19:12.461Z"
   },
   {
    "duration": 12,
    "start_time": "2024-11-13T04:19:13.341Z"
   },
   {
    "duration": 3,
    "start_time": "2024-11-13T04:19:15.219Z"
   },
   {
    "duration": 29,
    "start_time": "2024-11-13T04:19:21.120Z"
   },
   {
    "duration": 3,
    "start_time": "2024-11-13T04:19:22.485Z"
   },
   {
    "duration": 749,
    "start_time": "2024-11-14T01:46:34.095Z"
   },
   {
    "duration": 303,
    "start_time": "2024-11-14T01:46:34.846Z"
   },
   {
    "duration": 16,
    "start_time": "2024-11-14T01:46:35.151Z"
   },
   {
    "duration": 11,
    "start_time": "2024-11-14T01:46:35.169Z"
   },
   {
    "duration": 11,
    "start_time": "2024-11-14T01:46:35.464Z"
   },
   {
    "duration": 18,
    "start_time": "2024-11-14T01:46:36.462Z"
   },
   {
    "duration": 8,
    "start_time": "2024-11-14T01:46:37.011Z"
   },
   {
    "duration": 11,
    "start_time": "2024-11-14T01:46:37.448Z"
   },
   {
    "duration": 11,
    "start_time": "2024-11-14T01:46:37.642Z"
   },
   {
    "duration": 11,
    "start_time": "2024-11-14T01:46:37.851Z"
   },
   {
    "duration": 2,
    "start_time": "2024-11-14T01:46:38.373Z"
   },
   {
    "duration": 34,
    "start_time": "2024-11-14T01:46:38.664Z"
   },
   {
    "duration": 2,
    "start_time": "2024-11-14T01:46:39.392Z"
   },
   {
    "duration": 40,
    "start_time": "2024-11-14T01:46:39.793Z"
   },
   {
    "duration": 4,
    "start_time": "2024-11-14T01:46:40.214Z"
   },
   {
    "duration": 3,
    "start_time": "2024-11-14T01:46:40.765Z"
   },
   {
    "duration": 220,
    "start_time": "2024-11-14T01:55:54.964Z"
   },
   {
    "duration": 9,
    "start_time": "2024-11-14T01:56:21.548Z"
   },
   {
    "duration": 9,
    "start_time": "2024-11-14T02:01:03.115Z"
   },
   {
    "duration": 8,
    "start_time": "2024-11-14T02:04:51.603Z"
   },
   {
    "duration": 7,
    "start_time": "2024-11-14T02:08:37.156Z"
   },
   {
    "duration": 8,
    "start_time": "2024-11-14T02:08:59.877Z"
   },
   {
    "duration": 8,
    "start_time": "2024-11-14T02:09:27.259Z"
   },
   {
    "duration": 2,
    "start_time": "2024-11-14T02:20:25.522Z"
   },
   {
    "duration": 4,
    "start_time": "2024-11-14T02:27:17.712Z"
   },
   {
    "duration": 835,
    "start_time": "2024-11-15T01:30:47.528Z"
   },
   {
    "duration": 294,
    "start_time": "2024-11-15T01:30:48.365Z"
   },
   {
    "duration": 16,
    "start_time": "2024-11-15T01:30:49.477Z"
   },
   {
    "duration": 13,
    "start_time": "2024-11-15T01:30:50.110Z"
   },
   {
    "duration": 14,
    "start_time": "2024-11-15T01:30:50.477Z"
   },
   {
    "duration": 20,
    "start_time": "2024-11-15T01:30:51.729Z"
   },
   {
    "duration": 7,
    "start_time": "2024-11-15T01:30:52.294Z"
   },
   {
    "duration": 13,
    "start_time": "2024-11-15T01:30:52.684Z"
   },
   {
    "duration": 10,
    "start_time": "2024-11-15T01:30:52.891Z"
   },
   {
    "duration": 12,
    "start_time": "2024-11-15T01:30:53.283Z"
   },
   {
    "duration": 3,
    "start_time": "2024-11-15T01:30:53.698Z"
   },
   {
    "duration": 31,
    "start_time": "2024-11-15T01:30:54.187Z"
   },
   {
    "duration": 2,
    "start_time": "2024-11-15T01:30:54.835Z"
   },
   {
    "duration": 28,
    "start_time": "2024-11-15T01:30:55.326Z"
   },
   {
    "duration": 3,
    "start_time": "2024-11-15T01:30:56.020Z"
   },
   {
    "duration": 3,
    "start_time": "2024-11-15T01:30:56.476Z"
   },
   {
    "duration": 2,
    "start_time": "2024-11-15T01:30:56.743Z"
   },
   {
    "duration": 2,
    "start_time": "2024-11-15T01:30:57.320Z"
   },
   {
    "duration": 2,
    "start_time": "2024-11-15T01:30:57.559Z"
   },
   {
    "duration": 3,
    "start_time": "2024-11-15T01:30:57.796Z"
   },
   {
    "duration": 3,
    "start_time": "2024-11-15T01:30:58.136Z"
   },
   {
    "duration": 5,
    "start_time": "2024-11-15T01:30:58.426Z"
   },
   {
    "duration": 10,
    "start_time": "2024-11-15T01:30:59.489Z"
   },
   {
    "duration": 6,
    "start_time": "2024-11-15T01:31:00.936Z"
   },
   {
    "duration": 220,
    "start_time": "2024-11-15T01:31:02.973Z"
   },
   {
    "duration": 4,
    "start_time": "2024-11-15T01:34:29.286Z"
   },
   {
    "duration": 3,
    "start_time": "2024-11-15T01:37:22.342Z"
   },
   {
    "duration": 28,
    "start_time": "2024-11-15T01:43:05.589Z"
   },
   {
    "duration": 7,
    "start_time": "2024-11-15T01:43:59.005Z"
   },
   {
    "duration": 20,
    "start_time": "2024-11-15T01:46:48.736Z"
   },
   {
    "duration": 289,
    "start_time": "2024-11-15T01:47:31.923Z"
   },
   {
    "duration": 3,
    "start_time": "2024-11-15T01:52:29.533Z"
   },
   {
    "duration": 31,
    "start_time": "2024-11-15T01:52:32.555Z"
   },
   {
    "duration": 3,
    "start_time": "2024-11-15T01:52:39.723Z"
   },
   {
    "duration": 243,
    "start_time": "2024-11-15T01:52:40.012Z"
   },
   {
    "duration": 13,
    "start_time": "2024-11-15T01:52:40.478Z"
   },
   {
    "duration": 11,
    "start_time": "2024-11-15T01:52:40.962Z"
   },
   {
    "duration": 11,
    "start_time": "2024-11-15T01:52:41.335Z"
   },
   {
    "duration": 17,
    "start_time": "2024-11-15T01:52:42.254Z"
   },
   {
    "duration": 9,
    "start_time": "2024-11-15T01:52:43.070Z"
   },
   {
    "duration": 10,
    "start_time": "2024-11-15T01:52:43.421Z"
   },
   {
    "duration": 13,
    "start_time": "2024-11-15T01:52:43.601Z"
   },
   {
    "duration": 11,
    "start_time": "2024-11-15T01:52:43.728Z"
   },
   {
    "duration": 3,
    "start_time": "2024-11-15T01:52:44.083Z"
   },
   {
    "duration": 22,
    "start_time": "2024-11-15T01:52:44.500Z"
   },
   {
    "duration": 3,
    "start_time": "2024-11-15T01:52:44.944Z"
   },
   {
    "duration": 34,
    "start_time": "2024-11-15T01:52:45.311Z"
   },
   {
    "duration": 3,
    "start_time": "2024-11-15T01:52:45.696Z"
   },
   {
    "duration": 2,
    "start_time": "2024-11-15T01:52:45.868Z"
   },
   {
    "duration": 2,
    "start_time": "2024-11-15T01:52:46.027Z"
   },
   {
    "duration": 3,
    "start_time": "2024-11-15T01:52:46.232Z"
   },
   {
    "duration": 2,
    "start_time": "2024-11-15T01:52:46.401Z"
   },
   {
    "duration": 3,
    "start_time": "2024-11-15T01:52:46.578Z"
   },
   {
    "duration": 6,
    "start_time": "2024-11-15T01:52:46.779Z"
   },
   {
    "duration": 5,
    "start_time": "2024-11-15T01:52:46.947Z"
   },
   {
    "duration": 256,
    "start_time": "2024-11-15T01:52:47.521Z"
   },
   {
    "duration": 4,
    "start_time": "2024-11-15T01:52:48.078Z"
   },
   {
    "duration": 3,
    "start_time": "2024-11-15T01:52:48.263Z"
   },
   {
    "duration": 22,
    "start_time": "2024-11-15T01:52:48.461Z"
   },
   {
    "duration": 30,
    "start_time": "2024-11-15T01:53:41.206Z"
   },
   {
    "duration": 6,
    "start_time": "2024-11-15T01:54:14.439Z"
   },
   {
    "duration": 3,
    "start_time": "2024-11-15T01:54:16.105Z"
   },
   {
    "duration": 30,
    "start_time": "2024-11-15T01:54:16.260Z"
   },
   {
    "duration": 5,
    "start_time": "2024-11-15T01:55:41.823Z"
   },
   {
    "duration": 38,
    "start_time": "2024-11-15T01:55:47.183Z"
   },
   {
    "duration": 3,
    "start_time": "2024-11-15T01:56:00.671Z"
   },
   {
    "duration": 4,
    "start_time": "2024-11-15T01:56:43.664Z"
   },
   {
    "duration": 4,
    "start_time": "2024-11-15T01:56:43.963Z"
   },
   {
    "duration": 22,
    "start_time": "2024-11-15T01:56:44.229Z"
   },
   {
    "duration": 10,
    "start_time": "2024-11-15T01:56:57.516Z"
   },
   {
    "duration": 31,
    "start_time": "2024-11-15T01:56:57.729Z"
   },
   {
    "duration": 3,
    "start_time": "2024-11-15T01:57:21.068Z"
   },
   {
    "duration": 816,
    "start_time": "2024-11-15T05:47:59.344Z"
   },
   {
    "duration": 349,
    "start_time": "2024-11-15T05:48:02.483Z"
   },
   {
    "duration": 16,
    "start_time": "2024-11-15T05:48:03.623Z"
   },
   {
    "duration": 11,
    "start_time": "2024-11-15T05:48:04.070Z"
   },
   {
    "duration": 11,
    "start_time": "2024-11-15T05:48:04.448Z"
   },
   {
    "duration": 18,
    "start_time": "2024-11-15T05:48:05.451Z"
   },
   {
    "duration": 7,
    "start_time": "2024-11-15T05:48:06.005Z"
   },
   {
    "duration": 11,
    "start_time": "2024-11-15T05:48:06.487Z"
   },
   {
    "duration": 11,
    "start_time": "2024-11-15T05:48:06.553Z"
   },
   {
    "duration": 12,
    "start_time": "2024-11-15T05:48:06.732Z"
   },
   {
    "duration": 2,
    "start_time": "2024-11-15T05:48:07.168Z"
   },
   {
    "duration": 28,
    "start_time": "2024-11-15T05:48:07.514Z"
   },
   {
    "duration": 7,
    "start_time": "2024-11-15T05:48:08.233Z"
   },
   {
    "duration": 26,
    "start_time": "2024-11-15T05:48:08.634Z"
   },
   {
    "duration": 3,
    "start_time": "2024-11-15T05:48:09.001Z"
   },
   {
    "duration": 2,
    "start_time": "2024-11-15T05:48:09.184Z"
   },
   {
    "duration": 2,
    "start_time": "2024-11-15T05:48:09.371Z"
   },
   {
    "duration": 2,
    "start_time": "2024-11-15T05:48:09.650Z"
   },
   {
    "duration": 2,
    "start_time": "2024-11-15T05:48:09.872Z"
   },
   {
    "duration": 4,
    "start_time": "2024-11-15T05:48:10.250Z"
   },
   {
    "duration": 3,
    "start_time": "2024-11-15T05:48:10.600Z"
   },
   {
    "duration": 3,
    "start_time": "2024-11-15T05:48:10.984Z"
   },
   {
    "duration": 243,
    "start_time": "2024-11-15T05:48:11.833Z"
   },
   {
    "duration": 3,
    "start_time": "2024-11-15T05:48:12.523Z"
   },
   {
    "duration": 3,
    "start_time": "2024-11-15T05:48:12.733Z"
   },
   {
    "duration": 900,
    "start_time": "2024-11-15T05:48:12.934Z"
   },
   {
    "duration": 3,
    "start_time": "2024-11-15T05:48:13.836Z"
   },
   {
    "duration": 243,
    "start_time": "2024-11-15T05:48:13.841Z"
   },
   {
    "duration": 0,
    "start_time": "2024-11-15T05:48:14.086Z"
   },
   {
    "duration": 2,
    "start_time": "2024-11-15T05:49:30.275Z"
   },
   {
    "duration": 21,
    "start_time": "2024-11-15T05:49:31.266Z"
   },
   {
    "duration": 3,
    "start_time": "2024-11-15T05:49:44.203Z"
   },
   {
    "duration": 4,
    "start_time": "2024-11-15T05:49:44.841Z"
   },
   {
    "duration": 4,
    "start_time": "2024-11-15T05:49:45.757Z"
   },
   {
    "duration": 9,
    "start_time": "2024-11-16T00:12:00.199Z"
   },
   {
    "duration": 7,
    "start_time": "2024-11-16T20:26:05.792Z"
   },
   {
    "duration": 4,
    "start_time": "2024-11-16T20:26:10.950Z"
   },
   {
    "duration": 160,
    "start_time": "2024-11-16T20:26:21.216Z"
   },
   {
    "duration": 13,
    "start_time": "2024-11-16T20:26:45.025Z"
   },
   {
    "duration": 12,
    "start_time": "2024-11-16T20:27:05.408Z"
   },
   {
    "duration": 14,
    "start_time": "2024-11-16T20:27:05.757Z"
   },
   {
    "duration": 761,
    "start_time": "2024-11-16T20:27:30.143Z"
   },
   {
    "duration": 292,
    "start_time": "2024-11-16T20:27:30.907Z"
   },
   {
    "duration": 16,
    "start_time": "2024-11-16T20:27:31.201Z"
   },
   {
    "duration": 11,
    "start_time": "2024-11-16T20:27:31.640Z"
   },
   {
    "duration": 12,
    "start_time": "2024-11-16T20:27:32.105Z"
   },
   {
    "duration": 17,
    "start_time": "2024-11-16T20:27:32.939Z"
   },
   {
    "duration": 7,
    "start_time": "2024-11-16T20:27:34.256Z"
   },
   {
    "duration": 80,
    "start_time": "2024-11-16T20:27:34.499Z"
   },
   {
    "duration": 2009,
    "start_time": "2024-11-16T20:28:52.201Z"
   },
   {
    "duration": 218,
    "start_time": "2024-11-16T20:29:03.971Z"
   },
   {
    "duration": 14,
    "start_time": "2024-11-16T20:29:04.506Z"
   },
   {
    "duration": 12,
    "start_time": "2024-11-16T20:29:04.787Z"
   },
   {
    "duration": 11,
    "start_time": "2024-11-16T20:29:05.068Z"
   },
   {
    "duration": 17,
    "start_time": "2024-11-16T20:29:05.758Z"
   },
   {
    "duration": 8,
    "start_time": "2024-11-16T20:29:07.017Z"
   },
   {
    "duration": 6323,
    "start_time": "2024-11-16T20:29:07.208Z"
   },
   {
    "duration": 37,
    "start_time": "2024-11-16T20:41:17.577Z"
   },
   {
    "duration": 100,
    "start_time": "2024-11-16T20:41:36.561Z"
   },
   {
    "duration": 5,
    "start_time": "2024-11-16T20:42:09.668Z"
   },
   {
    "duration": 97,
    "start_time": "2024-11-16T20:42:10.511Z"
   },
   {
    "duration": 102,
    "start_time": "2024-11-16T20:42:28.094Z"
   },
   {
    "duration": 563,
    "start_time": "2024-11-16T20:43:44.233Z"
   },
   {
    "duration": 6146,
    "start_time": "2024-11-16T20:43:59.370Z"
   },
   {
    "duration": 3,
    "start_time": "2024-11-16T20:56:11.671Z"
   },
   {
    "duration": 200,
    "start_time": "2024-11-16T23:07:11.405Z"
   },
   {
    "duration": 4,
    "start_time": "2024-11-16T23:08:50.548Z"
   },
   {
    "duration": 4239,
    "start_time": "2024-11-16T23:09:01.225Z"
   },
   {
    "duration": 27,
    "start_time": "2024-11-16T23:25:48.191Z"
   },
   {
    "duration": 33,
    "start_time": "2024-11-16T23:26:20.334Z"
   },
   {
    "duration": 49,
    "start_time": "2024-11-16T23:26:39.465Z"
   },
   {
    "duration": 10,
    "start_time": "2024-11-16T23:31:26.600Z"
   },
   {
    "duration": 11,
    "start_time": "2024-11-16T23:31:26.782Z"
   },
   {
    "duration": 11,
    "start_time": "2024-11-16T23:31:27.092Z"
   },
   {
    "duration": 3,
    "start_time": "2024-11-16T23:31:27.593Z"
   },
   {
    "duration": 43,
    "start_time": "2024-11-16T23:31:27.974Z"
   },
   {
    "duration": 3,
    "start_time": "2024-11-16T23:31:28.507Z"
   },
   {
    "duration": 21,
    "start_time": "2024-11-16T23:31:29.025Z"
   },
   {
    "duration": 3,
    "start_time": "2024-11-16T23:31:29.555Z"
   },
   {
    "duration": 2,
    "start_time": "2024-11-16T23:31:29.944Z"
   },
   {
    "duration": 2,
    "start_time": "2024-11-16T23:31:30.199Z"
   },
   {
    "duration": 2,
    "start_time": "2024-11-16T23:31:30.416Z"
   },
   {
    "duration": 3,
    "start_time": "2024-11-16T23:31:30.692Z"
   },
   {
    "duration": 4,
    "start_time": "2024-11-16T23:31:30.866Z"
   },
   {
    "duration": 3,
    "start_time": "2024-11-16T23:31:31.049Z"
   },
   {
    "duration": 4,
    "start_time": "2024-11-16T23:31:31.212Z"
   },
   {
    "duration": 230,
    "start_time": "2024-11-16T23:31:31.815Z"
   },
   {
    "duration": 49,
    "start_time": "2024-11-16T23:34:14.628Z"
   },
   {
    "duration": 241,
    "start_time": "2024-11-17T00:00:42.018Z"
   },
   {
    "duration": 3,
    "start_time": "2024-11-17T00:01:00.976Z"
   },
   {
    "duration": 205,
    "start_time": "2024-11-17T00:01:01.140Z"
   },
   {
    "duration": 20,
    "start_time": "2024-11-17T00:01:01.455Z"
   },
   {
    "duration": 16,
    "start_time": "2024-11-17T00:01:01.732Z"
   },
   {
    "duration": 11,
    "start_time": "2024-11-17T00:01:02.068Z"
   },
   {
    "duration": 16,
    "start_time": "2024-11-17T00:01:02.785Z"
   },
   {
    "duration": 5,
    "start_time": "2024-11-17T00:01:03.361Z"
   },
   {
    "duration": 6372,
    "start_time": "2024-11-17T00:01:03.707Z"
   },
   {
    "duration": 4,
    "start_time": "2024-11-17T00:01:10.086Z"
   },
   {
    "duration": 4470,
    "start_time": "2024-11-17T00:01:10.092Z"
   },
   {
    "duration": 56,
    "start_time": "2024-11-17T00:01:14.565Z"
   },
   {
    "duration": 8,
    "start_time": "2024-11-17T00:01:14.624Z"
   },
   {
    "duration": 8,
    "start_time": "2024-11-17T00:01:14.634Z"
   },
   {
    "duration": 8,
    "start_time": "2024-11-17T00:01:14.644Z"
   },
   {
    "duration": 3,
    "start_time": "2024-11-17T00:01:14.654Z"
   },
   {
    "duration": 45,
    "start_time": "2024-11-17T00:01:14.658Z"
   },
   {
    "duration": 3,
    "start_time": "2024-11-17T00:01:14.706Z"
   },
   {
    "duration": 95,
    "start_time": "2024-11-17T00:01:14.711Z"
   },
   {
    "duration": 79,
    "start_time": "2024-11-17T00:01:14.808Z"
   },
   {
    "duration": 2,
    "start_time": "2024-11-17T00:01:14.889Z"
   },
   {
    "duration": 2,
    "start_time": "2024-11-17T00:01:14.894Z"
   },
   {
    "duration": 3,
    "start_time": "2024-11-17T00:01:14.898Z"
   },
   {
    "duration": 2,
    "start_time": "2024-11-17T00:01:14.903Z"
   },
   {
    "duration": 2,
    "start_time": "2024-11-17T00:01:14.907Z"
   },
   {
    "duration": 3,
    "start_time": "2024-11-17T00:01:14.911Z"
   },
   {
    "duration": 73,
    "start_time": "2024-11-17T00:01:14.916Z"
   },
   {
    "duration": 247,
    "start_time": "2024-11-17T00:01:14.991Z"
   },
   {
    "duration": 25,
    "start_time": "2024-11-17T00:03:54.970Z"
   },
   {
    "duration": 25,
    "start_time": "2024-11-17T00:04:09.228Z"
   },
   {
    "duration": 24,
    "start_time": "2024-11-17T00:05:22.210Z"
   },
   {
    "duration": 7,
    "start_time": "2024-11-17T00:05:51.403Z"
   },
   {
    "duration": 4,
    "start_time": "2024-11-17T00:10:19.829Z"
   },
   {
    "duration": 20,
    "start_time": "2024-11-17T00:10:20.315Z"
   },
   {
    "duration": 3,
    "start_time": "2024-11-17T00:10:20.813Z"
   },
   {
    "duration": 3,
    "start_time": "2024-11-17T00:10:59.381Z"
   },
   {
    "duration": 19,
    "start_time": "2024-11-17T00:10:59.955Z"
   },
   {
    "duration": 3,
    "start_time": "2024-11-17T00:12:30.978Z"
   },
   {
    "duration": 3,
    "start_time": "2024-11-17T00:12:31.287Z"
   },
   {
    "duration": 21,
    "start_time": "2024-11-17T00:12:31.838Z"
   },
   {
    "duration": 3,
    "start_time": "2024-11-17T00:13:30.461Z"
   },
   {
    "duration": 3,
    "start_time": "2024-11-17T00:13:31.646Z"
   },
   {
    "duration": 19,
    "start_time": "2024-11-17T00:13:32.529Z"
   },
   {
    "duration": 3,
    "start_time": "2024-11-17T00:14:39.393Z"
   },
   {
    "duration": 4,
    "start_time": "2024-11-17T00:14:40.761Z"
   },
   {
    "duration": 23,
    "start_time": "2024-11-17T00:14:42.341Z"
   },
   {
    "duration": 3,
    "start_time": "2024-11-17T00:15:38.296Z"
   },
   {
    "duration": 25,
    "start_time": "2024-11-17T00:15:38.571Z"
   },
   {
    "duration": 21,
    "start_time": "2024-11-17T00:16:09.679Z"
   },
   {
    "duration": 19,
    "start_time": "2024-11-17T00:17:03.380Z"
   },
   {
    "duration": 3,
    "start_time": "2024-11-17T00:17:16.123Z"
   },
   {
    "duration": 3,
    "start_time": "2024-11-17T00:17:50.444Z"
   },
   {
    "duration": 138,
    "start_time": "2024-11-17T00:17:51.379Z"
   },
   {
    "duration": 39,
    "start_time": "2024-11-17T00:19:53.250Z"
   },
   {
    "duration": 10,
    "start_time": "2024-11-17T01:51:05.316Z"
   },
   {
    "duration": 35,
    "start_time": "2024-11-17T01:51:13.917Z"
   },
   {
    "duration": 82,
    "start_time": "2024-11-17T01:53:25.653Z"
   },
   {
    "duration": 2755,
    "start_time": "2024-11-17T01:54:44.924Z"
   },
   {
    "duration": 2791,
    "start_time": "2024-11-17T01:55:54.634Z"
   },
   {
    "duration": 2820,
    "start_time": "2024-11-21T21:15:33.991Z"
   },
   {
    "duration": 339,
    "start_time": "2024-11-21T21:21:55.556Z"
   },
   {
    "duration": 3,
    "start_time": "2024-11-21T21:22:30.885Z"
   },
   {
    "duration": 340,
    "start_time": "2024-11-21T21:22:44.050Z"
   },
   {
    "duration": 18,
    "start_time": "2024-11-21T21:23:09.968Z"
   },
   {
    "duration": 13,
    "start_time": "2024-11-21T21:23:16.462Z"
   },
   {
    "duration": 15,
    "start_time": "2024-11-21T21:23:21.058Z"
   },
   {
    "duration": 3,
    "start_time": "2024-11-21T21:45:08.796Z"
   },
   {
    "duration": 4,
    "start_time": "2024-11-21T21:49:23.885Z"
   },
   {
    "duration": 6,
    "start_time": "2024-11-21T21:50:11.160Z"
   },
   {
    "duration": 26,
    "start_time": "2024-11-21T21:51:35.307Z"
   },
   {
    "duration": 11,
    "start_time": "2024-11-21T21:51:41.796Z"
   },
   {
    "duration": 17,
    "start_time": "2024-11-21T21:53:31.350Z"
   },
   {
    "duration": 17,
    "start_time": "2024-11-21T21:53:46.177Z"
   },
   {
    "duration": 19,
    "start_time": "2024-11-21T21:54:10.640Z"
   },
   {
    "duration": 245,
    "start_time": "2024-11-21T21:54:15.379Z"
   },
   {
    "duration": 14,
    "start_time": "2024-11-21T21:54:16.272Z"
   },
   {
    "duration": 13,
    "start_time": "2024-11-21T21:54:16.973Z"
   },
   {
    "duration": 13,
    "start_time": "2024-11-21T21:54:17.613Z"
   },
   {
    "duration": 19,
    "start_time": "2024-11-21T21:54:45.506Z"
   },
   {
    "duration": 18,
    "start_time": "2024-11-21T21:55:40.857Z"
   },
   {
    "duration": 6,
    "start_time": "2024-11-21T21:55:51.023Z"
   },
   {
    "duration": 9,
    "start_time": "2024-11-21T21:56:11.726Z"
   },
   {
    "duration": 389,
    "start_time": "2024-11-21T21:56:45.992Z"
   },
   {
    "duration": 4,
    "start_time": "2024-11-21T21:57:18.141Z"
   },
   {
    "duration": 239,
    "start_time": "2024-11-21T21:57:18.290Z"
   },
   {
    "duration": 17,
    "start_time": "2024-11-21T21:57:18.622Z"
   },
   {
    "duration": 15,
    "start_time": "2024-11-21T21:57:18.973Z"
   },
   {
    "duration": 13,
    "start_time": "2024-11-21T21:57:19.336Z"
   },
   {
    "duration": 20,
    "start_time": "2024-11-21T21:57:20.045Z"
   },
   {
    "duration": 7,
    "start_time": "2024-11-21T21:57:20.597Z"
   },
   {
    "duration": 3,
    "start_time": "2024-11-21T21:57:21.136Z"
   },
   {
    "duration": 9,
    "start_time": "2024-11-21T21:57:21.472Z"
   },
   {
    "duration": 372,
    "start_time": "2024-11-21T21:57:25.572Z"
   },
   {
    "duration": 5,
    "start_time": "2024-11-21T21:57:49.309Z"
   },
   {
    "duration": 14,
    "start_time": "2024-11-21T21:57:49.371Z"
   },
   {
    "duration": 781,
    "start_time": "2024-11-21T21:57:49.836Z"
   },
   {
    "duration": 147,
    "start_time": "2024-11-21T21:57:50.619Z"
   },
   {
    "duration": 24,
    "start_time": "2024-11-21T22:02:57.552Z"
   },
   {
    "duration": 23,
    "start_time": "2024-11-21T22:21:48.633Z"
   },
   {
    "duration": 546,
    "start_time": "2024-11-21T22:22:07.559Z"
   },
   {
    "duration": 25,
    "start_time": "2024-11-21T22:27:02.446Z"
   },
   {
    "duration": 515,
    "start_time": "2024-11-21T22:27:16.679Z"
   },
   {
    "duration": 530,
    "start_time": "2024-11-21T22:27:25.401Z"
   },
   {
    "duration": 13,
    "start_time": "2024-11-21T22:34:45.825Z"
   },
   {
    "duration": 13,
    "start_time": "2024-11-21T22:35:42.201Z"
   },
   {
    "duration": 10,
    "start_time": "2024-11-21T22:35:56.290Z"
   },
   {
    "duration": 2611,
    "start_time": "2024-11-24T02:32:40.891Z"
   },
   {
    "duration": 303,
    "start_time": "2024-11-24T02:32:43.506Z"
   },
   {
    "duration": 214,
    "start_time": "2024-11-24T02:33:44.722Z"
   },
   {
    "duration": 15,
    "start_time": "2024-11-24T02:33:46.040Z"
   },
   {
    "duration": 11,
    "start_time": "2024-11-24T02:33:47.532Z"
   },
   {
    "duration": 11,
    "start_time": "2024-11-24T02:33:48.989Z"
   },
   {
    "duration": 17,
    "start_time": "2024-11-24T02:33:51.284Z"
   },
   {
    "duration": 7,
    "start_time": "2024-11-24T02:33:52.990Z"
   },
   {
    "duration": 4,
    "start_time": "2024-11-24T02:33:54.737Z"
   },
   {
    "duration": 23,
    "start_time": "2024-11-24T02:33:56.919Z"
   },
   {
    "duration": 477,
    "start_time": "2024-11-24T02:33:58.092Z"
   },
   {
    "duration": 23,
    "start_time": "2024-11-24T02:34:00.245Z"
   },
   {
    "duration": 518,
    "start_time": "2024-11-24T02:34:00.773Z"
   },
   {
    "duration": 22,
    "start_time": "2024-11-24T02:34:02.286Z"
   },
   {
    "duration": 506,
    "start_time": "2024-11-24T02:34:02.846Z"
   },
   {
    "duration": 11,
    "start_time": "2024-11-24T02:34:04.842Z"
   },
   {
    "duration": 10,
    "start_time": "2024-11-24T02:34:06.194Z"
   },
   {
    "duration": 10,
    "start_time": "2024-11-24T02:34:07.066Z"
   },
   {
    "duration": 3,
    "start_time": "2024-11-24T03:07:39.463Z"
   },
   {
    "duration": 211,
    "start_time": "2024-11-24T03:07:39.468Z"
   },
   {
    "duration": 12,
    "start_time": "2024-11-24T03:07:39.681Z"
   },
   {
    "duration": 15,
    "start_time": "2024-11-24T03:07:39.695Z"
   },
   {
    "duration": 9,
    "start_time": "2024-11-24T03:07:39.713Z"
   },
   {
    "duration": 16,
    "start_time": "2024-11-24T03:07:39.724Z"
   },
   {
    "duration": 5,
    "start_time": "2024-11-24T03:07:39.741Z"
   },
   {
    "duration": 4,
    "start_time": "2024-11-24T03:07:39.748Z"
   },
   {
    "duration": 51,
    "start_time": "2024-11-24T03:07:39.754Z"
   },
   {
    "duration": 458,
    "start_time": "2024-11-24T03:07:39.807Z"
   },
   {
    "duration": 24,
    "start_time": "2024-11-24T03:07:40.267Z"
   },
   {
    "duration": 527,
    "start_time": "2024-11-24T03:07:40.293Z"
   },
   {
    "duration": 22,
    "start_time": "2024-11-24T03:07:40.822Z"
   },
   {
    "duration": 499,
    "start_time": "2024-11-24T03:07:40.847Z"
   },
   {
    "duration": 11,
    "start_time": "2024-11-24T03:07:41.348Z"
   },
   {
    "duration": 9,
    "start_time": "2024-11-24T03:07:41.361Z"
   },
   {
    "duration": 10,
    "start_time": "2024-11-24T03:07:41.372Z"
   },
   {
    "duration": 25,
    "start_time": "2024-11-24T03:07:41.383Z"
   },
   {
    "duration": 2,
    "start_time": "2024-11-24T03:16:55.745Z"
   },
   {
    "duration": 2,
    "start_time": "2024-11-24T03:17:57.062Z"
   },
   {
    "duration": 8,
    "start_time": "2024-11-24T03:19:58.390Z"
   },
   {
    "duration": 3,
    "start_time": "2024-11-24T03:20:04.645Z"
   },
   {
    "duration": 7,
    "start_time": "2024-11-24T03:20:05.518Z"
   },
   {
    "duration": 31,
    "start_time": "2024-11-24T03:23:35.228Z"
   },
   {
    "duration": 2651,
    "start_time": "2024-11-25T19:16:58.739Z"
   },
   {
    "duration": 308,
    "start_time": "2024-11-25T19:17:01.393Z"
   },
   {
    "duration": 14,
    "start_time": "2024-11-25T19:17:01.703Z"
   },
   {
    "duration": 11,
    "start_time": "2024-11-25T19:17:01.719Z"
   },
   {
    "duration": 11,
    "start_time": "2024-11-25T19:17:01.732Z"
   },
   {
    "duration": 18,
    "start_time": "2024-11-25T19:17:01.746Z"
   },
   {
    "duration": 6,
    "start_time": "2024-11-25T19:17:01.957Z"
   },
   {
    "duration": 4,
    "start_time": "2024-11-25T19:17:02.594Z"
   },
   {
    "duration": 25,
    "start_time": "2024-11-25T19:17:03.051Z"
   },
   {
    "duration": 552,
    "start_time": "2024-11-25T19:17:03.257Z"
   },
   {
    "duration": 22,
    "start_time": "2024-11-25T19:17:03.901Z"
   },
   {
    "duration": 547,
    "start_time": "2024-11-25T19:17:04.109Z"
   },
   {
    "duration": 22,
    "start_time": "2024-11-25T19:17:04.780Z"
   },
   {
    "duration": 491,
    "start_time": "2024-11-25T19:17:04.963Z"
   },
   {
    "duration": 14,
    "start_time": "2024-11-25T19:17:05.773Z"
   },
   {
    "duration": 10,
    "start_time": "2024-11-25T19:17:06.191Z"
   },
   {
    "duration": 11,
    "start_time": "2024-11-25T19:17:06.631Z"
   },
   {
    "duration": 10,
    "start_time": "2024-11-25T19:17:08.806Z"
   },
   {
    "duration": 2,
    "start_time": "2024-11-25T19:17:10.048Z"
   },
   {
    "duration": 3,
    "start_time": "2024-11-25T19:17:10.858Z"
   },
   {
    "duration": 34,
    "start_time": "2024-11-25T19:17:11.942Z"
   },
   {
    "duration": 33,
    "start_time": "2024-11-25T19:23:20.734Z"
   },
   {
    "duration": 32,
    "start_time": "2024-11-25T19:23:50.163Z"
   },
   {
    "duration": 12,
    "start_time": "2024-11-25T19:28:16.580Z"
   },
   {
    "duration": 33,
    "start_time": "2024-11-25T19:29:18.373Z"
   },
   {
    "duration": 11,
    "start_time": "2024-11-25T19:29:18.737Z"
   },
   {
    "duration": 3,
    "start_time": "2024-11-25T19:29:33.685Z"
   },
   {
    "duration": 219,
    "start_time": "2024-11-25T19:29:33.810Z"
   },
   {
    "duration": 13,
    "start_time": "2024-11-25T19:29:34.125Z"
   },
   {
    "duration": 12,
    "start_time": "2024-11-25T19:29:34.586Z"
   },
   {
    "duration": 11,
    "start_time": "2024-11-25T19:29:35.016Z"
   },
   {
    "duration": 16,
    "start_time": "2024-11-25T19:29:35.886Z"
   },
   {
    "duration": 7,
    "start_time": "2024-11-25T19:29:36.433Z"
   },
   {
    "duration": 5,
    "start_time": "2024-11-25T19:29:37.145Z"
   },
   {
    "duration": 28,
    "start_time": "2024-11-25T19:29:37.496Z"
   },
   {
    "duration": 481,
    "start_time": "2024-11-25T19:29:37.699Z"
   },
   {
    "duration": 26,
    "start_time": "2024-11-25T19:29:38.215Z"
   },
   {
    "duration": 565,
    "start_time": "2024-11-25T19:29:38.462Z"
   },
   {
    "duration": 21,
    "start_time": "2024-11-25T19:29:39.067Z"
   },
   {
    "duration": 491,
    "start_time": "2024-11-25T19:29:39.284Z"
   },
   {
    "duration": 11,
    "start_time": "2024-11-25T19:29:40.043Z"
   },
   {
    "duration": 12,
    "start_time": "2024-11-25T19:29:40.477Z"
   },
   {
    "duration": 11,
    "start_time": "2024-11-25T19:29:40.897Z"
   },
   {
    "duration": 8,
    "start_time": "2024-11-25T19:29:42.084Z"
   },
   {
    "duration": 4,
    "start_time": "2024-11-25T19:29:42.647Z"
   },
   {
    "duration": 2,
    "start_time": "2024-11-25T19:29:42.912Z"
   },
   {
    "duration": 35,
    "start_time": "2024-11-25T19:29:43.300Z"
   },
   {
    "duration": 12,
    "start_time": "2024-11-25T19:29:43.562Z"
   },
   {
    "duration": 2623,
    "start_time": "2024-11-25T21:41:26.287Z"
   },
   {
    "duration": 285,
    "start_time": "2024-11-25T21:41:28.912Z"
   },
   {
    "duration": 15,
    "start_time": "2024-11-25T21:41:29.199Z"
   },
   {
    "duration": 11,
    "start_time": "2024-11-25T21:41:29.217Z"
   },
   {
    "duration": 10,
    "start_time": "2024-11-25T21:41:29.230Z"
   },
   {
    "duration": 16,
    "start_time": "2024-11-25T21:41:29.242Z"
   },
   {
    "duration": 6,
    "start_time": "2024-11-25T21:41:29.260Z"
   },
   {
    "duration": 5,
    "start_time": "2024-11-25T21:41:29.404Z"
   },
   {
    "duration": 30,
    "start_time": "2024-11-25T21:41:30.085Z"
   },
   {
    "duration": 519,
    "start_time": "2024-11-25T21:41:30.312Z"
   },
   {
    "duration": 21,
    "start_time": "2024-11-25T21:41:30.881Z"
   },
   {
    "duration": 542,
    "start_time": "2024-11-25T21:41:31.111Z"
   },
   {
    "duration": 25,
    "start_time": "2024-11-25T21:41:31.690Z"
   },
   {
    "duration": 482,
    "start_time": "2024-11-25T21:41:31.871Z"
   },
   {
    "duration": 12,
    "start_time": "2024-11-25T21:41:32.675Z"
   },
   {
    "duration": 11,
    "start_time": "2024-11-25T21:41:33.078Z"
   },
   {
    "duration": 10,
    "start_time": "2024-11-25T21:41:33.496Z"
   },
   {
    "duration": 9,
    "start_time": "2024-11-25T21:41:34.721Z"
   },
   {
    "duration": 2,
    "start_time": "2024-11-25T21:41:35.330Z"
   },
   {
    "duration": 3,
    "start_time": "2024-11-25T21:41:35.494Z"
   },
   {
    "duration": 34,
    "start_time": "2024-11-25T21:41:36.016Z"
   },
   {
    "duration": 12,
    "start_time": "2024-11-25T21:41:36.194Z"
   },
   {
    "duration": 7,
    "start_time": "2024-11-25T21:42:43.134Z"
   },
   {
    "duration": 9,
    "start_time": "2024-11-25T21:43:34.604Z"
   },
   {
    "duration": 242,
    "start_time": "2024-11-25T21:44:06.065Z"
   },
   {
    "duration": 21,
    "start_time": "2024-11-25T21:47:16.537Z"
   },
   {
    "duration": 27,
    "start_time": "2024-11-25T21:47:32.701Z"
   },
   {
    "duration": 11,
    "start_time": "2024-11-25T21:48:14.720Z"
   },
   {
    "duration": 9,
    "start_time": "2024-11-25T21:49:49.745Z"
   },
   {
    "duration": 10,
    "start_time": "2024-11-25T21:50:22.111Z"
   },
   {
    "duration": 3,
    "start_time": "2024-11-25T22:00:44.974Z"
   },
   {
    "duration": 13,
    "start_time": "2024-11-25T22:02:36.331Z"
   },
   {
    "duration": 13,
    "start_time": "2024-11-25T22:02:56.420Z"
   },
   {
    "duration": 3,
    "start_time": "2024-11-25T22:03:03.236Z"
   },
   {
    "duration": 13,
    "start_time": "2024-11-25T22:03:03.516Z"
   },
   {
    "duration": 2,
    "start_time": "2024-11-25T22:03:18.341Z"
   },
   {
    "duration": 5,
    "start_time": "2024-11-25T22:05:33.502Z"
   },
   {
    "duration": 5,
    "start_time": "2024-11-25T22:05:51.686Z"
   },
   {
    "duration": 15,
    "start_time": "2024-11-25T22:13:27.789Z"
   },
   {
    "duration": 4,
    "start_time": "2024-11-25T22:19:47.739Z"
   },
   {
    "duration": 16,
    "start_time": "2024-11-25T22:20:05.497Z"
   },
   {
    "duration": 10,
    "start_time": "2024-11-25T22:27:26.154Z"
   },
   {
    "duration": 12,
    "start_time": "2024-11-25T22:28:12.595Z"
   },
   {
    "duration": 3,
    "start_time": "2024-11-25T23:01:07.163Z"
   },
   {
    "duration": 3,
    "start_time": "2024-11-25T23:04:00.036Z"
   },
   {
    "duration": 227,
    "start_time": "2024-11-25T23:17:55.009Z"
   },
   {
    "duration": 15,
    "start_time": "2024-11-25T23:17:55.238Z"
   },
   {
    "duration": 14,
    "start_time": "2024-11-25T23:17:55.255Z"
   },
   {
    "duration": 34,
    "start_time": "2024-11-25T23:17:55.271Z"
   },
   {
    "duration": 20,
    "start_time": "2024-11-25T23:17:55.596Z"
   },
   {
    "duration": 9,
    "start_time": "2024-11-25T23:17:56.179Z"
   },
   {
    "duration": 3,
    "start_time": "2024-11-25T23:17:56.754Z"
   },
   {
    "duration": 24,
    "start_time": "2024-11-25T23:17:57.157Z"
   },
   {
    "duration": 603,
    "start_time": "2024-11-25T23:17:57.364Z"
   },
   {
    "duration": 24,
    "start_time": "2024-11-25T23:17:58.007Z"
   },
   {
    "duration": 553,
    "start_time": "2024-11-25T23:17:58.208Z"
   },
   {
    "duration": 28,
    "start_time": "2024-11-25T23:17:58.842Z"
   },
   {
    "duration": 551,
    "start_time": "2024-11-25T23:17:59.046Z"
   },
   {
    "duration": 13,
    "start_time": "2024-11-25T23:17:59.881Z"
   },
   {
    "duration": 16,
    "start_time": "2024-11-25T23:18:00.321Z"
   },
   {
    "duration": 11,
    "start_time": "2024-11-25T23:18:00.789Z"
   },
   {
    "duration": 8,
    "start_time": "2024-11-25T23:18:02.171Z"
   },
   {
    "duration": 5,
    "start_time": "2024-11-25T23:18:02.876Z"
   },
   {
    "duration": 3,
    "start_time": "2024-11-25T23:18:03.086Z"
   },
   {
    "duration": 56,
    "start_time": "2024-11-25T23:18:03.537Z"
   },
   {
    "duration": 14,
    "start_time": "2024-11-25T23:18:03.732Z"
   },
   {
    "duration": 12,
    "start_time": "2024-11-25T23:18:04.130Z"
   },
   {
    "duration": 12,
    "start_time": "2024-11-25T23:18:04.353Z"
   },
   {
    "duration": 9,
    "start_time": "2024-11-25T23:18:04.830Z"
   },
   {
    "duration": 14,
    "start_time": "2024-11-25T23:18:05.056Z"
   },
   {
    "duration": 3,
    "start_time": "2024-11-25T23:18:05.917Z"
   },
   {
    "duration": 20,
    "start_time": "2024-11-25T23:18:06.349Z"
   },
   {
    "duration": 12,
    "start_time": "2024-11-25T23:18:06.841Z"
   },
   {
    "duration": 13,
    "start_time": "2024-11-25T23:18:07.287Z"
   },
   {
    "duration": 3,
    "start_time": "2024-11-25T23:18:12.033Z"
   },
   {
    "duration": 43,
    "start_time": "2024-11-25T23:20:23.891Z"
   },
   {
    "duration": 4,
    "start_time": "2024-11-25T23:20:27.770Z"
   },
   {
    "duration": 57,
    "start_time": "2024-11-25T23:20:28.544Z"
   },
   {
    "duration": 4,
    "start_time": "2024-11-25T23:23:39.927Z"
   },
   {
    "duration": 36,
    "start_time": "2024-11-25T23:32:18.446Z"
   },
   {
    "duration": 2708,
    "start_time": "2024-11-26T00:29:23.301Z"
   },
   {
    "duration": 292,
    "start_time": "2024-11-26T00:29:26.011Z"
   },
   {
    "duration": 16,
    "start_time": "2024-11-26T00:29:26.304Z"
   },
   {
    "duration": 20,
    "start_time": "2024-11-26T00:29:26.322Z"
   },
   {
    "duration": 10,
    "start_time": "2024-11-26T00:29:26.344Z"
   },
   {
    "duration": 18,
    "start_time": "2024-11-26T00:29:26.356Z"
   },
   {
    "duration": 7,
    "start_time": "2024-11-26T00:29:28.088Z"
   },
   {
    "duration": 3,
    "start_time": "2024-11-26T00:29:28.647Z"
   },
   {
    "duration": 30,
    "start_time": "2024-11-26T00:29:29.013Z"
   },
   {
    "duration": 620,
    "start_time": "2024-11-26T00:29:29.208Z"
   },
   {
    "duration": 29,
    "start_time": "2024-11-26T00:29:29.830Z"
   },
   {
    "duration": 487,
    "start_time": "2024-11-26T00:29:30.009Z"
   },
   {
    "duration": 23,
    "start_time": "2024-11-26T00:29:30.596Z"
   },
   {
    "duration": 551,
    "start_time": "2024-11-26T00:29:30.773Z"
   },
   {
    "duration": 12,
    "start_time": "2024-11-26T00:29:31.576Z"
   },
   {
    "duration": 12,
    "start_time": "2024-11-26T00:29:31.991Z"
   },
   {
    "duration": 11,
    "start_time": "2024-11-26T00:29:32.381Z"
   },
   {
    "duration": 10,
    "start_time": "2024-11-26T00:29:33.889Z"
   },
   {
    "duration": 3,
    "start_time": "2024-11-26T00:29:34.479Z"
   },
   {
    "duration": 3,
    "start_time": "2024-11-26T00:29:34.676Z"
   },
   {
    "duration": 38,
    "start_time": "2024-11-26T00:29:35.079Z"
   },
   {
    "duration": 14,
    "start_time": "2024-11-26T00:29:35.257Z"
   },
   {
    "duration": 9,
    "start_time": "2024-11-26T00:29:35.664Z"
   },
   {
    "duration": 11,
    "start_time": "2024-11-26T00:29:35.893Z"
   },
   {
    "duration": 9,
    "start_time": "2024-11-26T00:29:36.280Z"
   },
   {
    "duration": 12,
    "start_time": "2024-11-26T00:29:36.475Z"
   },
   {
    "duration": 3,
    "start_time": "2024-11-26T00:29:37.322Z"
   },
   {
    "duration": 16,
    "start_time": "2024-11-26T00:29:37.665Z"
   },
   {
    "duration": 12,
    "start_time": "2024-11-26T00:29:37.855Z"
   },
   {
    "duration": 12,
    "start_time": "2024-11-26T00:29:38.076Z"
   },
   {
    "duration": 3,
    "start_time": "2024-11-26T00:29:39.000Z"
   },
   {
    "duration": 166,
    "start_time": "2024-11-26T00:29:39.364Z"
   },
   {
    "duration": 3,
    "start_time": "2024-11-26T00:35:31.501Z"
   },
   {
    "duration": 38,
    "start_time": "2024-11-26T00:35:37.553Z"
   },
   {
    "duration": 40,
    "start_time": "2024-11-26T00:37:55.555Z"
   },
   {
    "duration": 3,
    "start_time": "2024-11-26T00:38:02.470Z"
   },
   {
    "duration": 3,
    "start_time": "2024-11-26T00:38:13.321Z"
   },
   {
    "duration": 38,
    "start_time": "2024-11-26T00:38:13.787Z"
   },
   {
    "duration": 38,
    "start_time": "2024-11-26T00:39:07.003Z"
   },
   {
    "duration": 38,
    "start_time": "2024-11-26T00:39:46.129Z"
   },
   {
    "duration": 177,
    "start_time": "2024-11-26T00:42:43.421Z"
   },
   {
    "duration": 15,
    "start_time": "2024-11-26T00:42:51.884Z"
   },
   {
    "duration": 3,
    "start_time": "2024-11-26T00:43:18.835Z"
   },
   {
    "duration": 3,
    "start_time": "2024-11-26T00:45:00.058Z"
   },
   {
    "duration": 216,
    "start_time": "2024-11-26T00:45:00.195Z"
   },
   {
    "duration": 14,
    "start_time": "2024-11-26T00:45:00.682Z"
   },
   {
    "duration": 13,
    "start_time": "2024-11-26T00:45:01.146Z"
   },
   {
    "duration": 12,
    "start_time": "2024-11-26T00:45:01.517Z"
   },
   {
    "duration": 17,
    "start_time": "2024-11-26T00:45:02.649Z"
   },
   {
    "duration": 7,
    "start_time": "2024-11-26T00:45:03.164Z"
   },
   {
    "duration": 4,
    "start_time": "2024-11-26T00:45:03.649Z"
   },
   {
    "duration": 23,
    "start_time": "2024-11-26T00:45:04.024Z"
   },
   {
    "duration": 495,
    "start_time": "2024-11-26T00:45:04.311Z"
   },
   {
    "duration": 23,
    "start_time": "2024-11-26T00:45:04.845Z"
   },
   {
    "duration": 482,
    "start_time": "2024-11-26T00:45:05.040Z"
   },
   {
    "duration": 23,
    "start_time": "2024-11-26T00:45:05.635Z"
   },
   {
    "duration": 486,
    "start_time": "2024-11-26T00:45:05.810Z"
   },
   {
    "duration": 11,
    "start_time": "2024-11-26T00:45:06.683Z"
   },
   {
    "duration": 11,
    "start_time": "2024-11-26T00:45:07.219Z"
   },
   {
    "duration": 15,
    "start_time": "2024-11-26T00:45:07.457Z"
   },
   {
    "duration": 9,
    "start_time": "2024-11-26T00:45:08.615Z"
   },
   {
    "duration": 4,
    "start_time": "2024-11-26T00:45:09.232Z"
   },
   {
    "duration": 3,
    "start_time": "2024-11-26T00:45:09.428Z"
   },
   {
    "duration": 35,
    "start_time": "2024-11-26T00:45:09.801Z"
   },
   {
    "duration": 11,
    "start_time": "2024-11-26T00:45:10.061Z"
   },
   {
    "duration": 12,
    "start_time": "2024-11-26T00:45:10.491Z"
   },
   {
    "duration": 10,
    "start_time": "2024-11-26T00:45:10.697Z"
   },
   {
    "duration": 10,
    "start_time": "2024-11-26T00:45:11.056Z"
   },
   {
    "duration": 12,
    "start_time": "2024-11-26T00:45:11.260Z"
   },
   {
    "duration": 3,
    "start_time": "2024-11-26T00:45:12.081Z"
   },
   {
    "duration": 18,
    "start_time": "2024-11-26T00:45:12.448Z"
   },
   {
    "duration": 10,
    "start_time": "2024-11-26T00:45:12.624Z"
   },
   {
    "duration": 10,
    "start_time": "2024-11-26T00:45:12.843Z"
   },
   {
    "duration": 4,
    "start_time": "2024-11-26T00:45:13.630Z"
   },
   {
    "duration": 40,
    "start_time": "2024-11-26T00:45:13.896Z"
   },
   {
    "duration": 3,
    "start_time": "2024-11-26T00:45:56.820Z"
   },
   {
    "duration": 233,
    "start_time": "2024-11-26T00:45:57.025Z"
   },
   {
    "duration": 13,
    "start_time": "2024-11-26T00:45:57.392Z"
   },
   {
    "duration": 12,
    "start_time": "2024-11-26T00:45:57.764Z"
   },
   {
    "duration": 11,
    "start_time": "2024-11-26T00:45:58.137Z"
   },
   {
    "duration": 17,
    "start_time": "2024-11-26T00:45:58.948Z"
   },
   {
    "duration": 5,
    "start_time": "2024-11-26T00:45:59.466Z"
   },
   {
    "duration": 4,
    "start_time": "2024-11-26T00:45:59.998Z"
   },
   {
    "duration": 22,
    "start_time": "2024-11-26T00:46:00.348Z"
   },
   {
    "duration": 568,
    "start_time": "2024-11-26T00:46:00.525Z"
   },
   {
    "duration": 22,
    "start_time": "2024-11-26T00:46:01.095Z"
   },
   {
    "duration": 487,
    "start_time": "2024-11-26T00:46:01.195Z"
   },
   {
    "duration": 22,
    "start_time": "2024-11-26T00:46:01.708Z"
   },
   {
    "duration": 504,
    "start_time": "2024-11-26T00:46:01.873Z"
   },
   {
    "duration": 11,
    "start_time": "2024-11-26T00:46:02.591Z"
   },
   {
    "duration": 11,
    "start_time": "2024-11-26T00:46:02.997Z"
   },
   {
    "duration": 10,
    "start_time": "2024-11-26T00:46:03.393Z"
   },
   {
    "duration": 8,
    "start_time": "2024-11-26T00:46:04.498Z"
   },
   {
    "duration": 2,
    "start_time": "2024-11-26T00:46:05.065Z"
   },
   {
    "duration": 3,
    "start_time": "2024-11-26T00:46:05.262Z"
   },
   {
    "duration": 35,
    "start_time": "2024-11-26T00:46:05.648Z"
   },
   {
    "duration": 10,
    "start_time": "2024-11-26T00:46:05.825Z"
   },
   {
    "duration": 9,
    "start_time": "2024-11-26T00:46:06.232Z"
   },
   {
    "duration": 12,
    "start_time": "2024-11-26T00:46:06.425Z"
   },
   {
    "duration": 10,
    "start_time": "2024-11-26T00:46:06.783Z"
   },
   {
    "duration": 11,
    "start_time": "2024-11-26T00:46:06.959Z"
   },
   {
    "duration": 3,
    "start_time": "2024-11-26T00:46:07.713Z"
   },
   {
    "duration": 17,
    "start_time": "2024-11-26T00:46:08.127Z"
   },
   {
    "duration": 11,
    "start_time": "2024-11-26T00:46:08.306Z"
   },
   {
    "duration": 10,
    "start_time": "2024-11-26T00:46:08.527Z"
   },
   {
    "duration": 3,
    "start_time": "2024-11-26T00:46:09.315Z"
   },
   {
    "duration": 42,
    "start_time": "2024-11-26T00:46:09.509Z"
   },
   {
    "duration": 13,
    "start_time": "2024-11-26T00:46:38.540Z"
   },
   {
    "duration": 15,
    "start_time": "2024-11-26T00:46:46.478Z"
   },
   {
    "duration": 13,
    "start_time": "2024-11-26T00:46:53.053Z"
   },
   {
    "duration": 13,
    "start_time": "2024-11-26T00:47:38.069Z"
   },
   {
    "duration": 15,
    "start_time": "2024-11-26T00:47:42.603Z"
   },
   {
    "duration": 13,
    "start_time": "2024-11-26T00:47:51.120Z"
   },
   {
    "duration": 13,
    "start_time": "2024-11-26T00:48:00.361Z"
   },
   {
    "duration": 10,
    "start_time": "2024-11-26T00:51:53.197Z"
   },
   {
    "duration": 9,
    "start_time": "2024-11-26T00:51:58.073Z"
   },
   {
    "duration": 11,
    "start_time": "2024-11-26T00:52:01.507Z"
   },
   {
    "duration": 9,
    "start_time": "2024-11-26T00:52:09.644Z"
   },
   {
    "duration": 10,
    "start_time": "2024-11-26T00:52:10.313Z"
   },
   {
    "duration": 4,
    "start_time": "2024-11-26T00:52:17.921Z"
   },
   {
    "duration": 17,
    "start_time": "2024-11-26T00:52:21.775Z"
   },
   {
    "duration": 11,
    "start_time": "2024-11-26T00:52:22.555Z"
   },
   {
    "duration": 10,
    "start_time": "2024-11-26T00:52:23.019Z"
   },
   {
    "duration": 4,
    "start_time": "2024-11-26T00:52:25.140Z"
   },
   {
    "duration": 41,
    "start_time": "2024-11-26T00:52:26.118Z"
   },
   {
    "duration": 3,
    "start_time": "2024-11-26T00:55:24.857Z"
   },
   {
    "duration": 223,
    "start_time": "2024-11-26T00:55:25.028Z"
   },
   {
    "duration": 13,
    "start_time": "2024-11-26T00:55:25.384Z"
   },
   {
    "duration": 12,
    "start_time": "2024-11-26T00:55:26.054Z"
   },
   {
    "duration": 11,
    "start_time": "2024-11-26T00:55:26.425Z"
   },
   {
    "duration": 18,
    "start_time": "2024-11-26T00:55:27.352Z"
   },
   {
    "duration": 8,
    "start_time": "2024-11-26T00:55:28.150Z"
   },
   {
    "duration": 29,
    "start_time": "2024-11-26T00:55:28.566Z"
   },
   {
    "duration": 622,
    "start_time": "2024-11-26T00:55:28.759Z"
   },
   {
    "duration": 24,
    "start_time": "2024-11-26T00:55:29.457Z"
   },
   {
    "duration": 473,
    "start_time": "2024-11-26T00:55:29.625Z"
   },
   {
    "duration": 25,
    "start_time": "2024-11-26T00:55:30.771Z"
   },
   {
    "duration": 525,
    "start_time": "2024-11-26T00:55:30.999Z"
   },
   {
    "duration": 11,
    "start_time": "2024-11-26T00:55:31.826Z"
   },
   {
    "duration": 11,
    "start_time": "2024-11-26T00:55:32.238Z"
   },
   {
    "duration": 15,
    "start_time": "2024-11-26T00:55:32.651Z"
   },
   {
    "duration": 8,
    "start_time": "2024-11-26T00:55:34.688Z"
   },
   {
    "duration": 2,
    "start_time": "2024-11-26T00:55:36.269Z"
   },
   {
    "duration": 2,
    "start_time": "2024-11-26T00:55:36.707Z"
   },
   {
    "duration": 34,
    "start_time": "2024-11-26T00:55:37.250Z"
   },
   {
    "duration": 11,
    "start_time": "2024-11-26T00:55:37.496Z"
   },
   {
    "duration": 9,
    "start_time": "2024-11-26T00:55:40.487Z"
   },
   {
    "duration": 14,
    "start_time": "2024-11-26T00:55:40.746Z"
   },
   {
    "duration": 9,
    "start_time": "2024-11-26T00:55:41.371Z"
   },
   {
    "duration": 10,
    "start_time": "2024-11-26T00:55:41.707Z"
   },
   {
    "duration": 3,
    "start_time": "2024-11-26T00:55:43.087Z"
   },
   {
    "duration": 16,
    "start_time": "2024-11-26T00:55:44.154Z"
   },
   {
    "duration": 10,
    "start_time": "2024-11-26T00:55:44.649Z"
   },
   {
    "duration": 11,
    "start_time": "2024-11-26T00:55:44.964Z"
   },
   {
    "duration": 3,
    "start_time": "2024-11-26T00:55:46.067Z"
   },
   {
    "duration": 36,
    "start_time": "2024-11-26T00:55:46.276Z"
   },
   {
    "duration": 35,
    "start_time": "2024-11-26T00:57:33.207Z"
   },
   {
    "duration": 14,
    "start_time": "2024-11-26T00:58:29.687Z"
   },
   {
    "duration": 8,
    "start_time": "2024-11-26T00:58:30.708Z"
   },
   {
    "duration": 8,
    "start_time": "2024-11-26T00:58:32.022Z"
   },
   {
    "duration": 18,
    "start_time": "2024-11-26T00:58:36.623Z"
   },
   {
    "duration": 5,
    "start_time": "2024-11-26T00:58:38.804Z"
   },
   {
    "duration": 24,
    "start_time": "2024-11-26T00:58:41.639Z"
   },
   {
    "duration": 444,
    "start_time": "2024-11-26T00:58:43.038Z"
   },
   {
    "duration": 23,
    "start_time": "2024-11-26T00:58:45.558Z"
   },
   {
    "duration": 641,
    "start_time": "2024-11-26T00:58:47.226Z"
   },
   {
    "duration": 23,
    "start_time": "2024-11-26T00:58:49.357Z"
   },
   {
    "duration": 474,
    "start_time": "2024-11-26T00:58:51.900Z"
   },
   {
    "duration": 11,
    "start_time": "2024-11-26T00:58:53.770Z"
   },
   {
    "duration": 10,
    "start_time": "2024-11-26T00:58:55.072Z"
   },
   {
    "duration": 10,
    "start_time": "2024-11-26T00:58:56.241Z"
   },
   {
    "duration": 744,
    "start_time": "2024-11-26T00:58:58.937Z"
   },
   {
    "duration": 37,
    "start_time": "2024-11-26T00:59:16.613Z"
   },
   {
    "duration": 4,
    "start_time": "2024-11-26T01:00:01.697Z"
   },
   {
    "duration": 7,
    "start_time": "2024-11-26T01:00:13.018Z"
   },
   {
    "duration": 12,
    "start_time": "2024-11-26T01:00:27.720Z"
   },
   {
    "duration": 7,
    "start_time": "2024-11-26T01:00:41.088Z"
   },
   {
    "duration": 3,
    "start_time": "2024-11-26T01:00:46.137Z"
   },
   {
    "duration": 7,
    "start_time": "2024-11-26T01:01:00.282Z"
   },
   {
    "duration": 3,
    "start_time": "2024-11-26T01:01:21.165Z"
   },
   {
    "duration": 7,
    "start_time": "2024-11-26T01:01:30.316Z"
   },
   {
    "duration": 59,
    "start_time": "2024-11-26T01:01:54.006Z"
   },
   {
    "duration": 26,
    "start_time": "2024-11-26T01:03:19.179Z"
   },
   {
    "duration": 30,
    "start_time": "2024-11-26T01:03:41.036Z"
   },
   {
    "duration": 25,
    "start_time": "2024-11-26T01:03:52.724Z"
   },
   {
    "duration": 465,
    "start_time": "2024-11-26T01:03:58.935Z"
   },
   {
    "duration": 12,
    "start_time": "2024-11-26T01:04:06.732Z"
   },
   {
    "duration": 11,
    "start_time": "2024-11-26T01:04:12.115Z"
   },
   {
    "duration": 11,
    "start_time": "2024-11-26T01:04:17.786Z"
   },
   {
    "duration": 38,
    "start_time": "2024-11-26T01:04:26.157Z"
   },
   {
    "duration": 38,
    "start_time": "2024-11-26T01:05:01.856Z"
   },
   {
    "duration": 36,
    "start_time": "2024-11-26T01:05:13.881Z"
   },
   {
    "duration": 3,
    "start_time": "2024-11-26T01:05:45.875Z"
   },
   {
    "duration": 229,
    "start_time": "2024-11-26T01:05:46.340Z"
   },
   {
    "duration": 4,
    "start_time": "2024-11-26T01:05:46.933Z"
   },
   {
    "duration": 8,
    "start_time": "2024-11-26T01:05:47.109Z"
   },
   {
    "duration": 12,
    "start_time": "2024-11-26T01:05:47.292Z"
   },
   {
    "duration": 4,
    "start_time": "2024-11-26T01:05:47.840Z"
   },
   {
    "duration": 11,
    "start_time": "2024-11-26T01:05:48.028Z"
   },
   {
    "duration": 9,
    "start_time": "2024-11-26T01:05:48.193Z"
   },
   {
    "duration": 4,
    "start_time": "2024-11-26T01:05:48.626Z"
   },
   {
    "duration": 8,
    "start_time": "2024-11-26T01:05:48.812Z"
   },
   {
    "duration": 11,
    "start_time": "2024-11-26T01:05:49.011Z"
   },
   {
    "duration": 82,
    "start_time": "2024-11-26T01:05:49.419Z"
   },
   {
    "duration": 4,
    "start_time": "2024-11-26T01:05:50.017Z"
   },
   {
    "duration": 27,
    "start_time": "2024-11-26T01:05:50.435Z"
   },
   {
    "duration": 496,
    "start_time": "2024-11-26T01:05:50.609Z"
   },
   {
    "duration": 27,
    "start_time": "2024-11-26T01:05:51.257Z"
   },
   {
    "duration": 480,
    "start_time": "2024-11-26T01:05:51.460Z"
   },
   {
    "duration": 24,
    "start_time": "2024-11-26T01:05:52.017Z"
   },
   {
    "duration": 474,
    "start_time": "2024-11-26T01:05:52.226Z"
   },
   {
    "duration": 11,
    "start_time": "2024-11-26T01:05:53.084Z"
   },
   {
    "duration": 10,
    "start_time": "2024-11-26T01:05:53.485Z"
   },
   {
    "duration": 11,
    "start_time": "2024-11-26T01:05:53.928Z"
   },
   {
    "duration": 7,
    "start_time": "2024-11-26T01:05:55.134Z"
   },
   {
    "duration": 36,
    "start_time": "2024-11-26T01:05:58.125Z"
   },
   {
    "duration": 35,
    "start_time": "2024-11-26T01:06:01.006Z"
   },
   {
    "duration": 3,
    "start_time": "2024-11-26T01:06:08.091Z"
   },
   {
    "duration": 228,
    "start_time": "2024-11-26T01:06:08.788Z"
   },
   {
    "duration": 4,
    "start_time": "2024-11-26T01:06:11.053Z"
   },
   {
    "duration": 7,
    "start_time": "2024-11-26T01:06:11.244Z"
   },
   {
    "duration": 12,
    "start_time": "2024-11-26T01:06:11.443Z"
   },
   {
    "duration": 3,
    "start_time": "2024-11-26T01:06:11.835Z"
   },
   {
    "duration": 12,
    "start_time": "2024-11-26T01:06:12.011Z"
   },
   {
    "duration": 8,
    "start_time": "2024-11-26T01:06:12.176Z"
   },
   {
    "duration": 5,
    "start_time": "2024-11-26T01:06:12.542Z"
   },
   {
    "duration": 7,
    "start_time": "2024-11-26T01:06:12.744Z"
   },
   {
    "duration": 13,
    "start_time": "2024-11-26T01:06:12.962Z"
   },
   {
    "duration": 80,
    "start_time": "2024-11-26T01:06:13.351Z"
   },
   {
    "duration": 3,
    "start_time": "2024-11-26T01:06:13.894Z"
   },
   {
    "duration": 25,
    "start_time": "2024-11-26T01:06:14.291Z"
   },
   {
    "duration": 505,
    "start_time": "2024-11-26T01:06:14.476Z"
   },
   {
    "duration": 28,
    "start_time": "2024-11-26T01:06:15.061Z"
   },
   {
    "duration": 612,
    "start_time": "2024-11-26T01:06:15.266Z"
   },
   {
    "duration": 25,
    "start_time": "2024-11-26T01:06:15.881Z"
   },
   {
    "duration": 513,
    "start_time": "2024-11-26T01:06:15.981Z"
   },
   {
    "duration": 10,
    "start_time": "2024-11-26T01:06:16.882Z"
   },
   {
    "duration": 10,
    "start_time": "2024-11-26T01:06:17.422Z"
   },
   {
    "duration": 11,
    "start_time": "2024-11-26T01:06:17.767Z"
   },
   {
    "duration": 5,
    "start_time": "2024-11-26T01:06:19.018Z"
   },
   {
    "duration": 7,
    "start_time": "2024-11-26T01:06:37.425Z"
   },
   {
    "duration": 3,
    "start_time": "2024-11-26T01:07:56.041Z"
   },
   {
    "duration": 2,
    "start_time": "2024-11-26T01:07:56.499Z"
   },
   {
    "duration": 9,
    "start_time": "2024-11-26T01:07:57.649Z"
   },
   {
    "duration": 12,
    "start_time": "2024-11-26T01:07:58.473Z"
   },
   {
    "duration": 9,
    "start_time": "2024-11-26T01:08:01.398Z"
   },
   {
    "duration": 15,
    "start_time": "2024-11-26T01:08:02.339Z"
   },
   {
    "duration": 8,
    "start_time": "2024-11-26T01:08:03.168Z"
   },
   {
    "duration": 11,
    "start_time": "2024-11-26T01:08:03.657Z"
   },
   {
    "duration": 3,
    "start_time": "2024-11-26T01:08:18.736Z"
   },
   {
    "duration": 10,
    "start_time": "2024-11-26T01:08:19.660Z"
   },
   {
    "duration": 11,
    "start_time": "2024-11-26T01:08:20.295Z"
   },
   {
    "duration": 10,
    "start_time": "2024-11-26T01:08:20.861Z"
   },
   {
    "duration": 4,
    "start_time": "2024-11-26T01:08:22.873Z"
   },
   {
    "duration": 15,
    "start_time": "2024-11-26T01:08:24.118Z"
   },
   {
    "duration": 2714,
    "start_time": "2024-11-26T02:25:34.779Z"
   },
   {
    "duration": 297,
    "start_time": "2024-11-26T02:25:37.495Z"
   },
   {
    "duration": 5,
    "start_time": "2024-11-26T02:25:37.794Z"
   },
   {
    "duration": 11,
    "start_time": "2024-11-26T02:25:37.802Z"
   },
   {
    "duration": 12,
    "start_time": "2024-11-26T02:25:37.815Z"
   },
   {
    "duration": 5,
    "start_time": "2024-11-26T02:25:37.829Z"
   },
   {
    "duration": 10,
    "start_time": "2024-11-26T02:25:37.837Z"
   },
   {
    "duration": 8,
    "start_time": "2024-11-26T02:25:37.849Z"
   },
   {
    "duration": 3,
    "start_time": "2024-11-26T02:25:37.859Z"
   },
   {
    "duration": 7,
    "start_time": "2024-11-26T02:25:37.865Z"
   },
   {
    "duration": 46,
    "start_time": "2024-11-26T02:25:37.875Z"
   },
   {
    "duration": 94,
    "start_time": "2024-11-26T02:25:37.922Z"
   },
   {
    "duration": 3,
    "start_time": "2024-11-26T02:25:38.124Z"
   },
   {
    "duration": 27,
    "start_time": "2024-11-26T02:25:38.683Z"
   },
   {
    "duration": 528,
    "start_time": "2024-11-26T02:25:38.813Z"
   },
   {
    "duration": 25,
    "start_time": "2024-11-26T02:25:39.452Z"
   },
   {
    "duration": 540,
    "start_time": "2024-11-26T02:25:39.624Z"
   },
   {
    "duration": 24,
    "start_time": "2024-11-26T02:25:40.175Z"
   },
   {
    "duration": 509,
    "start_time": "2024-11-26T02:25:40.358Z"
   },
   {
    "duration": 11,
    "start_time": "2024-11-26T02:25:41.109Z"
   },
   {
    "duration": 11,
    "start_time": "2024-11-26T02:25:41.541Z"
   },
   {
    "duration": 10,
    "start_time": "2024-11-26T02:25:41.963Z"
   },
   {
    "duration": 8,
    "start_time": "2024-11-26T02:25:43.229Z"
   },
   {
    "duration": 3,
    "start_time": "2024-11-26T02:25:43.853Z"
   },
   {
    "duration": 2,
    "start_time": "2024-11-26T02:25:44.042Z"
   },
   {
    "duration": 35,
    "start_time": "2024-11-26T02:25:44.408Z"
   },
   {
    "duration": 11,
    "start_time": "2024-11-26T02:25:44.575Z"
   },
   {
    "duration": 36,
    "start_time": "2024-11-26T02:25:44.967Z"
   },
   {
    "duration": 10,
    "start_time": "2024-11-26T02:25:45.179Z"
   },
   {
    "duration": 35,
    "start_time": "2024-11-26T02:25:45.630Z"
   },
   {
    "duration": 11,
    "start_time": "2024-11-26T02:25:45.827Z"
   },
   {
    "duration": 3,
    "start_time": "2024-11-26T02:25:46.635Z"
   },
   {
    "duration": 20,
    "start_time": "2024-11-26T02:25:46.976Z"
   },
   {
    "duration": 17,
    "start_time": "2024-11-26T02:25:47.175Z"
   },
   {
    "duration": 18,
    "start_time": "2024-11-26T02:25:47.445Z"
   },
   {
    "duration": 3,
    "start_time": "2024-11-26T02:25:48.199Z"
   },
   {
    "duration": 165,
    "start_time": "2024-11-26T02:25:48.395Z"
   },
   {
    "duration": 2,
    "start_time": "2024-11-26T02:26:27.550Z"
   },
   {
    "duration": 214,
    "start_time": "2024-11-26T02:26:27.710Z"
   },
   {
    "duration": 7,
    "start_time": "2024-11-26T02:26:28.025Z"
   },
   {
    "duration": 7,
    "start_time": "2024-11-26T02:26:28.261Z"
   },
   {
    "duration": 11,
    "start_time": "2024-11-26T02:26:28.435Z"
   },
   {
    "duration": 4,
    "start_time": "2024-11-26T02:26:28.769Z"
   },
   {
    "duration": 11,
    "start_time": "2024-11-26T02:26:28.960Z"
   },
   {
    "duration": 8,
    "start_time": "2024-11-26T02:26:29.142Z"
   },
   {
    "duration": 4,
    "start_time": "2024-11-26T02:26:29.465Z"
   },
   {
    "duration": 9,
    "start_time": "2024-11-26T02:26:29.772Z"
   },
   {
    "duration": 14,
    "start_time": "2024-11-26T02:26:29.942Z"
   },
   {
    "duration": 79,
    "start_time": "2024-11-26T02:26:30.332Z"
   },
   {
    "duration": 4,
    "start_time": "2024-11-26T02:26:30.899Z"
   },
   {
    "duration": 28,
    "start_time": "2024-11-26T02:26:31.419Z"
   },
   {
    "duration": 512,
    "start_time": "2024-11-26T02:26:31.574Z"
   },
   {
    "duration": 26,
    "start_time": "2024-11-26T02:26:32.194Z"
   },
   {
    "duration": 566,
    "start_time": "2024-11-26T02:26:32.374Z"
   },
   {
    "duration": 27,
    "start_time": "2024-11-26T02:26:32.992Z"
   },
   {
    "duration": 497,
    "start_time": "2024-11-26T02:26:33.174Z"
   },
   {
    "duration": 11,
    "start_time": "2024-11-26T02:26:33.959Z"
   },
   {
    "duration": 11,
    "start_time": "2024-11-26T02:26:34.334Z"
   },
   {
    "duration": 12,
    "start_time": "2024-11-26T02:26:34.741Z"
   },
   {
    "duration": 8,
    "start_time": "2024-11-26T02:26:35.916Z"
   },
   {
    "duration": 2,
    "start_time": "2024-11-26T02:26:36.509Z"
   },
   {
    "duration": 2,
    "start_time": "2024-11-26T02:26:36.693Z"
   },
   {
    "duration": 34,
    "start_time": "2024-11-26T02:26:37.068Z"
   },
   {
    "duration": 15,
    "start_time": "2024-11-26T02:26:37.245Z"
   },
   {
    "duration": 33,
    "start_time": "2024-11-26T02:26:37.677Z"
   },
   {
    "duration": 10,
    "start_time": "2024-11-26T02:26:37.881Z"
   },
   {
    "duration": 33,
    "start_time": "2024-11-26T02:26:38.244Z"
   },
   {
    "duration": 11,
    "start_time": "2024-11-26T02:26:38.450Z"
   },
   {
    "duration": 3,
    "start_time": "2024-11-26T02:26:39.269Z"
   },
   {
    "duration": 15,
    "start_time": "2024-11-26T02:26:39.669Z"
   },
   {
    "duration": 17,
    "start_time": "2024-11-26T02:26:39.898Z"
   },
   {
    "duration": 16,
    "start_time": "2024-11-26T02:26:40.093Z"
   },
   {
    "duration": 3,
    "start_time": "2024-11-26T02:26:40.884Z"
   },
   {
    "duration": 38,
    "start_time": "2024-11-26T02:26:41.097Z"
   },
   {
    "duration": 3,
    "start_time": "2024-11-26T02:26:46.996Z"
   },
   {
    "duration": 37,
    "start_time": "2024-11-26T02:26:47.696Z"
   },
   {
    "duration": 3,
    "start_time": "2024-11-26T02:27:19.672Z"
   },
   {
    "duration": 213,
    "start_time": "2024-11-26T02:27:19.843Z"
   },
   {
    "duration": 4,
    "start_time": "2024-11-26T02:27:20.754Z"
   },
   {
    "duration": 7,
    "start_time": "2024-11-26T02:27:21.403Z"
   },
   {
    "duration": 12,
    "start_time": "2024-11-26T02:27:22.178Z"
   },
   {
    "duration": 3,
    "start_time": "2024-11-26T02:27:22.999Z"
   },
   {
    "duration": 11,
    "start_time": "2024-11-26T02:27:23.322Z"
   },
   {
    "duration": 8,
    "start_time": "2024-11-26T02:27:23.614Z"
   },
   {
    "duration": 4,
    "start_time": "2024-11-26T02:27:24.087Z"
   },
   {
    "duration": 7,
    "start_time": "2024-11-26T02:27:24.330Z"
   },
   {
    "duration": 11,
    "start_time": "2024-11-26T02:27:24.664Z"
   },
   {
    "duration": 79,
    "start_time": "2024-11-26T02:27:25.177Z"
   },
   {
    "duration": 3,
    "start_time": "2024-11-26T02:27:26.419Z"
   },
   {
    "duration": 25,
    "start_time": "2024-11-26T02:27:27.445Z"
   },
   {
    "duration": 492,
    "start_time": "2024-11-26T02:27:27.863Z"
   },
   {
    "duration": 25,
    "start_time": "2024-11-26T02:27:28.586Z"
   },
   {
    "duration": 488,
    "start_time": "2024-11-26T02:27:28.848Z"
   },
   {
    "duration": 25,
    "start_time": "2024-11-26T02:27:29.710Z"
   },
   {
    "duration": 588,
    "start_time": "2024-11-26T02:27:29.965Z"
   },
   {
    "duration": 11,
    "start_time": "2024-11-26T02:27:31.713Z"
   },
   {
    "duration": 11,
    "start_time": "2024-11-26T02:27:32.300Z"
   },
   {
    "duration": 11,
    "start_time": "2024-11-26T02:27:32.893Z"
   },
   {
    "duration": 8,
    "start_time": "2024-11-26T02:27:34.788Z"
   },
   {
    "duration": 2,
    "start_time": "2024-11-26T02:27:37.249Z"
   },
   {
    "duration": 2,
    "start_time": "2024-11-26T02:27:37.857Z"
   },
   {
    "duration": 32,
    "start_time": "2024-11-26T02:27:39.106Z"
   },
   {
    "duration": 11,
    "start_time": "2024-11-26T02:27:39.821Z"
   },
   {
    "duration": 37,
    "start_time": "2024-11-26T02:27:40.804Z"
   },
   {
    "duration": 10,
    "start_time": "2024-11-26T02:27:41.032Z"
   },
   {
    "duration": 34,
    "start_time": "2024-11-26T02:27:41.604Z"
   },
   {
    "duration": 11,
    "start_time": "2024-11-26T02:27:41.814Z"
   },
   {
    "duration": 3,
    "start_time": "2024-11-26T02:27:42.699Z"
   },
   {
    "duration": 16,
    "start_time": "2024-11-26T02:27:43.862Z"
   },
   {
    "duration": 18,
    "start_time": "2024-11-26T02:27:44.480Z"
   },
   {
    "duration": 17,
    "start_time": "2024-11-26T02:27:45.002Z"
   },
   {
    "duration": 3,
    "start_time": "2024-11-26T02:27:46.975Z"
   },
   {
    "duration": 36,
    "start_time": "2024-11-26T02:27:51.428Z"
   },
   {
    "duration": 6,
    "start_time": "2024-11-26T02:29:18.078Z"
   },
   {
    "duration": 2,
    "start_time": "2024-11-26T02:29:20.176Z"
   },
   {
    "duration": 3,
    "start_time": "2024-11-26T02:29:20.395Z"
   },
   {
    "duration": 9,
    "start_time": "2024-11-26T02:29:20.943Z"
   },
   {
    "duration": 10,
    "start_time": "2024-11-26T02:29:21.047Z"
   },
   {
    "duration": 9,
    "start_time": "2024-11-26T02:29:21.472Z"
   },
   {
    "duration": 10,
    "start_time": "2024-11-26T02:29:21.633Z"
   },
   {
    "duration": 9,
    "start_time": "2024-11-26T02:29:22.012Z"
   },
   {
    "duration": 12,
    "start_time": "2024-11-26T02:29:22.350Z"
   },
   {
    "duration": 4,
    "start_time": "2024-11-26T02:29:23.042Z"
   },
   {
    "duration": 10,
    "start_time": "2024-11-26T02:29:23.430Z"
   },
   {
    "duration": 13,
    "start_time": "2024-11-26T02:29:23.609Z"
   },
   {
    "duration": 12,
    "start_time": "2024-11-26T02:29:23.980Z"
   },
   {
    "duration": 4,
    "start_time": "2024-11-26T02:29:24.700Z"
   },
   {
    "duration": 20,
    "start_time": "2024-11-26T02:29:24.911Z"
   },
   {
    "duration": 800,
    "start_time": "2024-11-26T02:29:55.515Z"
   },
   {
    "duration": 0,
    "start_time": "2024-11-26T02:29:56.318Z"
   },
   {
    "duration": 0,
    "start_time": "2024-11-26T02:29:56.319Z"
   },
   {
    "duration": 10,
    "start_time": "2024-11-26T02:29:56.543Z"
   },
   {
    "duration": 11,
    "start_time": "2024-11-26T02:29:56.719Z"
   },
   {
    "duration": 13,
    "start_time": "2024-11-26T02:29:57.083Z"
   },
   {
    "duration": 10,
    "start_time": "2024-11-26T02:29:59.388Z"
   },
   {
    "duration": 9,
    "start_time": "2024-11-26T02:29:59.700Z"
   },
   {
    "duration": 14,
    "start_time": "2024-11-26T02:29:59.876Z"
   },
   {
    "duration": 3,
    "start_time": "2024-11-26T02:30:00.588Z"
   },
   {
    "duration": 11,
    "start_time": "2024-11-26T02:30:00.951Z"
   },
   {
    "duration": 11,
    "start_time": "2024-11-26T02:30:01.143Z"
   },
   {
    "duration": 13,
    "start_time": "2024-11-26T02:30:01.309Z"
   },
   {
    "duration": 3,
    "start_time": "2024-11-26T02:30:02.051Z"
   },
   {
    "duration": 11,
    "start_time": "2024-11-26T02:30:02.252Z"
   },
   {
    "duration": 23,
    "start_time": "2024-11-26T02:32:40.249Z"
   },
   {
    "duration": 9,
    "start_time": "2024-11-26T02:32:59.456Z"
   },
   {
    "duration": 11,
    "start_time": "2024-11-26T02:36:43.523Z"
   },
   {
    "duration": 10,
    "start_time": "2024-11-26T02:38:32.109Z"
   },
   {
    "duration": 11,
    "start_time": "2024-11-26T02:39:38.307Z"
   },
   {
    "duration": 3,
    "start_time": "2024-11-26T03:14:54.027Z"
   },
   {
    "duration": 207,
    "start_time": "2024-11-26T03:14:54.180Z"
   },
   {
    "duration": 3,
    "start_time": "2024-11-26T03:14:54.515Z"
   },
   {
    "duration": 12,
    "start_time": "2024-11-26T03:14:54.945Z"
   },
   {
    "duration": 13,
    "start_time": "2024-11-26T03:14:55.115Z"
   },
   {
    "duration": 4,
    "start_time": "2024-11-26T03:14:55.689Z"
   },
   {
    "duration": 11,
    "start_time": "2024-11-26T03:14:55.903Z"
   },
   {
    "duration": 7,
    "start_time": "2024-11-26T03:14:56.083Z"
   },
   {
    "duration": 4,
    "start_time": "2024-11-26T03:14:56.576Z"
   },
   {
    "duration": 7,
    "start_time": "2024-11-26T03:14:56.923Z"
   },
   {
    "duration": 12,
    "start_time": "2024-11-26T03:14:57.296Z"
   },
   {
    "duration": 76,
    "start_time": "2024-11-26T03:14:57.706Z"
   },
   {
    "duration": 7,
    "start_time": "2024-11-26T03:14:58.839Z"
   },
   {
    "duration": 30,
    "start_time": "2024-11-26T03:14:59.476Z"
   },
   {
    "duration": 501,
    "start_time": "2024-11-26T03:14:59.845Z"
   },
   {
    "duration": 24,
    "start_time": "2024-11-26T03:15:00.505Z"
   },
   {
    "duration": 485,
    "start_time": "2024-11-26T03:15:00.663Z"
   },
   {
    "duration": 25,
    "start_time": "2024-11-26T03:15:01.565Z"
   },
   {
    "duration": 469,
    "start_time": "2024-11-26T03:15:01.998Z"
   },
   {
    "duration": 11,
    "start_time": "2024-11-26T03:15:02.897Z"
   },
   {
    "duration": 11,
    "start_time": "2024-11-26T03:15:03.293Z"
   },
   {
    "duration": 11,
    "start_time": "2024-11-26T03:15:03.700Z"
   },
   {
    "duration": 11,
    "start_time": "2024-11-26T03:15:05.024Z"
   },
   {
    "duration": 6,
    "start_time": "2024-11-26T03:15:05.406Z"
   },
   {
    "duration": 3,
    "start_time": "2024-11-26T03:15:08.084Z"
   },
   {
    "duration": 3,
    "start_time": "2024-11-26T03:15:08.301Z"
   },
   {
    "duration": 11,
    "start_time": "2024-11-26T03:15:08.904Z"
   },
   {
    "duration": 11,
    "start_time": "2024-11-26T03:15:09.083Z"
   },
   {
    "duration": 9,
    "start_time": "2024-11-26T03:15:09.744Z"
   },
   {
    "duration": 10,
    "start_time": "2024-11-26T03:15:09.969Z"
   },
   {
    "duration": 9,
    "start_time": "2024-11-26T03:15:10.862Z"
   },
   {
    "duration": 10,
    "start_time": "2024-11-26T03:15:11.070Z"
   },
   {
    "duration": 6,
    "start_time": "2024-11-26T03:15:12.177Z"
   },
   {
    "duration": 10,
    "start_time": "2024-11-26T03:15:12.657Z"
   },
   {
    "duration": 11,
    "start_time": "2024-11-26T03:15:12.953Z"
   },
   {
    "duration": 9,
    "start_time": "2024-11-26T03:15:13.148Z"
   },
   {
    "duration": 3,
    "start_time": "2024-11-26T03:15:14.155Z"
   },
   {
    "duration": 12,
    "start_time": "2024-11-26T03:15:14.366Z"
   },
   {
    "duration": 10,
    "start_time": "2024-11-26T03:15:14.620Z"
   },
   {
    "duration": 11,
    "start_time": "2024-11-26T03:15:14.907Z"
   },
   {
    "duration": 3,
    "start_time": "2024-11-26T03:22:22.899Z"
   },
   {
    "duration": 264,
    "start_time": "2024-11-26T03:22:23.071Z"
   },
   {
    "duration": 4,
    "start_time": "2024-11-26T03:22:23.431Z"
   },
   {
    "duration": 7,
    "start_time": "2024-11-26T03:22:23.609Z"
   },
   {
    "duration": 11,
    "start_time": "2024-11-26T03:22:23.764Z"
   },
   {
    "duration": 7,
    "start_time": "2024-11-26T03:22:24.123Z"
   },
   {
    "duration": 14,
    "start_time": "2024-11-26T03:22:24.300Z"
   },
   {
    "duration": 9,
    "start_time": "2024-11-26T03:22:24.482Z"
   },
   {
    "duration": 4,
    "start_time": "2024-11-26T03:22:24.834Z"
   },
   {
    "duration": 13,
    "start_time": "2024-11-26T03:22:25.016Z"
   },
   {
    "duration": 18,
    "start_time": "2024-11-26T03:22:25.215Z"
   },
   {
    "duration": 76,
    "start_time": "2024-11-26T03:22:25.915Z"
   },
   {
    "duration": 4,
    "start_time": "2024-11-26T03:22:26.476Z"
   },
   {
    "duration": 33,
    "start_time": "2024-11-26T03:22:26.858Z"
   },
   {
    "duration": 546,
    "start_time": "2024-11-26T03:22:27.048Z"
   },
   {
    "duration": 25,
    "start_time": "2024-11-26T03:22:27.610Z"
   },
   {
    "duration": 604,
    "start_time": "2024-11-26T03:22:27.809Z"
   },
   {
    "duration": 26,
    "start_time": "2024-11-26T03:22:28.415Z"
   },
   {
    "duration": 575,
    "start_time": "2024-11-26T03:22:28.574Z"
   },
   {
    "duration": 11,
    "start_time": "2024-11-26T03:22:29.314Z"
   },
   {
    "duration": 10,
    "start_time": "2024-11-26T03:22:29.747Z"
   },
   {
    "duration": 11,
    "start_time": "2024-11-26T03:22:30.107Z"
   },
   {
    "duration": 7,
    "start_time": "2024-11-26T03:22:31.291Z"
   },
   {
    "duration": 5,
    "start_time": "2024-11-26T03:22:31.685Z"
   },
   {
    "duration": 2,
    "start_time": "2024-11-26T03:22:32.274Z"
   },
   {
    "duration": 2,
    "start_time": "2024-11-26T03:22:32.486Z"
   },
   {
    "duration": 10,
    "start_time": "2024-11-26T03:22:32.890Z"
   },
   {
    "duration": 13,
    "start_time": "2024-11-26T03:22:33.084Z"
   },
   {
    "duration": 9,
    "start_time": "2024-11-26T03:22:36.664Z"
   },
   {
    "duration": 10,
    "start_time": "2024-11-26T03:22:36.869Z"
   },
   {
    "duration": 10,
    "start_time": "2024-11-26T03:22:37.307Z"
   },
   {
    "duration": 11,
    "start_time": "2024-11-26T03:22:37.622Z"
   },
   {
    "duration": 3,
    "start_time": "2024-11-26T03:22:39.195Z"
   },
   {
    "duration": 11,
    "start_time": "2024-11-26T03:22:40.082Z"
   },
   {
    "duration": 12,
    "start_time": "2024-11-26T03:22:40.714Z"
   },
   {
    "duration": 11,
    "start_time": "2024-11-26T03:22:41.207Z"
   },
   {
    "duration": 3,
    "start_time": "2024-11-26T03:22:43.659Z"
   },
   {
    "duration": 17,
    "start_time": "2024-11-26T03:22:46.962Z"
   },
   {
    "duration": 11,
    "start_time": "2024-11-26T03:22:47.556Z"
   },
   {
    "duration": 11,
    "start_time": "2024-11-26T03:22:48.075Z"
   },
   {
    "duration": 19,
    "start_time": "2024-11-26T03:22:51.705Z"
   },
   {
    "duration": 15,
    "start_time": "2024-11-26T03:22:57.533Z"
   },
   {
    "duration": 15,
    "start_time": "2024-11-26T03:23:00.377Z"
   },
   {
    "duration": 2,
    "start_time": "2024-11-26T03:25:16.634Z"
   },
   {
    "duration": 14,
    "start_time": "2024-11-26T03:31:59.161Z"
   },
   {
    "duration": 3,
    "start_time": "2024-11-26T03:32:20.731Z"
   },
   {
    "duration": 2,
    "start_time": "2024-11-26T03:32:23.614Z"
   },
   {
    "duration": 3,
    "start_time": "2024-11-26T03:32:24.111Z"
   },
   {
    "duration": 2,
    "start_time": "2024-11-26T03:32:24.579Z"
   },
   {
    "duration": 2,
    "start_time": "2024-11-26T03:32:25.121Z"
   },
   {
    "duration": 2,
    "start_time": "2024-11-26T03:32:25.767Z"
   },
   {
    "duration": 3,
    "start_time": "2024-11-26T03:32:26.594Z"
   },
   {
    "duration": 16,
    "start_time": "2024-11-26T03:32:36.311Z"
   },
   {
    "duration": 3,
    "start_time": "2024-11-26T03:32:52.456Z"
   },
   {
    "duration": 3,
    "start_time": "2024-11-26T03:32:52.634Z"
   },
   {
    "duration": 2,
    "start_time": "2024-11-26T03:32:52.787Z"
   },
   {
    "duration": 2,
    "start_time": "2024-11-26T03:32:52.966Z"
   },
   {
    "duration": 2,
    "start_time": "2024-11-26T03:32:53.136Z"
   },
   {
    "duration": 2,
    "start_time": "2024-11-26T03:32:53.283Z"
   },
   {
    "duration": 3,
    "start_time": "2024-11-26T03:32:53.450Z"
   },
   {
    "duration": 4,
    "start_time": "2024-11-26T03:32:53.802Z"
   },
   {
    "duration": 3,
    "start_time": "2024-11-26T03:33:23.711Z"
   },
   {
    "duration": 18,
    "start_time": "2024-11-26T03:33:50.595Z"
   },
   {
    "duration": 8,
    "start_time": "2024-11-26T03:34:03.180Z"
   },
   {
    "duration": 25,
    "start_time": "2024-11-26T03:34:15.013Z"
   },
   {
    "duration": 23,
    "start_time": "2024-11-26T03:34:25.363Z"
   },
   {
    "duration": 25,
    "start_time": "2024-11-26T03:34:34.219Z"
   },
   {
    "duration": 2703,
    "start_time": "2024-11-26T03:35:21.713Z"
   },
   {
    "duration": 3,
    "start_time": "2024-11-26T03:36:28.728Z"
   },
   {
    "duration": 212,
    "start_time": "2024-11-26T03:36:28.905Z"
   },
   {
    "duration": 4,
    "start_time": "2024-11-26T03:36:29.233Z"
   },
   {
    "duration": 7,
    "start_time": "2024-11-26T03:36:29.416Z"
   },
   {
    "duration": 12,
    "start_time": "2024-11-26T03:36:29.839Z"
   },
   {
    "duration": 4,
    "start_time": "2024-11-26T03:36:30.328Z"
   },
   {
    "duration": 11,
    "start_time": "2024-11-26T03:36:30.518Z"
   },
   {
    "duration": 7,
    "start_time": "2024-11-26T03:36:30.699Z"
   },
   {
    "duration": 5,
    "start_time": "2024-11-26T03:36:31.561Z"
   },
   {
    "duration": 7,
    "start_time": "2024-11-26T03:36:31.749Z"
   },
   {
    "duration": 10,
    "start_time": "2024-11-26T03:36:31.916Z"
   },
   {
    "duration": 77,
    "start_time": "2024-11-26T03:36:32.306Z"
   },
   {
    "duration": 3,
    "start_time": "2024-11-26T03:36:32.979Z"
   },
   {
    "duration": 25,
    "start_time": "2024-11-26T03:36:33.457Z"
   },
   {
    "duration": 472,
    "start_time": "2024-11-26T03:36:33.633Z"
   },
   {
    "duration": 25,
    "start_time": "2024-11-26T03:36:34.398Z"
   },
   {
    "duration": 460,
    "start_time": "2024-11-26T03:36:34.605Z"
   },
   {
    "duration": 24,
    "start_time": "2024-11-26T03:36:35.339Z"
   },
   {
    "duration": 477,
    "start_time": "2024-11-26T03:36:35.480Z"
   },
   {
    "duration": 10,
    "start_time": "2024-11-26T03:36:36.202Z"
   },
   {
    "duration": 11,
    "start_time": "2024-11-26T03:36:36.574Z"
   },
   {
    "duration": 11,
    "start_time": "2024-11-26T03:36:36.905Z"
   },
   {
    "duration": 7,
    "start_time": "2024-11-26T03:36:38.193Z"
   },
   {
    "duration": 8,
    "start_time": "2024-11-26T03:36:39.410Z"
   },
   {
    "duration": 3,
    "start_time": "2024-11-26T03:36:40.663Z"
   },
   {
    "duration": 3,
    "start_time": "2024-11-26T03:36:40.901Z"
   },
   {
    "duration": 9,
    "start_time": "2024-11-26T03:36:41.341Z"
   },
   {
    "duration": 11,
    "start_time": "2024-11-26T03:36:41.536Z"
   },
   {
    "duration": 9,
    "start_time": "2024-11-26T03:36:41.907Z"
   },
   {
    "duration": 12,
    "start_time": "2024-11-26T03:36:42.153Z"
   },
   {
    "duration": 9,
    "start_time": "2024-11-26T03:36:42.857Z"
   },
   {
    "duration": 12,
    "start_time": "2024-11-26T03:36:43.102Z"
   },
   {
    "duration": 4,
    "start_time": "2024-11-26T03:36:44.193Z"
   },
   {
    "duration": 11,
    "start_time": "2024-11-26T03:36:44.590Z"
   },
   {
    "duration": 11,
    "start_time": "2024-11-26T03:36:44.848Z"
   },
   {
    "duration": 11,
    "start_time": "2024-11-26T03:36:45.034Z"
   },
   {
    "duration": 4,
    "start_time": "2024-11-26T03:36:46.010Z"
   },
   {
    "duration": 11,
    "start_time": "2024-11-26T03:36:46.240Z"
   },
   {
    "duration": 10,
    "start_time": "2024-11-26T03:36:46.634Z"
   },
   {
    "duration": 65,
    "start_time": "2024-11-26T03:36:46.749Z"
   },
   {
    "duration": 2,
    "start_time": "2024-11-26T03:36:47.342Z"
   },
   {
    "duration": 2,
    "start_time": "2024-11-26T03:36:47.604Z"
   },
   {
    "duration": 3,
    "start_time": "2024-11-26T03:36:47.884Z"
   },
   {
    "duration": 2,
    "start_time": "2024-11-26T04:10:39.374Z"
   },
   {
    "duration": 3,
    "start_time": "2024-11-26T04:11:56.989Z"
   },
   {
    "duration": 3,
    "start_time": "2024-11-26T04:13:48.438Z"
   },
   {
    "duration": 5,
    "start_time": "2024-11-26T04:15:25.706Z"
   },
   {
    "duration": 3,
    "start_time": "2024-11-26T04:17:09.862Z"
   },
   {
    "duration": 4,
    "start_time": "2024-11-26T04:20:34.891Z"
   },
   {
    "duration": 5,
    "start_time": "2024-11-26T04:20:56.206Z"
   },
   {
    "duration": 5,
    "start_time": "2024-11-26T04:21:05.279Z"
   },
   {
    "duration": 4,
    "start_time": "2024-11-26T04:21:22.375Z"
   },
   {
    "duration": 6,
    "start_time": "2024-11-26T04:21:30.914Z"
   },
   {
    "duration": 4,
    "start_time": "2024-11-26T04:21:38.259Z"
   },
   {
    "duration": 4,
    "start_time": "2024-11-26T04:21:48.475Z"
   },
   {
    "duration": 5,
    "start_time": "2024-11-26T04:22:04.729Z"
   },
   {
    "duration": 5,
    "start_time": "2024-11-26T04:22:37.435Z"
   },
   {
    "duration": 3,
    "start_time": "2024-11-26T04:23:49.389Z"
   },
   {
    "duration": 3,
    "start_time": "2024-11-26T04:24:46.180Z"
   },
   {
    "duration": 3,
    "start_time": "2024-11-26T04:24:51.999Z"
   },
   {
    "duration": 3,
    "start_time": "2024-11-26T04:24:54.727Z"
   },
   {
    "duration": 4,
    "start_time": "2024-11-26T04:26:23.884Z"
   },
   {
    "duration": 2624,
    "start_time": "2024-11-26T13:41:34.762Z"
   },
   {
    "duration": 294,
    "start_time": "2024-11-26T13:41:37.389Z"
   },
   {
    "duration": 4,
    "start_time": "2024-11-26T13:41:37.685Z"
   },
   {
    "duration": 9,
    "start_time": "2024-11-26T13:41:38.895Z"
   },
   {
    "duration": 10,
    "start_time": "2024-11-26T13:41:39.073Z"
   },
   {
    "duration": 4,
    "start_time": "2024-11-26T13:41:39.375Z"
   },
   {
    "duration": 11,
    "start_time": "2024-11-26T13:41:39.667Z"
   },
   {
    "duration": 7,
    "start_time": "2024-11-26T13:41:39.874Z"
   },
   {
    "duration": 3,
    "start_time": "2024-11-26T13:41:40.239Z"
   },
   {
    "duration": 7,
    "start_time": "2024-11-26T13:41:40.406Z"
   },
   {
    "duration": 11,
    "start_time": "2024-11-26T13:41:40.589Z"
   },
   {
    "duration": 86,
    "start_time": "2024-11-26T13:41:41.494Z"
   },
   {
    "duration": 4,
    "start_time": "2024-11-26T13:41:42.326Z"
   },
   {
    "duration": 27,
    "start_time": "2024-11-26T13:41:42.947Z"
   },
   {
    "duration": 586,
    "start_time": "2024-11-26T13:41:43.144Z"
   },
   {
    "duration": 24,
    "start_time": "2024-11-26T13:41:44.239Z"
   },
   {
    "duration": 445,
    "start_time": "2024-11-26T13:41:44.422Z"
   },
   {
    "duration": 24,
    "start_time": "2024-11-26T13:41:44.901Z"
   },
   {
    "duration": 488,
    "start_time": "2024-11-26T13:41:45.076Z"
   },
   {
    "duration": 11,
    "start_time": "2024-11-26T13:41:48.709Z"
   },
   {
    "duration": 11,
    "start_time": "2024-11-26T13:41:54.687Z"
   },
   {
    "duration": 11,
    "start_time": "2024-11-26T13:41:55.105Z"
   },
   {
    "duration": 8,
    "start_time": "2024-11-26T13:41:56.650Z"
   },
   {
    "duration": 7,
    "start_time": "2024-11-26T13:41:57.032Z"
   },
   {
    "duration": 2,
    "start_time": "2024-11-26T13:41:58.369Z"
   },
   {
    "duration": 2,
    "start_time": "2024-11-26T13:41:58.871Z"
   },
   {
    "duration": 10,
    "start_time": "2024-11-26T13:41:59.819Z"
   },
   {
    "duration": 10,
    "start_time": "2024-11-26T13:42:00.111Z"
   },
   {
    "duration": 9,
    "start_time": "2024-11-26T13:42:00.818Z"
   },
   {
    "duration": 11,
    "start_time": "2024-11-26T13:42:01.187Z"
   },
   {
    "duration": 10,
    "start_time": "2024-11-26T13:42:01.613Z"
   },
   {
    "duration": 10,
    "start_time": "2024-11-26T13:42:01.790Z"
   },
   {
    "duration": 3,
    "start_time": "2024-11-26T13:42:09.279Z"
   },
   {
    "duration": 10,
    "start_time": "2024-11-26T13:42:10.323Z"
   },
   {
    "duration": 12,
    "start_time": "2024-11-26T13:42:11.267Z"
   },
   {
    "duration": 12,
    "start_time": "2024-11-26T13:42:11.620Z"
   },
   {
    "duration": 3,
    "start_time": "2024-11-26T13:42:13.284Z"
   },
   {
    "duration": 12,
    "start_time": "2024-11-26T13:42:14.401Z"
   },
   {
    "duration": 11,
    "start_time": "2024-11-26T13:42:14.820Z"
   },
   {
    "duration": 10,
    "start_time": "2024-11-26T13:42:15.240Z"
   },
   {
    "duration": 3,
    "start_time": "2024-11-26T13:42:16.505Z"
   },
   {
    "duration": 3,
    "start_time": "2024-11-26T13:42:17.752Z"
   },
   {
    "duration": 2,
    "start_time": "2024-11-26T13:42:18.553Z"
   },
   {
    "duration": 3,
    "start_time": "2024-11-26T13:42:18.981Z"
   },
   {
    "duration": 3,
    "start_time": "2024-11-26T13:42:46.189Z"
   },
   {
    "duration": 3,
    "start_time": "2024-11-26T13:42:46.806Z"
   },
   {
    "duration": 3,
    "start_time": "2024-11-26T13:42:47.123Z"
   },
   {
    "duration": 3,
    "start_time": "2024-11-26T14:03:16.544Z"
   },
   {
    "duration": 2,
    "start_time": "2024-11-26T14:10:39.218Z"
   },
   {
    "duration": 3,
    "start_time": "2024-11-26T14:11:58.901Z"
   },
   {
    "duration": 3,
    "start_time": "2024-11-26T14:12:53.044Z"
   },
   {
    "duration": 13,
    "start_time": "2024-11-26T14:24:31.717Z"
   },
   {
    "duration": 3,
    "start_time": "2024-11-26T14:27:23.182Z"
   },
   {
    "duration": 7,
    "start_time": "2024-11-26T14:27:46.810Z"
   },
   {
    "duration": 2688,
    "start_time": "2024-11-26T14:50:56.474Z"
   },
   {
    "duration": 295,
    "start_time": "2024-11-26T14:50:59.164Z"
   },
   {
    "duration": 4,
    "start_time": "2024-11-26T14:50:59.461Z"
   },
   {
    "duration": 10,
    "start_time": "2024-11-26T14:50:59.467Z"
   },
   {
    "duration": 11,
    "start_time": "2024-11-26T14:50:59.478Z"
   },
   {
    "duration": 4,
    "start_time": "2024-11-26T14:50:59.490Z"
   },
   {
    "duration": 10,
    "start_time": "2024-11-26T14:51:00.271Z"
   },
   {
    "duration": 7,
    "start_time": "2024-11-26T14:51:00.426Z"
   },
   {
    "duration": 3,
    "start_time": "2024-11-26T14:51:00.748Z"
   },
   {
    "duration": 8,
    "start_time": "2024-11-26T14:51:00.907Z"
   },
   {
    "duration": 11,
    "start_time": "2024-11-26T14:51:01.107Z"
   },
   {
    "duration": 88,
    "start_time": "2024-11-26T14:51:01.464Z"
   },
   {
    "duration": 4,
    "start_time": "2024-11-26T14:51:01.982Z"
   },
   {
    "duration": 28,
    "start_time": "2024-11-26T14:51:02.358Z"
   },
   {
    "duration": 532,
    "start_time": "2024-11-26T14:51:02.540Z"
   },
   {
    "duration": 24,
    "start_time": "2024-11-26T14:51:03.096Z"
   },
   {
    "duration": 539,
    "start_time": "2024-11-26T14:51:03.342Z"
   },
   {
    "duration": 24,
    "start_time": "2024-11-26T14:51:04.211Z"
   },
   {
    "duration": 501,
    "start_time": "2024-11-26T14:51:04.396Z"
   },
   {
    "duration": 10,
    "start_time": "2024-11-26T14:51:05.597Z"
   },
   {
    "duration": 11,
    "start_time": "2024-11-26T14:51:06.150Z"
   },
   {
    "duration": 10,
    "start_time": "2024-11-26T14:51:06.542Z"
   },
   {
    "duration": 8,
    "start_time": "2024-11-26T14:51:07.715Z"
   },
   {
    "duration": 7,
    "start_time": "2024-11-26T14:51:08.102Z"
   },
   {
    "duration": 2,
    "start_time": "2024-11-26T14:51:08.690Z"
   },
   {
    "duration": 2,
    "start_time": "2024-11-26T14:51:08.876Z"
   },
   {
    "duration": 11,
    "start_time": "2024-11-26T14:51:09.294Z"
   },
   {
    "duration": 10,
    "start_time": "2024-11-26T14:51:09.494Z"
   },
   {
    "duration": 10,
    "start_time": "2024-11-26T14:51:09.914Z"
   },
   {
    "duration": 10,
    "start_time": "2024-11-26T14:51:10.124Z"
   },
   {
    "duration": 10,
    "start_time": "2024-11-26T14:51:10.633Z"
   },
   {
    "duration": 11,
    "start_time": "2024-11-26T14:51:10.791Z"
   },
   {
    "duration": 3,
    "start_time": "2024-11-26T14:51:11.514Z"
   },
   {
    "duration": 11,
    "start_time": "2024-11-26T14:51:12.007Z"
   },
   {
    "duration": 12,
    "start_time": "2024-11-26T14:51:12.424Z"
   },
   {
    "duration": 13,
    "start_time": "2024-11-26T14:51:12.590Z"
   },
   {
    "duration": 3,
    "start_time": "2024-11-26T14:51:13.483Z"
   },
   {
    "duration": 11,
    "start_time": "2024-11-26T14:51:13.676Z"
   },
   {
    "duration": 15,
    "start_time": "2024-11-26T14:51:13.841Z"
   },
   {
    "duration": 11,
    "start_time": "2024-11-26T14:51:14.024Z"
   },
   {
    "duration": 2,
    "start_time": "2024-11-26T14:51:14.616Z"
   },
   {
    "duration": 2,
    "start_time": "2024-11-26T14:51:15.014Z"
   },
   {
    "duration": 2,
    "start_time": "2024-11-26T14:51:15.416Z"
   },
   {
    "duration": 3,
    "start_time": "2024-11-26T14:51:15.610Z"
   },
   {
    "duration": 3,
    "start_time": "2024-11-26T14:51:15.826Z"
   },
   {
    "duration": 4,
    "start_time": "2024-11-26T14:51:16.197Z"
   },
   {
    "duration": 4,
    "start_time": "2024-11-26T14:51:16.375Z"
   },
   {
    "duration": 3,
    "start_time": "2024-11-26T14:51:18.330Z"
   },
   {
    "duration": 12,
    "start_time": "2024-11-26T14:51:19.102Z"
   },
   {
    "duration": 7,
    "start_time": "2024-11-26T14:51:19.613Z"
   },
   {
    "duration": 3,
    "start_time": "2024-11-26T14:51:28.846Z"
   },
   {
    "duration": 11,
    "start_time": "2024-11-26T14:51:29.468Z"
   },
   {
    "duration": 7,
    "start_time": "2024-11-26T14:51:29.731Z"
   },
   {
    "duration": 3,
    "start_time": "2024-11-26T14:51:57.163Z"
   },
   {
    "duration": 13,
    "start_time": "2024-11-26T14:51:57.604Z"
   },
   {
    "duration": 8,
    "start_time": "2024-11-26T14:51:58.104Z"
   },
   {
    "duration": 2727,
    "start_time": "2024-11-26T21:59:35.188Z"
   },
   {
    "duration": 3,
    "start_time": "2024-11-26T22:08:20.989Z"
   },
   {
    "duration": 294,
    "start_time": "2024-11-26T22:08:21.244Z"
   },
   {
    "duration": 4,
    "start_time": "2024-11-26T22:08:21.621Z"
   },
   {
    "duration": 9,
    "start_time": "2024-11-26T22:08:21.809Z"
   },
   {
    "duration": 12,
    "start_time": "2024-11-26T22:08:21.975Z"
   },
   {
    "duration": 4,
    "start_time": "2024-11-26T22:08:22.255Z"
   },
   {
    "duration": 11,
    "start_time": "2024-11-26T22:08:22.507Z"
   },
   {
    "duration": 7,
    "start_time": "2024-11-26T22:08:22.656Z"
   },
   {
    "duration": 4,
    "start_time": "2024-11-26T22:08:23.005Z"
   },
   {
    "duration": 7,
    "start_time": "2024-11-26T22:08:23.195Z"
   },
   {
    "duration": 13,
    "start_time": "2024-11-26T22:08:23.369Z"
   },
   {
    "duration": 83,
    "start_time": "2024-11-26T22:08:23.650Z"
   },
   {
    "duration": 4,
    "start_time": "2024-11-26T22:08:24.163Z"
   },
   {
    "duration": 27,
    "start_time": "2024-11-26T22:08:24.520Z"
   },
   {
    "duration": 502,
    "start_time": "2024-11-26T22:08:24.703Z"
   },
   {
    "duration": 26,
    "start_time": "2024-11-26T22:08:25.243Z"
   },
   {
    "duration": 515,
    "start_time": "2024-11-26T22:08:25.437Z"
   },
   {
    "duration": 26,
    "start_time": "2024-11-26T22:08:25.954Z"
   },
   {
    "duration": 499,
    "start_time": "2024-11-26T22:08:26.142Z"
   },
   {
    "duration": 11,
    "start_time": "2024-11-26T22:08:26.814Z"
   },
   {
    "duration": 13,
    "start_time": "2024-11-26T22:08:27.176Z"
   },
   {
    "duration": 11,
    "start_time": "2024-11-26T22:08:27.542Z"
   },
   {
    "duration": 7,
    "start_time": "2024-11-26T22:08:28.619Z"
   },
   {
    "duration": 10,
    "start_time": "2024-11-26T22:08:29.024Z"
   },
   {
    "duration": 3,
    "start_time": "2024-11-26T22:08:29.543Z"
   },
   {
    "duration": 2,
    "start_time": "2024-11-26T22:08:29.749Z"
   },
   {
    "duration": 10,
    "start_time": "2024-11-26T22:08:30.122Z"
   },
   {
    "duration": 12,
    "start_time": "2024-11-26T22:08:30.303Z"
   },
   {
    "duration": 9,
    "start_time": "2024-11-26T22:08:30.640Z"
   },
   {
    "duration": 10,
    "start_time": "2024-11-26T22:08:30.840Z"
   },
   {
    "duration": 8,
    "start_time": "2024-11-26T22:08:31.281Z"
   },
   {
    "duration": 10,
    "start_time": "2024-11-26T22:08:31.439Z"
   },
   {
    "duration": 4,
    "start_time": "2024-11-26T22:08:32.235Z"
   },
   {
    "duration": 12,
    "start_time": "2024-11-26T22:08:32.631Z"
   },
   {
    "duration": 12,
    "start_time": "2024-11-26T22:08:32.837Z"
   },
   {
    "duration": 11,
    "start_time": "2024-11-26T22:08:33.074Z"
   },
   {
    "duration": 3,
    "start_time": "2024-11-26T22:08:33.901Z"
   },
   {
    "duration": 17,
    "start_time": "2024-11-26T22:08:34.100Z"
   },
   {
    "duration": 12,
    "start_time": "2024-11-26T22:08:34.304Z"
   },
   {
    "duration": 10,
    "start_time": "2024-11-26T22:08:34.527Z"
   },
   {
    "duration": 3,
    "start_time": "2024-11-26T22:08:35.120Z"
   },
   {
    "duration": 3,
    "start_time": "2024-11-26T22:08:35.497Z"
   },
   {
    "duration": 3,
    "start_time": "2024-11-26T22:08:35.870Z"
   },
   {
    "duration": 3,
    "start_time": "2024-11-26T22:08:36.068Z"
   },
   {
    "duration": 3,
    "start_time": "2024-11-26T22:08:36.253Z"
   },
   {
    "duration": 4,
    "start_time": "2024-11-26T22:08:36.445Z"
   },
   {
    "duration": 5,
    "start_time": "2024-11-26T22:08:36.622Z"
   },
   {
    "duration": 4,
    "start_time": "2024-11-26T22:08:37.994Z"
   },
   {
    "duration": 13,
    "start_time": "2024-11-26T22:08:38.265Z"
   },
   {
    "duration": 11,
    "start_time": "2024-11-26T22:08:38.485Z"
   },
   {
    "duration": 3,
    "start_time": "2024-11-26T22:08:40.248Z"
   },
   {
    "duration": 3,
    "start_time": "2024-11-26T22:10:31.778Z"
   },
   {
    "duration": 2721,
    "start_time": "2024-11-27T22:11:24.444Z"
   },
   {
    "duration": 292,
    "start_time": "2024-11-27T22:11:27.168Z"
   },
   {
    "duration": 5,
    "start_time": "2024-11-27T22:11:27.463Z"
   },
   {
    "duration": 15,
    "start_time": "2024-11-27T22:11:27.471Z"
   },
   {
    "duration": 12,
    "start_time": "2024-11-27T22:11:27.488Z"
   },
   {
    "duration": 3,
    "start_time": "2024-11-27T22:11:27.502Z"
   },
   {
    "duration": 11,
    "start_time": "2024-11-27T22:11:27.507Z"
   },
   {
    "duration": 7,
    "start_time": "2024-11-27T22:11:27.520Z"
   },
   {
    "duration": 3,
    "start_time": "2024-11-27T22:11:27.529Z"
   },
   {
    "duration": 7,
    "start_time": "2024-11-27T22:11:27.534Z"
   },
   {
    "duration": 50,
    "start_time": "2024-11-27T22:11:27.542Z"
   },
   {
    "duration": 84,
    "start_time": "2024-11-27T22:11:27.593Z"
   },
   {
    "duration": 3,
    "start_time": "2024-11-27T22:11:29.117Z"
   },
   {
    "duration": 27,
    "start_time": "2024-11-27T22:11:29.486Z"
   },
   {
    "duration": 525,
    "start_time": "2024-11-27T22:11:29.695Z"
   },
   {
    "duration": 24,
    "start_time": "2024-11-27T22:11:30.273Z"
   },
   {
    "duration": 548,
    "start_time": "2024-11-27T22:11:30.480Z"
   },
   {
    "duration": 24,
    "start_time": "2024-11-27T22:11:31.175Z"
   },
   {
    "duration": 491,
    "start_time": "2024-11-27T22:11:31.361Z"
   },
   {
    "duration": 11,
    "start_time": "2024-11-27T22:11:32.711Z"
   },
   {
    "duration": 11,
    "start_time": "2024-11-27T22:11:33.191Z"
   },
   {
    "duration": 12,
    "start_time": "2024-11-27T22:11:33.576Z"
   },
   {
    "duration": 7,
    "start_time": "2024-11-27T22:11:34.754Z"
   },
   {
    "duration": 7,
    "start_time": "2024-11-27T22:11:35.129Z"
   },
   {
    "duration": 3,
    "start_time": "2024-11-27T22:11:35.742Z"
   },
   {
    "duration": 2,
    "start_time": "2024-11-27T22:11:35.929Z"
   },
   {
    "duration": 9,
    "start_time": "2024-11-27T22:11:36.404Z"
   },
   {
    "duration": 11,
    "start_time": "2024-11-27T22:11:36.645Z"
   },
   {
    "duration": 10,
    "start_time": "2024-11-27T22:11:37.711Z"
   },
   {
    "duration": 10,
    "start_time": "2024-11-27T22:11:38.173Z"
   },
   {
    "duration": 10,
    "start_time": "2024-11-27T22:11:38.697Z"
   },
   {
    "duration": 11,
    "start_time": "2024-11-27T22:11:38.959Z"
   },
   {
    "duration": 3,
    "start_time": "2024-11-27T22:11:39.749Z"
   },
   {
    "duration": 12,
    "start_time": "2024-11-27T22:11:40.269Z"
   },
   {
    "duration": 12,
    "start_time": "2024-11-27T22:11:40.461Z"
   },
   {
    "duration": 12,
    "start_time": "2024-11-27T22:11:40.662Z"
   },
   {
    "duration": 3,
    "start_time": "2024-11-27T22:11:41.481Z"
   },
   {
    "duration": 12,
    "start_time": "2024-11-27T22:11:41.686Z"
   },
   {
    "duration": 10,
    "start_time": "2024-11-27T22:11:41.843Z"
   },
   {
    "duration": 10,
    "start_time": "2024-11-27T22:11:42.028Z"
   },
   {
    "duration": 4,
    "start_time": "2024-11-27T22:11:42.636Z"
   },
   {
    "duration": 3,
    "start_time": "2024-11-27T22:11:43.002Z"
   },
   {
    "duration": 3,
    "start_time": "2024-11-27T22:11:44.016Z"
   },
   {
    "duration": 4,
    "start_time": "2024-11-27T22:11:44.552Z"
   },
   {
    "duration": 3,
    "start_time": "2024-11-27T22:11:44.781Z"
   },
   {
    "duration": 3,
    "start_time": "2024-11-27T22:11:45.035Z"
   },
   {
    "duration": 3,
    "start_time": "2024-11-27T22:11:45.266Z"
   },
   {
    "duration": 3,
    "start_time": "2024-11-27T22:11:47.415Z"
   },
   {
    "duration": 12,
    "start_time": "2024-11-27T22:11:47.987Z"
   },
   {
    "duration": 7,
    "start_time": "2024-11-27T22:11:48.161Z"
   },
   {
    "duration": 3,
    "start_time": "2024-11-27T22:17:19.290Z"
   },
   {
    "duration": 3,
    "start_time": "2024-11-27T22:18:44.904Z"
   },
   {
    "duration": 6,
    "start_time": "2024-11-27T22:22:02.851Z"
   },
   {
    "duration": 3,
    "start_time": "2024-11-27T22:22:09.540Z"
   },
   {
    "duration": 3,
    "start_time": "2024-11-27T22:28:32.827Z"
   },
   {
    "duration": 3,
    "start_time": "2024-11-27T22:30:09.692Z"
   },
   {
    "duration": 4,
    "start_time": "2024-11-27T22:35:02.877Z"
   },
   {
    "duration": 4,
    "start_time": "2024-11-27T22:36:45.846Z"
   },
   {
    "duration": 4,
    "start_time": "2024-11-27T22:37:51.740Z"
   },
   {
    "duration": 4,
    "start_time": "2024-11-27T22:38:39.936Z"
   },
   {
    "duration": 5,
    "start_time": "2024-11-27T22:39:56.255Z"
   },
   {
    "duration": 5,
    "start_time": "2024-11-27T22:40:04.783Z"
   },
   {
    "duration": 4,
    "start_time": "2024-11-27T22:43:02.184Z"
   },
   {
    "duration": 4,
    "start_time": "2024-11-27T22:46:21.276Z"
   },
   {
    "duration": 241,
    "start_time": "2024-11-27T22:49:09.443Z"
   },
   {
    "duration": 4,
    "start_time": "2024-11-27T22:49:14.236Z"
   },
   {
    "duration": 754,
    "start_time": "2024-11-27T22:49:15.742Z"
   },
   {
    "duration": 5,
    "start_time": "2024-11-27T22:52:17.549Z"
   },
   {
    "duration": 983,
    "start_time": "2024-11-27T22:52:18.460Z"
   },
   {
    "duration": 4,
    "start_time": "2024-11-27T22:52:50.014Z"
   },
   {
    "duration": 783,
    "start_time": "2024-11-27T22:52:50.938Z"
   },
   {
    "duration": 5,
    "start_time": "2024-11-27T22:53:25.552Z"
   },
   {
    "duration": 757,
    "start_time": "2024-11-27T22:53:26.388Z"
   },
   {
    "duration": 2226,
    "start_time": "2024-11-27T22:54:14.621Z"
   },
   {
    "duration": 260,
    "start_time": "2024-11-27T23:03:57.374Z"
   },
   {
    "duration": 390,
    "start_time": "2024-11-27T23:05:56.889Z"
   },
   {
    "duration": 376,
    "start_time": "2024-11-27T23:07:36.415Z"
   },
   {
    "duration": 6,
    "start_time": "2024-11-27T23:08:41.743Z"
   },
   {
    "duration": 488,
    "start_time": "2024-11-27T23:08:54.741Z"
   },
   {
    "duration": 568,
    "start_time": "2024-11-27T23:09:44.247Z"
   },
   {
    "duration": 506,
    "start_time": "2024-11-27T23:09:50.838Z"
   },
   {
    "duration": 3,
    "start_time": "2024-11-27T23:23:57.953Z"
   },
   {
    "duration": 225,
    "start_time": "2024-11-27T23:23:58.125Z"
   },
   {
    "duration": 3,
    "start_time": "2024-11-27T23:23:58.456Z"
   },
   {
    "duration": 8,
    "start_time": "2024-11-27T23:23:58.631Z"
   },
   {
    "duration": 11,
    "start_time": "2024-11-27T23:23:58.820Z"
   },
   {
    "duration": 3,
    "start_time": "2024-11-27T23:23:59.171Z"
   },
   {
    "duration": 11,
    "start_time": "2024-11-27T23:23:59.348Z"
   },
   {
    "duration": 7,
    "start_time": "2024-11-27T23:23:59.532Z"
   },
   {
    "duration": 4,
    "start_time": "2024-11-27T23:23:59.908Z"
   },
   {
    "duration": 8,
    "start_time": "2024-11-27T23:24:00.063Z"
   },
   {
    "duration": 11,
    "start_time": "2024-11-27T23:24:00.264Z"
   },
   {
    "duration": 81,
    "start_time": "2024-11-27T23:24:00.638Z"
   },
   {
    "duration": 4,
    "start_time": "2024-11-27T23:24:01.210Z"
   },
   {
    "duration": 23,
    "start_time": "2024-11-27T23:24:01.614Z"
   },
   {
    "duration": 458,
    "start_time": "2024-11-27T23:24:01.796Z"
   },
   {
    "duration": 25,
    "start_time": "2024-11-27T23:24:02.391Z"
   },
   {
    "duration": 466,
    "start_time": "2024-11-27T23:24:02.563Z"
   },
   {
    "duration": 29,
    "start_time": "2024-11-27T23:24:03.160Z"
   },
   {
    "duration": 610,
    "start_time": "2024-11-27T23:24:03.335Z"
   },
   {
    "duration": 10,
    "start_time": "2024-11-27T23:24:04.023Z"
   },
   {
    "duration": 10,
    "start_time": "2024-11-27T23:24:04.334Z"
   },
   {
    "duration": 10,
    "start_time": "2024-11-27T23:24:04.761Z"
   },
   {
    "duration": 7,
    "start_time": "2024-11-27T23:24:05.872Z"
   },
   {
    "duration": 5,
    "start_time": "2024-11-27T23:24:06.291Z"
   },
   {
    "duration": 2,
    "start_time": "2024-11-27T23:24:06.874Z"
   },
   {
    "duration": 2,
    "start_time": "2024-11-27T23:24:07.053Z"
   },
   {
    "duration": 9,
    "start_time": "2024-11-27T23:24:07.388Z"
   },
   {
    "duration": 11,
    "start_time": "2024-11-27T23:24:07.658Z"
   },
   {
    "duration": 9,
    "start_time": "2024-11-27T23:24:08.050Z"
   },
   {
    "duration": 10,
    "start_time": "2024-11-27T23:24:08.267Z"
   },
   {
    "duration": 9,
    "start_time": "2024-11-27T23:24:08.624Z"
   },
   {
    "duration": 11,
    "start_time": "2024-11-27T23:24:08.822Z"
   },
   {
    "duration": 3,
    "start_time": "2024-11-27T23:24:09.619Z"
   },
   {
    "duration": 11,
    "start_time": "2024-11-27T23:24:10.010Z"
   },
   {
    "duration": 10,
    "start_time": "2024-11-27T23:24:10.202Z"
   },
   {
    "duration": 10,
    "start_time": "2024-11-27T23:24:10.417Z"
   },
   {
    "duration": 4,
    "start_time": "2024-11-27T23:24:11.272Z"
   },
   {
    "duration": 23,
    "start_time": "2024-11-27T23:24:11.547Z"
   },
   {
    "duration": 12,
    "start_time": "2024-11-27T23:24:11.696Z"
   },
   {
    "duration": 11,
    "start_time": "2024-11-27T23:24:11.846Z"
   },
   {
    "duration": 4,
    "start_time": "2024-11-27T23:24:12.369Z"
   },
   {
    "duration": 3,
    "start_time": "2024-11-27T23:24:12.713Z"
   },
   {
    "duration": 3,
    "start_time": "2024-11-27T23:24:12.997Z"
   },
   {
    "duration": 3,
    "start_time": "2024-11-27T23:24:13.185Z"
   },
   {
    "duration": 3,
    "start_time": "2024-11-27T23:24:13.485Z"
   },
   {
    "duration": 2,
    "start_time": "2024-11-27T23:24:13.634Z"
   },
   {
    "duration": 5,
    "start_time": "2024-11-27T23:24:13.817Z"
   },
   {
    "duration": 3,
    "start_time": "2024-11-27T23:24:14.772Z"
   },
   {
    "duration": 12,
    "start_time": "2024-11-27T23:24:14.948Z"
   },
   {
    "duration": 7,
    "start_time": "2024-11-27T23:24:15.167Z"
   },
   {
    "duration": 4,
    "start_time": "2024-11-27T23:24:16.005Z"
   },
   {
    "duration": 2291,
    "start_time": "2024-11-27T23:24:16.289Z"
   },
   {
    "duration": 499,
    "start_time": "2024-11-27T23:24:18.582Z"
   },
   {
    "duration": 497,
    "start_time": "2024-11-27T23:28:31.011Z"
   },
   {
    "duration": 10,
    "start_time": "2024-11-27T23:37:14.684Z"
   },
   {
    "duration": 5,
    "start_time": "2024-11-27T23:42:53.001Z"
   },
   {
    "duration": 2243,
    "start_time": "2024-11-27T23:42:53.765Z"
   },
   {
    "duration": 481,
    "start_time": "2024-11-27T23:42:56.010Z"
   },
   {
    "duration": 10,
    "start_time": "2024-11-27T23:42:59.707Z"
   },
   {
    "duration": 5,
    "start_time": "2024-11-27T23:44:27.687Z"
   },
   {
    "duration": 2239,
    "start_time": "2024-11-27T23:44:28.058Z"
   },
   {
    "duration": 501,
    "start_time": "2024-11-27T23:44:30.299Z"
   },
   {
    "duration": 9,
    "start_time": "2024-11-27T23:44:30.802Z"
   },
   {
    "duration": 5,
    "start_time": "2024-11-27T23:44:54.821Z"
   },
   {
    "duration": 2216,
    "start_time": "2024-11-27T23:44:55.148Z"
   },
   {
    "duration": 539,
    "start_time": "2024-11-27T23:44:57.367Z"
   },
   {
    "duration": 9,
    "start_time": "2024-11-27T23:44:57.909Z"
   },
   {
    "duration": 120,
    "start_time": "2024-11-27T23:45:36.022Z"
   },
   {
    "duration": 2228,
    "start_time": "2024-11-27T23:45:36.367Z"
   },
   {
    "duration": 503,
    "start_time": "2024-11-27T23:45:38.598Z"
   },
   {
    "duration": 10,
    "start_time": "2024-11-27T23:45:39.103Z"
   },
   {
    "duration": 5,
    "start_time": "2024-11-27T23:46:28.700Z"
   },
   {
    "duration": 2278,
    "start_time": "2024-11-27T23:46:28.963Z"
   },
   {
    "duration": 520,
    "start_time": "2024-11-27T23:46:31.243Z"
   },
   {
    "duration": 9,
    "start_time": "2024-11-27T23:46:31.765Z"
   },
   {
    "duration": 12,
    "start_time": "2024-11-27T23:46:31.776Z"
   },
   {
    "duration": 5,
    "start_time": "2024-11-27T23:47:40.634Z"
   },
   {
    "duration": 2310,
    "start_time": "2024-11-27T23:47:40.934Z"
   },
   {
    "duration": 559,
    "start_time": "2024-11-27T23:47:43.246Z"
   },
   {
    "duration": 10,
    "start_time": "2024-11-27T23:47:43.806Z"
   },
   {
    "duration": 4,
    "start_time": "2024-11-28T01:13:32.272Z"
   },
   {
    "duration": 207,
    "start_time": "2024-11-28T01:13:32.462Z"
   },
   {
    "duration": 4,
    "start_time": "2024-11-28T01:13:33.120Z"
   },
   {
    "duration": 7,
    "start_time": "2024-11-28T01:13:33.272Z"
   },
   {
    "duration": 12,
    "start_time": "2024-11-28T01:13:33.741Z"
   },
   {
    "duration": 4,
    "start_time": "2024-11-28T01:13:34.749Z"
   },
   {
    "duration": 11,
    "start_time": "2024-11-28T01:13:34.905Z"
   },
   {
    "duration": 9,
    "start_time": "2024-11-28T01:13:35.196Z"
   },
   {
    "duration": 4,
    "start_time": "2024-11-28T01:13:35.581Z"
   },
   {
    "duration": 8,
    "start_time": "2024-11-28T01:13:35.762Z"
   },
   {
    "duration": 11,
    "start_time": "2024-11-28T01:13:35.949Z"
   },
   {
    "duration": 85,
    "start_time": "2024-11-28T01:13:36.263Z"
   },
   {
    "duration": 3,
    "start_time": "2024-11-28T01:14:05.310Z"
   },
   {
    "duration": 23,
    "start_time": "2024-11-28T01:14:05.667Z"
   },
   {
    "duration": 461,
    "start_time": "2024-11-28T01:14:06.091Z"
   },
   {
    "duration": 24,
    "start_time": "2024-11-28T01:14:06.609Z"
   },
   {
    "duration": 603,
    "start_time": "2024-11-28T01:14:07.134Z"
   },
   {
    "duration": 24,
    "start_time": "2024-11-28T01:14:07.753Z"
   },
   {
    "duration": 462,
    "start_time": "2024-11-28T01:14:08.187Z"
   },
   {
    "duration": 10,
    "start_time": "2024-11-28T01:14:10.807Z"
   },
   {
    "duration": 11,
    "start_time": "2024-11-28T01:14:11.241Z"
   },
   {
    "duration": 10,
    "start_time": "2024-11-28T01:14:11.905Z"
   },
   {
    "duration": 8,
    "start_time": "2024-11-28T01:14:14.538Z"
   },
   {
    "duration": 5,
    "start_time": "2024-11-28T01:14:14.880Z"
   },
   {
    "duration": 2,
    "start_time": "2024-11-28T01:14:15.770Z"
   },
   {
    "duration": 2,
    "start_time": "2024-11-28T01:14:15.941Z"
   },
   {
    "duration": 9,
    "start_time": "2024-11-28T01:14:16.612Z"
   },
   {
    "duration": 11,
    "start_time": "2024-11-28T01:14:16.846Z"
   },
   {
    "duration": 9,
    "start_time": "2024-11-28T01:14:17.254Z"
   },
   {
    "duration": 11,
    "start_time": "2024-11-28T01:14:17.472Z"
   },
   {
    "duration": 9,
    "start_time": "2024-11-28T01:14:17.929Z"
   },
   {
    "duration": 11,
    "start_time": "2024-11-28T01:14:18.144Z"
   },
   {
    "duration": 3,
    "start_time": "2024-11-28T01:14:18.744Z"
   },
   {
    "duration": 10,
    "start_time": "2024-11-28T01:14:19.280Z"
   },
   {
    "duration": 10,
    "start_time": "2024-11-28T01:14:19.480Z"
   },
   {
    "duration": 11,
    "start_time": "2024-11-28T01:14:19.711Z"
   },
   {
    "duration": 3,
    "start_time": "2024-11-28T01:14:20.517Z"
   },
   {
    "duration": 12,
    "start_time": "2024-11-28T01:14:20.763Z"
   },
   {
    "duration": 11,
    "start_time": "2024-11-28T01:14:20.888Z"
   },
   {
    "duration": 11,
    "start_time": "2024-11-28T01:14:21.079Z"
   },
   {
    "duration": 2,
    "start_time": "2024-11-28T01:14:21.694Z"
   },
   {
    "duration": 2,
    "start_time": "2024-11-28T01:14:22.096Z"
   },
   {
    "duration": 3,
    "start_time": "2024-11-28T01:14:22.494Z"
   },
   {
    "duration": 4,
    "start_time": "2024-11-28T01:14:22.679Z"
   },
   {
    "duration": 3,
    "start_time": "2024-11-28T01:14:22.966Z"
   },
   {
    "duration": 4,
    "start_time": "2024-11-28T01:14:23.255Z"
   },
   {
    "duration": 4,
    "start_time": "2024-11-28T01:14:23.698Z"
   },
   {
    "duration": 3,
    "start_time": "2024-11-28T01:14:24.713Z"
   },
   {
    "duration": 12,
    "start_time": "2024-11-28T01:14:24.964Z"
   },
   {
    "duration": 7,
    "start_time": "2024-11-28T01:14:25.099Z"
   },
   {
    "duration": 6,
    "start_time": "2024-11-28T01:14:26.018Z"
   },
   {
    "duration": 2274,
    "start_time": "2024-11-28T01:14:26.536Z"
   },
   {
    "duration": 513,
    "start_time": "2024-11-28T01:14:28.812Z"
   },
   {
    "duration": 9,
    "start_time": "2024-11-28T01:14:29.327Z"
   }
  ],
  "kernelspec": {
   "display_name": "Python 3 (ipykernel)",
   "language": "python",
   "name": "python3"
  },
  "language_info": {
   "codemirror_mode": {
    "name": "ipython",
    "version": 3
   },
   "file_extension": ".py",
   "mimetype": "text/x-python",
   "name": "python",
   "nbconvert_exporter": "python",
   "pygments_lexer": "ipython3",
   "version": "3.9.19"
  },
  "toc": {
   "base_numbering": 1,
   "nav_menu": {},
   "number_sections": true,
   "sideBar": true,
   "skip_h1_title": true,
   "title_cell": "Table of Contents",
   "title_sidebar": "Contents",
   "toc_cell": false,
   "toc_position": {},
   "toc_section_display": true,
   "toc_window_display": false
  }
 },
 "nbformat": 4,
 "nbformat_minor": 2
}
